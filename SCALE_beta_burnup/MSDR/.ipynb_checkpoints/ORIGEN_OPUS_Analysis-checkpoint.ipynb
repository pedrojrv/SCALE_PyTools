{
 "cells": [
  {
   "cell_type": "code",
   "execution_count": 2,
   "metadata": {},
   "outputs": [],
   "source": [
    "import pandas as pd\n",
    "import numpy as np\n",
    "from decimal import Decimal"
   ]
  },
  {
   "cell_type": "code",
   "execution_count": 11,
   "metadata": {},
   "outputs": [],
   "source": [
    "path = \"./msdr.000000000000000000.plt\""
   ]
  },
  {
   "cell_type": "code",
   "execution_count": 12,
   "metadata": {},
   "outputs": [],
   "source": [
    "df = pd.read_csv(path, sep=\"\\s+\", skiprows=5)"
   ]
  },
  {
   "cell_type": "code",
   "execution_count": 13,
   "metadata": {},
   "outputs": [],
   "source": [
    "df_testing = df.copy()"
   ]
  },
  {
   "cell_type": "code",
   "execution_count": 15,
   "metadata": {},
   "outputs": [],
   "source": [
    "df_testing = df_testing.transpose()"
   ]
  },
  {
   "cell_type": "code",
   "execution_count": 17,
   "metadata": {},
   "outputs": [],
   "source": [
    "df_testing.reset_index(level=0, inplace=True)"
   ]
  },
  {
   "cell_type": "code",
   "execution_count": 19,
   "metadata": {},
   "outputs": [],
   "source": [
    "df_testing = df_testing.rename(columns = {'index':'time'})"
   ]
  },
  {
   "cell_type": "code",
   "execution_count": 20,
   "metadata": {},
   "outputs": [
    {
     "data": {
      "text/html": [
       "<div>\n",
       "<style scoped>\n",
       "    .dataframe tbody tr th:only-of-type {\n",
       "        vertical-align: middle;\n",
       "    }\n",
       "\n",
       "    .dataframe tbody tr th {\n",
       "        vertical-align: top;\n",
       "    }\n",
       "\n",
       "    .dataframe thead th {\n",
       "        text-align: right;\n",
       "    }\n",
       "</style>\n",
       "<table border=\"1\" class=\"dataframe\">\n",
       "  <thead>\n",
       "    <tr style=\"text-align: right;\">\n",
       "      <th></th>\n",
       "      <th>time</th>\n",
       "      <th>u238</th>\n",
       "      <th>f19</th>\n",
       "      <th>li7</th>\n",
       "      <th>u235</th>\n",
       "      <th>pu239</th>\n",
       "      <th>u236</th>\n",
       "      <th>pu241</th>\n",
       "      <th>pu240</th>\n",
       "      <th>xe136</th>\n",
       "      <th>...</th>\n",
       "      <th>tb154m</th>\n",
       "      <th>tb154</th>\n",
       "      <th>br76</th>\n",
       "      <th>tb152</th>\n",
       "      <th>rh100</th>\n",
       "      <th>rb82</th>\n",
       "      <th>sr82</th>\n",
       "      <th>pd100</th>\n",
       "      <th>subtotal</th>\n",
       "      <th>total</th>\n",
       "    </tr>\n",
       "  </thead>\n",
       "  <tbody>\n",
       "    <tr>\n",
       "      <th>0</th>\n",
       "      <td>0.000e+00</td>\n",
       "      <td>2.783</td>\n",
       "      <td>1.553</td>\n",
       "      <td>0.2278</td>\n",
       "      <td>0.1465</td>\n",
       "      <td>3.970000e-18</td>\n",
       "      <td>3.920000e-18</td>\n",
       "      <td>4.003000e-18</td>\n",
       "      <td>3.986000e-18</td>\n",
       "      <td>2.257000e-18</td>\n",
       "      <td>...</td>\n",
       "      <td>0.0</td>\n",
       "      <td>0.0</td>\n",
       "      <td>0.0</td>\n",
       "      <td>0.0</td>\n",
       "      <td>0.0</td>\n",
       "      <td>0.0</td>\n",
       "      <td>0.0</td>\n",
       "      <td>0.0</td>\n",
       "      <td>4.71</td>\n",
       "      <td>4.71</td>\n",
       "    </tr>\n",
       "    <tr>\n",
       "      <th>1</th>\n",
       "      <td>3.000e+01</td>\n",
       "      <td>2.783</td>\n",
       "      <td>1.553</td>\n",
       "      <td>0.2278</td>\n",
       "      <td>0.1458</td>\n",
       "      <td>3.744000e-04</td>\n",
       "      <td>1.380000e-04</td>\n",
       "      <td>1.206000e-08</td>\n",
       "      <td>1.568000e-06</td>\n",
       "      <td>2.552000e-05</td>\n",
       "      <td>...</td>\n",
       "      <td>0.0</td>\n",
       "      <td>0.0</td>\n",
       "      <td>0.0</td>\n",
       "      <td>0.0</td>\n",
       "      <td>0.0</td>\n",
       "      <td>0.0</td>\n",
       "      <td>0.0</td>\n",
       "      <td>0.0</td>\n",
       "      <td>4.71</td>\n",
       "      <td>4.71</td>\n",
       "    </tr>\n",
       "    <tr>\n",
       "      <th>2</th>\n",
       "      <td>6.000e+01</td>\n",
       "      <td>2.782</td>\n",
       "      <td>1.553</td>\n",
       "      <td>0.2278</td>\n",
       "      <td>0.1451</td>\n",
       "      <td>7.896000e-04</td>\n",
       "      <td>2.748000e-04</td>\n",
       "      <td>1.033000e-07</td>\n",
       "      <td>6.556000e-06</td>\n",
       "      <td>5.115000e-05</td>\n",
       "      <td>...</td>\n",
       "      <td>0.0</td>\n",
       "      <td>0.0</td>\n",
       "      <td>0.0</td>\n",
       "      <td>0.0</td>\n",
       "      <td>0.0</td>\n",
       "      <td>0.0</td>\n",
       "      <td>0.0</td>\n",
       "      <td>0.0</td>\n",
       "      <td>4.71</td>\n",
       "      <td>4.71</td>\n",
       "    </tr>\n",
       "    <tr>\n",
       "      <th>3</th>\n",
       "      <td>9.000e+01</td>\n",
       "      <td>2.782</td>\n",
       "      <td>1.553</td>\n",
       "      <td>0.2278</td>\n",
       "      <td>0.1444</td>\n",
       "      <td>1.197000e-03</td>\n",
       "      <td>4.104000e-04</td>\n",
       "      <td>3.535000e-07</td>\n",
       "      <td>1.480000e-05</td>\n",
       "      <td>7.676000e-05</td>\n",
       "      <td>...</td>\n",
       "      <td>0.0</td>\n",
       "      <td>0.0</td>\n",
       "      <td>0.0</td>\n",
       "      <td>0.0</td>\n",
       "      <td>0.0</td>\n",
       "      <td>0.0</td>\n",
       "      <td>0.0</td>\n",
       "      <td>0.0</td>\n",
       "      <td>4.71</td>\n",
       "      <td>4.71</td>\n",
       "    </tr>\n",
       "    <tr>\n",
       "      <th>4</th>\n",
       "      <td>1.200e+02</td>\n",
       "      <td>2.781</td>\n",
       "      <td>1.553</td>\n",
       "      <td>0.2278</td>\n",
       "      <td>0.1437</td>\n",
       "      <td>1.597000e-03</td>\n",
       "      <td>5.448000e-04</td>\n",
       "      <td>8.364000e-07</td>\n",
       "      <td>2.610000e-05</td>\n",
       "      <td>1.024000e-04</td>\n",
       "      <td>...</td>\n",
       "      <td>0.0</td>\n",
       "      <td>0.0</td>\n",
       "      <td>0.0</td>\n",
       "      <td>0.0</td>\n",
       "      <td>0.0</td>\n",
       "      <td>0.0</td>\n",
       "      <td>0.0</td>\n",
       "      <td>0.0</td>\n",
       "      <td>4.71</td>\n",
       "      <td>4.71</td>\n",
       "    </tr>\n",
       "  </tbody>\n",
       "</table>\n",
       "<p>5 rows × 1660 columns</p>\n",
       "</div>"
      ],
      "text/plain": [
       "        time   u238    f19     li7    u235         pu239          u236  \\\n",
       "0  0.000e+00  2.783  1.553  0.2278  0.1465  3.970000e-18  3.920000e-18   \n",
       "1  3.000e+01  2.783  1.553  0.2278  0.1458  3.744000e-04  1.380000e-04   \n",
       "2  6.000e+01  2.782  1.553  0.2278  0.1451  7.896000e-04  2.748000e-04   \n",
       "3  9.000e+01  2.782  1.553  0.2278  0.1444  1.197000e-03  4.104000e-04   \n",
       "4  1.200e+02  2.781  1.553  0.2278  0.1437  1.597000e-03  5.448000e-04   \n",
       "\n",
       "          pu241         pu240         xe136  ...  tb154m  tb154  br76  tb152  \\\n",
       "0  4.003000e-18  3.986000e-18  2.257000e-18  ...     0.0    0.0   0.0    0.0   \n",
       "1  1.206000e-08  1.568000e-06  2.552000e-05  ...     0.0    0.0   0.0    0.0   \n",
       "2  1.033000e-07  6.556000e-06  5.115000e-05  ...     0.0    0.0   0.0    0.0   \n",
       "3  3.535000e-07  1.480000e-05  7.676000e-05  ...     0.0    0.0   0.0    0.0   \n",
       "4  8.364000e-07  2.610000e-05  1.024000e-04  ...     0.0    0.0   0.0    0.0   \n",
       "\n",
       "   rh100  rb82  sr82  pd100  subtotal  total  \n",
       "0    0.0   0.0   0.0    0.0      4.71   4.71  \n",
       "1    0.0   0.0   0.0    0.0      4.71   4.71  \n",
       "2    0.0   0.0   0.0    0.0      4.71   4.71  \n",
       "3    0.0   0.0   0.0    0.0      4.71   4.71  \n",
       "4    0.0   0.0   0.0    0.0      4.71   4.71  \n",
       "\n",
       "[5 rows x 1660 columns]"
      ]
     },
     "execution_count": 20,
     "metadata": {},
     "output_type": "execute_result"
    }
   ],
   "source": [
    "df_testing.head()"
   ]
  },
  {
   "cell_type": "code",
   "execution_count": 27,
   "metadata": {},
   "outputs": [
    {
     "data": {
      "text/plain": [
       "Text(0, 0.5, 'U-238 (g/cm3)')"
      ]
     },
     "execution_count": 27,
     "metadata": {},
     "output_type": "execute_result"
    },
    {
     "data": {
      "image/png": "[encoded data removed]",
      "text/plain": [
       "<Figure size 720x576 with 1 Axes>"
      ]
     },
     "metadata": {
      "needs_background": "light"
     },
     "output_type": "display_data"
    }
   ],
   "source": [
    "ax = df_testing.plot(x=\"time\", y=\"u238\", figsize=(10,8), title=\"Concentration vs Time\")\n",
    "ax.set_xlabel(\"Time (days)\")\n",
    "ax.set_ylabel(\"U-238 (g/cm3)\")"
   ]
  },
  {
   "cell_type": "code",
   "execution_count": null,
   "metadata": {},
   "outputs": [],
   "source": []
  }
 ],
 "metadata": {
  "kernelspec": {
   "display_name": "Python 3",
   "language": "python",
   "name": "python3"
  },
  "language_info": {
   "codemirror_mode": {
    "name": "ipython",
    "version": 3
   },
   "file_extension": ".py",
   "mimetype": "text/x-python",
   "name": "python",
   "nbconvert_exporter": "python",
   "pygments_lexer": "ipython3",
   "version": "3.7.2"
  }
 },
 "nbformat": 4,
 "nbformat_minor": 2
}
