{
 "cells": [
  {
   "cell_type": "code",
   "execution_count": 8,
   "metadata": {},
   "outputs": [],
   "source": [
    "import os\n",
    "import numpy as np\n",
    "import pandas as pd\n",
    "from natsort import natsorted"
   ]
  },
  {
   "cell_type": "code",
   "execution_count": 30,
   "metadata": {},
   "outputs": [],
   "source": [
    "reactor = \"MSRE\""
   ]
  },
  {
   "cell_type": "code",
   "execution_count": 42,
   "metadata": {},
   "outputs": [
    {
     "name": "stdout",
     "output_type": "stream",
     "text": [
      "Searching directory for .out files...\n"
     ]
    },
    {
     "data": {
      "text/plain": [
       "['./MSRE/OPUS/csv/solid_trap_comp_0.csv',\n",
       " './MSRE/OPUS/csv/solid_trap_comp_5.csv',\n",
       " './MSRE/OPUS/csv/solid_trap_comp_10.csv',\n",
       " './MSRE/OPUS/csv/solid_trap_comp_12.csv',\n",
       " './MSRE/OPUS/csv/solid_trap_comp_15.csv',\n",
       " './MSRE/OPUS/csv/solid_trap_comp_20.csv',\n",
       " './MSRE/OPUS/csv/solid_trap_comp_40.csv',\n",
       " './MSRE/OPUS/csv/solid_trap_comp_60.csv',\n",
       " './MSRE/OPUS/csv/solid_trap_comp_80.csv',\n",
       " './MSRE/OPUS/csv/solid_trap_comp_100.csv']"
      ]
     },
     "execution_count": 42,
     "metadata": {},
     "output_type": "execute_result"
    }
   ],
   "source": [
    "beta_directory = \"./\" + reactor + \"/OPUS/csv/\"\n",
    "\n",
    "print(\"Searching directory for .out files...\")\n",
    "csv_names = []\n",
    "for root, dirs, files in os.walk(beta_directory):\n",
    "    for file in files:\n",
    "        if file.startswith(\"solid\"):\n",
    "            #print(os.path.join(root, file))\n",
    "            csv_names.append(os.path.join(root, file))\n",
    "\n",
    "csv_names = natsorted(csv_names)\n",
    "csv_names"
   ]
  },
  {
   "cell_type": "code",
   "execution_count": 43,
   "metadata": {},
   "outputs": [],
   "source": [
    "# opus_csv_directory = \"./\" + reactor + \"/OPUS/csv/\"\n",
    "\n",
    "# for z in [\"salt\", \"off\", \"solid\"]:\n",
    "#     print(\"Searching directory for composition csv files...\")\n",
    "#     csv_names = []\n",
    "#     for root, dirs, files in os.walk(opus_csv_directory):\n",
    "#         for file in files:\n",
    "#             if file.startswith(z):\n",
    "#                 csv_names.append(os.path.join(root, file))\n",
    "\n",
    "#     csv_names = natsorted(csv_names)\n",
    "#     print(csv_names)"
   ]
  },
  {
   "cell_type": "code",
   "execution_count": 44,
   "metadata": {},
   "outputs": [],
   "source": [
    "df0 = pd.DataFrame()\n",
    "df5 = pd.DataFrame()\n",
    "df10 = pd.DataFrame()\n",
    "df12 = pd.DataFrame()\n",
    "df15 = pd.DataFrame()\n",
    "df20 = pd.DataFrame()\n",
    "df40 = pd.DataFrame()\n",
    "df60 = pd.DataFrame()\n",
    "df80 = pd.DataFrame()\n",
    "df100 = pd.DataFrame()\n",
    "\n",
    "for i in range(0, len(csv_names)):\n",
    "    df = pd.read_csv(csv_names[i])\n",
    "    if i == 0:\n",
    "        df0 = df.copy()\n",
    "    if i == 1:\n",
    "        df5 = df.copy()\n",
    "    if i == 2:\n",
    "        df10 = df.copy()\n",
    "    if i == 3:\n",
    "        df12 = df.copy()\n",
    "    if i == 4:\n",
    "        df15 = df.copy()\n",
    "    if i == 5:\n",
    "        df20 = df.copy()\n",
    "    if i == 6:\n",
    "        df40 = df.copy()\n",
    "    if i == 7:\n",
    "        df60 = df.copy()\n",
    "    if i == 8:\n",
    "        df80 = df.copy()\n",
    "    if i == 9:\n",
    "        df100 = df.copy()"
   ]
  },
  {
   "cell_type": "code",
   "execution_count": 45,
   "metadata": {},
   "outputs": [
    {
     "data": {
      "text/html": [
       "<div>\n",
       "<style scoped>\n",
       "    .dataframe tbody tr th:only-of-type {\n",
       "        vertical-align: middle;\n",
       "    }\n",
       "\n",
       "    .dataframe tbody tr th {\n",
       "        vertical-align: top;\n",
       "    }\n",
       "\n",
       "    .dataframe thead th {\n",
       "        text-align: right;\n",
       "    }\n",
       "</style>\n",
       "<table border=\"1\" class=\"dataframe\">\n",
       "  <thead>\n",
       "    <tr style=\"text-align: right;\">\n",
       "      <th></th>\n",
       "      <th>time</th>\n",
       "      <th>mo100</th>\n",
       "      <th>mo97</th>\n",
       "      <th>tc99</th>\n",
       "      <th>mo98</th>\n",
       "      <th>ru101</th>\n",
       "      <th>xe132</th>\n",
       "      <th>mo95</th>\n",
       "      <th>ru102</th>\n",
       "      <th>rh103</th>\n",
       "      <th>...</th>\n",
       "      <th>ac228</th>\n",
       "      <th>yb170</th>\n",
       "      <th>tl206</th>\n",
       "      <th>hg206</th>\n",
       "      <th>rn218</th>\n",
       "      <th>th226</th>\n",
       "      <th>ra222</th>\n",
       "      <th>fr222</th>\n",
       "      <th>subtotal</th>\n",
       "      <th>total</th>\n",
       "    </tr>\n",
       "  </thead>\n",
       "  <tbody>\n",
       "    <tr>\n",
       "      <th>0</th>\n",
       "      <td>0</td>\n",
       "      <td>2.256861e-20</td>\n",
       "      <td>2.188842e-20</td>\n",
       "      <td>2.233734e-20</td>\n",
       "      <td>2.211968e-20</td>\n",
       "      <td>2.279987e-20</td>\n",
       "      <td>2.979219e-20</td>\n",
       "      <td>2.143950e-20</td>\n",
       "      <td>2.301753e-20</td>\n",
       "      <td>2.324879e-20</td>\n",
       "      <td>...</td>\n",
       "      <td>0.000000e+00</td>\n",
       "      <td>0.000000e+00</td>\n",
       "      <td>0.000000e+00</td>\n",
       "      <td>0.000000e+00</td>\n",
       "      <td>0.000000e+00</td>\n",
       "      <td>0.000000e+00</td>\n",
       "      <td>0.000000e+00</td>\n",
       "      <td>0.000000e+00</td>\n",
       "      <td>1.162168e-17</td>\n",
       "      <td>1.162168e-17</td>\n",
       "    </tr>\n",
       "    <tr>\n",
       "      <th>1</th>\n",
       "      <td>100</td>\n",
       "      <td>1.092380e+00</td>\n",
       "      <td>1.062452e+00</td>\n",
       "      <td>1.008173e+00</td>\n",
       "      <td>9.846388e-01</td>\n",
       "      <td>9.070974e-01</td>\n",
       "      <td>8.038451e-01</td>\n",
       "      <td>2.282708e-01</td>\n",
       "      <td>7.622176e-01</td>\n",
       "      <td>2.720748e-01</td>\n",
       "      <td>...</td>\n",
       "      <td>2.119463e-35</td>\n",
       "      <td>9.106344e-37</td>\n",
       "      <td>4.077041e-37</td>\n",
       "      <td>1.707269e-38</td>\n",
       "      <td>7.901053e-39</td>\n",
       "      <td>1.878677e-46</td>\n",
       "      <td>3.640361e-48</td>\n",
       "      <td>6.138008e-51</td>\n",
       "      <td>9.008397e+00</td>\n",
       "      <td>9.008397e+00</td>\n",
       "    </tr>\n",
       "    <tr>\n",
       "      <th>2</th>\n",
       "      <td>415</td>\n",
       "      <td>5.025222e+00</td>\n",
       "      <td>4.882383e+00</td>\n",
       "      <td>4.777634e+00</td>\n",
       "      <td>4.525965e+00</td>\n",
       "      <td>4.176348e+00</td>\n",
       "      <td>3.862102e+00</td>\n",
       "      <td>3.471675e+00</td>\n",
       "      <td>3.517927e+00</td>\n",
       "      <td>2.173878e+00</td>\n",
       "      <td>...</td>\n",
       "      <td>1.670539e-35</td>\n",
       "      <td>7.171892e-37</td>\n",
       "      <td>2.650009e-37</td>\n",
       "      <td>1.250728e-38</td>\n",
       "      <td>7.759574e-39</td>\n",
       "      <td>0.000000e+00</td>\n",
       "      <td>0.000000e+00</td>\n",
       "      <td>0.000000e+00</td>\n",
       "      <td>4.347756e+01</td>\n",
       "      <td>4.347756e+01</td>\n",
       "    </tr>\n",
       "    <tr>\n",
       "      <th>3</th>\n",
       "      <td>730</td>\n",
       "      <td>8.958063e+00</td>\n",
       "      <td>8.694151e+00</td>\n",
       "      <td>8.544510e+00</td>\n",
       "      <td>8.064298e+00</td>\n",
       "      <td>7.450769e+00</td>\n",
       "      <td>6.927025e+00</td>\n",
       "      <td>7.409958e+00</td>\n",
       "      <td>6.290370e+00</td>\n",
       "      <td>4.191313e+00</td>\n",
       "      <td>...</td>\n",
       "      <td>1.670539e-35</td>\n",
       "      <td>7.171892e-37</td>\n",
       "      <td>2.648648e-37</td>\n",
       "      <td>1.250320e-38</td>\n",
       "      <td>7.756853e-39</td>\n",
       "      <td>0.000000e+00</td>\n",
       "      <td>0.000000e+00</td>\n",
       "      <td>0.000000e+00</td>\n",
       "      <td>7.860242e+01</td>\n",
       "      <td>7.860242e+01</td>\n",
       "    </tr>\n",
       "  </tbody>\n",
       "</table>\n",
       "<p>4 rows × 459 columns</p>\n",
       "</div>"
      ],
      "text/plain": [
       "   time         mo100          mo97          tc99          mo98         ru101  \\\n",
       "0     0  2.256861e-20  2.188842e-20  2.233734e-20  2.211968e-20  2.279987e-20   \n",
       "1   100  1.092380e+00  1.062452e+00  1.008173e+00  9.846388e-01  9.070974e-01   \n",
       "2   415  5.025222e+00  4.882383e+00  4.777634e+00  4.525965e+00  4.176348e+00   \n",
       "3   730  8.958063e+00  8.694151e+00  8.544510e+00  8.064298e+00  7.450769e+00   \n",
       "\n",
       "          xe132          mo95         ru102         rh103  ...         ac228  \\\n",
       "0  2.979219e-20  2.143950e-20  2.301753e-20  2.324879e-20  ...  0.000000e+00   \n",
       "1  8.038451e-01  2.282708e-01  7.622176e-01  2.720748e-01  ...  2.119463e-35   \n",
       "2  3.862102e+00  3.471675e+00  3.517927e+00  2.173878e+00  ...  1.670539e-35   \n",
       "3  6.927025e+00  7.409958e+00  6.290370e+00  4.191313e+00  ...  1.670539e-35   \n",
       "\n",
       "          yb170         tl206         hg206         rn218         th226  \\\n",
       "0  0.000000e+00  0.000000e+00  0.000000e+00  0.000000e+00  0.000000e+00   \n",
       "1  9.106344e-37  4.077041e-37  1.707269e-38  7.901053e-39  1.878677e-46   \n",
       "2  7.171892e-37  2.650009e-37  1.250728e-38  7.759574e-39  0.000000e+00   \n",
       "3  7.171892e-37  2.648648e-37  1.250320e-38  7.756853e-39  0.000000e+00   \n",
       "\n",
       "          ra222         fr222      subtotal         total  \n",
       "0  0.000000e+00  0.000000e+00  1.162168e-17  1.162168e-17  \n",
       "1  3.640361e-48  6.138008e-51  9.008397e+00  9.008397e+00  \n",
       "2  0.000000e+00  0.000000e+00  4.347756e+01  4.347756e+01  \n",
       "3  0.000000e+00  0.000000e+00  7.860242e+01  7.860242e+01  \n",
       "\n",
       "[4 rows x 459 columns]"
      ]
     },
     "execution_count": 45,
     "metadata": {},
     "output_type": "execute_result"
    }
   ],
   "source": [
    "df0"
   ]
  },
  {
   "cell_type": "code",
   "execution_count": 46,
   "metadata": {},
   "outputs": [
    {
     "data": {
      "image/png": "[encoded data removed]",
      "text/plain": [
       "<Figure size 792x576 with 1 Axes>"
      ]
     },
     "metadata": {
      "needs_background": "light"
     },
     "output_type": "display_data"
    }
   ],
   "source": [
    "ax1 = df0.plot(x=\"time\", y=\"mo99\", figsize=(11,8))\n",
    "# ax1.set_xscale(\"log\")\n",
    "# ax1.set_yscale(\"log\")"
   ]
  },
  {
   "cell_type": "code",
   "execution_count": 47,
   "metadata": {},
   "outputs": [
    {
     "data": {
      "text/plain": [
       "<matplotlib.axes._subplots.AxesSubplot at 0x1bbe44cc9b0>"
      ]
     },
     "execution_count": 47,
     "metadata": {},
     "output_type": "execute_result"
    },
    {
     "data": {
      "image/png": "[encoded data removed]",
      "text/plain": [
       "<Figure size 432x288 with 1 Axes>"
      ]
     },
     "metadata": {
      "needs_background": "light"
     },
     "output_type": "display_data"
    }
   ],
   "source": [
    "df100.plot(x=\"time\", y=\"mo99\")"
   ]
  },
  {
   "cell_type": "code",
   "execution_count": null,
   "metadata": {},
   "outputs": [],
   "source": []
  }
 ],
 "metadata": {
  "kernelspec": {
   "display_name": "Python 3",
   "language": "python",
   "name": "python3"
  },
  "language_info": {
   "codemirror_mode": {
    "name": "ipython",
    "version": 3
   },
   "file_extension": ".py",
   "mimetype": "text/x-python",
   "name": "python",
   "nbconvert_exporter": "python",
   "pygments_lexer": "ipython3",
   "version": "3.7.2"
  }
 },
 "nbformat": 4,
 "nbformat_minor": 2
}
