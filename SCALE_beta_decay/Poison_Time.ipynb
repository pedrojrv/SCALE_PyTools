{
 "cells": [
  {
   "cell_type": "code",
   "execution_count": 11,
   "metadata": {},
   "outputs": [],
   "source": [
    "import pandas as pd\n",
    "import numpy as np\n",
    "import matplotlib.pyplot as plt"
   ]
  },
  {
   "cell_type": "code",
   "execution_count": 8,
   "metadata": {},
   "outputs": [],
   "source": [
    "poison = pd.read_csv(\"poison_fraction_MSRE.csv\")\n",
    "k_inf = pd.read_csv(\"k_time_10.csv\")"
   ]
  },
  {
   "cell_type": "code",
   "execution_count": 6,
   "metadata": {},
   "outputs": [
    {
     "data": {
      "text/html": [
       "<div>\n",
       "<style scoped>\n",
       "    .dataframe tbody tr th:only-of-type {\n",
       "        vertical-align: middle;\n",
       "    }\n",
       "\n",
       "    .dataframe tbody tr th {\n",
       "        vertical-align: top;\n",
       "    }\n",
       "\n",
       "    .dataframe thead th {\n",
       "        text-align: right;\n",
       "    }\n",
       "</style>\n",
       "<table border=\"1\" class=\"dataframe\">\n",
       "  <thead>\n",
       "    <tr style=\"text-align: right;\">\n",
       "      <th></th>\n",
       "      <th>Fuel</th>\n",
       "      <th>U-235</th>\n",
       "      <th>Xe-135</th>\n",
       "      <th>ID</th>\n",
       "      <th>Last_Day</th>\n",
       "      <th>Day</th>\n",
       "      <th>Poison Fraction</th>\n",
       "    </tr>\n",
       "  </thead>\n",
       "  <tbody>\n",
       "    <tr>\n",
       "      <th>0</th>\n",
       "      <td>0.330735</td>\n",
       "      <td>0.146995</td>\n",
       "      <td>0.000809</td>\n",
       "      <td>0.04</td>\n",
       "      <td>4</td>\n",
       "      <td>4</td>\n",
       "      <td>0.00550</td>\n",
       "    </tr>\n",
       "    <tr>\n",
       "      <th>1</th>\n",
       "      <td>0.337105</td>\n",
       "      <td>0.144782</td>\n",
       "      <td>0.000797</td>\n",
       "      <td>1.00</td>\n",
       "      <td>100</td>\n",
       "      <td>104</td>\n",
       "      <td>0.00551</td>\n",
       "    </tr>\n",
       "    <tr>\n",
       "      <th>2</th>\n",
       "      <td>0.348649</td>\n",
       "      <td>0.137640</td>\n",
       "      <td>0.000814</td>\n",
       "      <td>5.00</td>\n",
       "      <td>500</td>\n",
       "      <td>600</td>\n",
       "      <td>0.00591</td>\n",
       "    </tr>\n",
       "    <tr>\n",
       "      <th>3</th>\n",
       "      <td>0.362950</td>\n",
       "      <td>0.129088</td>\n",
       "      <td>0.000851</td>\n",
       "      <td>7.00</td>\n",
       "      <td>700</td>\n",
       "      <td>1200</td>\n",
       "      <td>0.00659</td>\n",
       "    </tr>\n",
       "    <tr>\n",
       "      <th>4</th>\n",
       "      <td>0.379525</td>\n",
       "      <td>0.120460</td>\n",
       "      <td>0.000903</td>\n",
       "      <td>8.00</td>\n",
       "      <td>800</td>\n",
       "      <td>1500</td>\n",
       "      <td>0.00750</td>\n",
       "    </tr>\n",
       "  </tbody>\n",
       "</table>\n",
       "</div>"
      ],
      "text/plain": [
       "       Fuel     U-235    Xe-135    ID  Last_Day   Day  Poison Fraction\n",
       "0  0.330735  0.146995  0.000809  0.04         4     4          0.00550\n",
       "1  0.337105  0.144782  0.000797  1.00       100   104          0.00551\n",
       "2  0.348649  0.137640  0.000814  5.00       500   600          0.00591\n",
       "3  0.362950  0.129088  0.000851  7.00       700  1200          0.00659\n",
       "4  0.379525  0.120460  0.000903  8.00       800  1500          0.00750"
      ]
     },
     "execution_count": 6,
     "metadata": {},
     "output_type": "execute_result"
    }
   ],
   "source": [
    "poison.head()"
   ]
  },
  {
   "cell_type": "code",
   "execution_count": 9,
   "metadata": {},
   "outputs": [
    {
     "data": {
      "text/html": [
       "<div>\n",
       "<style scoped>\n",
       "    .dataframe tbody tr th:only-of-type {\n",
       "        vertical-align: middle;\n",
       "    }\n",
       "\n",
       "    .dataframe tbody tr th {\n",
       "        vertical-align: top;\n",
       "    }\n",
       "\n",
       "    .dataframe thead th {\n",
       "        text-align: right;\n",
       "    }\n",
       "</style>\n",
       "<table border=\"1\" class=\"dataframe\">\n",
       "  <thead>\n",
       "    <tr style=\"text-align: right;\">\n",
       "      <th></th>\n",
       "      <th>K_eff</th>\n",
       "      <th>Time</th>\n",
       "    </tr>\n",
       "  </thead>\n",
       "  <tbody>\n",
       "    <tr>\n",
       "      <th>0</th>\n",
       "      <td>1.625023</td>\n",
       "      <td>0.00</td>\n",
       "    </tr>\n",
       "    <tr>\n",
       "      <th>1</th>\n",
       "      <td>1.606721</td>\n",
       "      <td>150.00</td>\n",
       "    </tr>\n",
       "    <tr>\n",
       "      <th>2</th>\n",
       "      <td>1.593466</td>\n",
       "      <td>483.33</td>\n",
       "    </tr>\n",
       "    <tr>\n",
       "      <th>3</th>\n",
       "      <td>1.579721</td>\n",
       "      <td>850.00</td>\n",
       "    </tr>\n",
       "    <tr>\n",
       "      <th>4</th>\n",
       "      <td>1.565526</td>\n",
       "      <td>1216.67</td>\n",
       "    </tr>\n",
       "  </tbody>\n",
       "</table>\n",
       "</div>"
      ],
      "text/plain": [
       "      K_eff     Time\n",
       "0  1.625023     0.00\n",
       "1  1.606721   150.00\n",
       "2  1.593466   483.33\n",
       "3  1.579721   850.00\n",
       "4  1.565526  1216.67"
      ]
     },
     "execution_count": 9,
     "metadata": {},
     "output_type": "execute_result"
    }
   ],
   "source": [
    "k_inf.head()"
   ]
  },
  {
   "cell_type": "code",
   "execution_count": 31,
   "metadata": {},
   "outputs": [
    {
     "data": {
      "image/png": "[encoded data removed]",
      "text/plain": [
       "<Figure size 1008x576 with 2 Axes>"
      ]
     },
     "metadata": {
      "needs_background": "light"
     },
     "output_type": "display_data"
    }
   ],
   "source": [
    "# # Create some mock data\n",
    "# t = np.arange(0.01, 10.0, 0.01)\n",
    "# data1 = np.exp(t)\n",
    "# data2 = np.sin(2 * np.pi * t)\n",
    "\n",
    "fig, ax1 = plt.subplots(figsize=(14,8))\n",
    "\n",
    "color = 'tab:red'\n",
    "ax1.set_xlabel('Time (Days)')\n",
    "ax1.set_ylabel(\"Poison Fraction\", color=color)\n",
    "ax1.plot(poison[\"Day\"], poison[\"Poison Fraction\"], color=color)\n",
    "ax1.tick_params(axis='y', labelcolor=color)\n",
    "ax1.grid()\n",
    "# ax1.set_xscale(\"log\")\n",
    "# ax1.set_yscale(\"log\")\n",
    "ax1.axhline(y=0.0056, c=\"g\")\n",
    "\n",
    "\n",
    "ax2 = ax1.twinx()  # instantiate a second axes that shares the same x-axis\n",
    "\n",
    "\n",
    "color = 'tab:blue'\n",
    "ax2.set_ylabel('K-inf', color=color)  # we already handled the x-label with ax1\n",
    "ax2.plot(k_inf[\"Time\"], k_inf[\"K_eff\"], color=color)\n",
    "ax2.tick_params(axis='y', labelcolor=color)\n",
    "ax2.grid()\n",
    "# ax2.set_xscale(\"log\")\n",
    "\n",
    "fig.tight_layout()  # otherwise the right y-label is slightly clipped\n",
    "plt.axvline(x=730, c=\"g\")\n",
    "plt.xlim(0,1000)\n",
    "plt.show()"
   ]
  },
  {
   "cell_type": "code",
   "execution_count": null,
   "metadata": {},
   "outputs": [],
   "source": []
  }
 ],
 "metadata": {
  "kernelspec": {
   "display_name": "Python 3",
   "language": "python",
   "name": "python3"
  },
  "language_info": {
   "codemirror_mode": {
    "name": "ipython",
    "version": 3
   },
   "file_extension": ".py",
   "mimetype": "text/x-python",
   "name": "python",
   "nbconvert_exporter": "python",
   "pygments_lexer": "ipython3",
   "version": "3.7.2"
  }
 },
 "nbformat": 4,
 "nbformat_minor": 2
}
