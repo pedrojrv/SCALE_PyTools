{
 "cells": [
  {
   "cell_type": "markdown",
   "metadata": {},
   "source": [
    "# F71 DF Reader"
   ]
  },
  {
   "cell_type": "code",
   "execution_count": 16,
   "metadata": {},
   "outputs": [
    {
     "name": "stdout",
     "output_type": "stream",
     "text": [
      "Searching directory for composition csv files...\n"
     ]
    },
    {
     "data": {
      "text/plain": [
       "['./Apollo/MSBR/MSBR_beta_3\\\\MSBR_beta_3.csv',\n",
       " './Apollo/MSBR/MSBR_beta_5\\\\MSBR_beta_5.csv',\n",
       " './Apollo/MSBR/MSBR_beta_7\\\\MSBR_beta_7.csv',\n",
       " './Apollo/MSBR/MSBR_beta_9\\\\MSBR_beta_9.csv',\n",
       " './Apollo/MSBR/MSBR_beta_11\\\\MSBR_beta_11.csv',\n",
       " './Apollo/MSBR/MSBR_beta_13\\\\MSBR_beta_13.csv',\n",
       " './Apollo/MSBR/MSBR_beta_15\\\\MSBR_beta_15.csv',\n",
       " './Apollo/MSBR/MSBR_beta_17\\\\MSBR_beta_17.csv',\n",
       " './Apollo/MSBR/MSBR_beta_33\\\\MSBR_beta_33.csv',\n",
       " './Apollo/MSBR/MSBR_beta_65\\\\MSBR_beta_65.csv',\n",
       " './Apollo/MSBR/MSBR_beta_129\\\\MSBR_beta_129.csv',\n",
       " './Apollo/MSBR/MSBR_beta_257\\\\MSBR_beta_257.csv',\n",
       " './Apollo/MSBR/MSBR_beta_513\\\\MSBR_beta_513.csv']"
      ]
     },
     "execution_count": 16,
     "metadata": {},
     "output_type": "execute_result"
    }
   ],
   "source": [
    "opus_csv_directory = \"./Apollo/\" + reactor + \"/\"\n",
    "\n",
    "#for z in [\"0_raw_salt\", \"0_raw_off\", \"0_raw_solid\"]:\n",
    "#for z in [\"salt\", \"off\", \"solid\"]:\n",
    "\n",
    "print(\"Searching directory for composition csv files...\")\n",
    "csv_names = []\n",
    "for root, dirs, files in os.walk(opus_csv_directory):\n",
    "    for file in files:\n",
    "        if file.endswith(\".csv\"):\n",
    "            csv_names.append(os.path.join(root, file))\n",
    "\n",
    "csv_names = natsorted(csv_names)\n",
    "csv_names"
   ]
  },
  {
   "cell_type": "code",
   "execution_count": 26,
   "metadata": {},
   "outputs": [],
   "source": [
    "testing = pd.read_csv(csv_names[0], header=None)"
   ]
  },
  {
   "cell_type": "code",
   "execution_count": null,
   "metadata": {},
   "outputs": [],
   "source": []
  },
  {
   "cell_type": "code",
   "execution_count": null,
   "metadata": {},
   "outputs": [],
   "source": []
  },
  {
   "cell_type": "code",
   "execution_count": null,
   "metadata": {},
   "outputs": [],
   "source": []
  },
  {
   "cell_type": "code",
   "execution_count": null,
   "metadata": {},
   "outputs": [],
   "source": [
    "opus_csv_directory = \"./\" + reactor + \"/OPUS/csv/\"\n",
    "\n",
    "#for z in [\"0_raw_salt\", \"0_raw_off\", \"0_raw_solid\"]:\n",
    "for z in [\"salt\", \"off\", \"solid\"]:\n",
    "    print(\"Searching directory for composition csv files...\")\n",
    "    csv_names = []\n",
    "    for root, dirs, files in os.walk(opus_csv_directory):\n",
    "        for file in files:\n",
    "            if file.startswith(z):\n",
    "                csv_names.append(os.path.join(root, file))\n",
    "\n",
    "    csv_names = natsorted(csv_names)\n",
    "    print(csv_names)\n",
    "    \n",
    "    df3 = pd.DataFrame()\n",
    "    df5 = pd.DataFrame()\n",
    "    df7 = pd.DataFrame()\n",
    "    df9 = pd.DataFrame()\n",
    "    df11 = pd.DataFrame()\n",
    "    df13 = pd.DataFrame()\n",
    "    df15 = pd.DataFrame()\n",
    "    df17 = pd.DataFrame()\n",
    "    df33 = pd.DataFrame()\n",
    "    df65 = pd.DataFrame()\n",
    "    df129 = pd.DataFrame()\n",
    "    df257 = pd.DataFrame()\n",
    "    df513 = pd.DataFrame()\n",
    "    \n",
    "    for i in range(0, len(csv_names)):\n",
    "        df = pd.read_csv(csv_names[i])\n",
    "        if i == 0:\n",
    "            df3 = df.copy()\n",
    "        if i == 1:\n",
    "            df5 = df.copy()\n",
    "        if i == 2:\n",
    "            df7 = df.copy()\n",
    "        if i == 3:\n",
    "            df9 = df.copy()\n",
    "        if i == 4:\n",
    "            df11 = df.copy()\n",
    "        if i == 5:\n",
    "            df13 = df.copy()\n",
    "        if i == 6:\n",
    "            df15 = df.copy()\n",
    "        if i == 7:\n",
    "            df17 = df.copy()\n",
    "        if i == 8:\n",
    "            df33 = df.copy()\n",
    "        if i == 9:\n",
    "            df65 = df.copy()\n",
    "        if i == 10:\n",
    "            df129 = df.copy()\n",
    "        if i == 11:\n",
    "            df257 = df.copy()\n",
    "        if i == 12:\n",
    "            df513 = df.copy()\n",
    "            \n",
    "#     df3 = df3[df3[\"time\"] == 730][[\"time\", \"xe135\", \"kr86\", \"u235\", \"u238\", \"u233\", \"th232\", \"pu239\"]]\n",
    "#     df5 = df5[df5[\"time\"] == 730][[\"time\", \"xe135\", \"kr86\", \"u235\", \"u238\", \"u233\", \"th232\", \"pu239\"]]\n",
    "#     df7 = df7[df7[\"time\"] == 730][[\"time\", \"xe135\", \"kr86\", \"u235\", \"u238\", \"u233\", \"th232\", \"pu239\"]]\n",
    "#     df9 = df9[df9[\"time\"] == 730][[\"time\", \"xe135\", \"kr86\", \"u235\", \"u238\", \"u233\", \"th232\", \"pu239\"]]\n",
    "#     df11 = df11[df11[\"time\"] == 730][[\"time\", \"xe135\", \"kr86\", \"u235\", \"u238\", \"u233\", \"th232\", \"pu239\"]]\n",
    "#     df13 = df13[df13[\"time\"] == 730][[\"time\", \"xe135\", \"kr86\", \"u235\", \"u238\", \"u233\", \"th232\", \"pu239\"]]\n",
    "#     df15 = df15[df15[\"time\"] == 730][[\"time\", \"xe135\", \"kr86\", \"u235\", \"u238\", \"u233\", \"th232\", \"pu239\"]]\n",
    "#     df17 = df17[df17[\"time\"] == 730][[\"time\", \"xe135\", \"kr86\", \"u235\", \"u238\", \"u233\", \"th232\", \"pu239\"]]\n",
    "#     df33 = df33[df33[\"time\"] == 730][[\"time\", \"xe135\", \"kr86\", \"u235\", \"u238\", \"u233\", \"th232\", \"pu239\"]]\n",
    "#     df65 = df65[df65[\"time\"] == 730][[\"time\", \"xe135\", \"kr86\", \"u235\", \"u238\", \"u233\", \"th232\", \"pu239\"]]\n",
    "\n",
    "    if z == \"solid\":\n",
    "        isotope_list = [\"time\", \"tc99\", \"tc99m\", \"mo99\", \"nb95\", \"ru103\", \"rh105\"]\n",
    "    if z == \"off\":\n",
    "        isotope_list = [\"time\", \"xe135\", \"kr86\", \"u235\", \"u238\", \"u233\", \"th232\", \"pu239\"]\n",
    "    if z == \"salt\":\n",
    "        isotope_list = [\"time\", \"xe135\", \"kr86\", \"u235\", \"u238\", \"u233\", \"th232\", \"pu239\", \"tc99\", \"tc99m\", \"mo99\", \"nb95\", \"ru103\", \"rh105\"]\n",
    "\n",
    "    df3 = df3[df3[\"time\"] == 730][isotope_list]\n",
    "    df5 = df5[df5[\"time\"] == 730][isotope_list]\n",
    "    df7 = df7[df7[\"time\"] == 730][isotope_list]\n",
    "    df9 = df9[df9[\"time\"] == 730][isotope_list]\n",
    "    df11 = df11[df11[\"time\"] == 730][isotope_list]\n",
    "    df13 = df13[df13[\"time\"] == 730][isotope_list]\n",
    "    df15 = df15[df15[\"time\"] == 730][isotope_list]\n",
    "    df17 = df17[df17[\"time\"] == 730][isotope_list]\n",
    "    df33 = df33[df33[\"time\"] == 730][isotope_list]\n",
    "    df65 = df65[df65[\"time\"] == 730][isotope_list]\n",
    "    df129 = df129[df129[\"time\"] == 730][isotope_list]\n",
    "    df257 = df257[df257[\"time\"] == 730][isotope_list]\n",
    "    df513 = df513[df513[\"time\"] == 730][isotope_list]\n",
    "\n",
    "    results = pd.concat([df3, df5, df7, df9, df11, df13, df15, df17, df33, df65, df129, df257, df513])\n",
    "    results['Steps'] = results.index\n",
    "    results = results.reset_index(drop=True)\n",
    "    results.at[0, 'Steps'] = 1\n",
    "    results.to_csv(reactor + z + \".csv\", sep=\",\")"
   ]
  }
 ],
 "metadata": {
  "kernelspec": {
   "display_name": "Python 3",
   "language": "python",
   "name": "python3"
  },
  "language_info": {
   "codemirror_mode": {
    "name": "ipython",
    "version": 3
   },
   "file_extension": ".py",
   "mimetype": "text/x-python",
   "name": "python",
   "nbconvert_exporter": "python",
   "pygments_lexer": "ipython3",
   "version": "3.7.2"
  }
 },
 "nbformat": 4,
 "nbformat_minor": 2
}
