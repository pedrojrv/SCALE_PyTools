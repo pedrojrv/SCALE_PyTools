{
 "cells": [
  {
   "cell_type": "code",
   "execution_count": 4,
   "metadata": {},
   "outputs": [
    {
     "name": "stdout",
     "output_type": "stream",
     "text": [
      "Reactor? MSBR\n",
      "[0.01, 0.02, 0.04, 0.08, 0.16, 0.32, 0.64]\n",
      "['1', '2', '4', '8', '16', '32', '64']\n",
      "Searching directory for .out files...\n"
     ]
    },
    {
     "data": {
      "text/plain": [
       "['./Apollo/MSBR\\\\MSBR_beta_1\\\\MSBR_beta_1.out',\n",
       " './Apollo/MSBR\\\\MSBR_beta_2\\\\MSBR_beta_2.out',\n",
       " './Apollo/MSBR\\\\MSBR_beta_4\\\\MSBR_beta_4.out',\n",
       " './Apollo/MSBR\\\\MSBR_beta_8\\\\MSBR_beta_8.out',\n",
       " './Apollo/MSBR\\\\MSBR_beta_16\\\\MSBR_beta_16.out',\n",
       " './Apollo/MSBR\\\\MSBR_beta_32\\\\MSBR_beta_32.out',\n",
       " './Apollo/MSBR\\\\MSBR_beta_64\\\\MSBR_beta_64.out']"
      ]
     },
     "execution_count": 4,
     "metadata": {},
     "output_type": "execute_result"
    }
   ],
   "source": [
    "# # Importing Packages\n",
    "import pandas as pd\n",
    "import matplotlib.pyplot as plt\n",
    "from matplotlib.pyplot import figure\n",
    "import numpy as np\n",
    "import shutil\n",
    "import re\n",
    "import imageio\n",
    "import os\n",
    "import natsort\n",
    "from natsort import natsorted\n",
    "from datetime import datetime, date, time\n",
    "import scipy.io\n",
    "from scipy.io import loadmat\n",
    "from decimal import Decimal\n",
    "\n",
    "\n",
    "####################################################################################################\n",
    "\n",
    "reactor = input(\"Reactor? \")\n",
    "efficiencies = natsorted([0.01, 0.02, 0.04, 0.08, 0.16, 0.32, 0.64])\n",
    "eff = natsorted(list(((np.array(efficiencies) * 100).astype(int)).astype(str)))\n",
    "print(natsorted(efficiencies))\n",
    "print(natsorted(eff))\n",
    "\n",
    "#####################################################################################################\n",
    "\n",
    "beta_directory = \"./Apollo/\" + reactor\n",
    "\n",
    "print(\"Searching directory for .out files...\")\n",
    "names = []\n",
    "for root, dirs, files in os.walk(beta_directory):\n",
    "    for file in files:\n",
    "        if file.endswith(\".out\"):\n",
    "            #print(os.path.join(root, file))\n",
    "            names.append(os.path.join(root, file))\n",
    "\n",
    "names = natsorted(names)\n",
    "names\n",
    "# ##############################################################################################\n",
    "# ##############################################################################################\n",
    "# ############################# PLOTTING K-EFF VS BURNUP #######################################\n",
    "# ##############################################################################################\n",
    "# ##############################################################################################"
   ]
  },
  {
   "cell_type": "code",
   "execution_count": 56,
   "metadata": {},
   "outputs": [],
   "source": [
    "burnup = open(names[0],'r')\n",
    "data = burnup.read()\n",
    "x = re.findall(r', Burnup =(.*?)GWd/MTIHM, Transport k=', data, re.DOTALL)\n",
    "burnup.close()\n",
    "\n",
    "comparison = pd.DataFrame({\"Burnup (GWd/MTIHM)\": x}) \n",
    "comparison[\"Burnup (GWd/MTIHM)\"] = pd.to_numeric(comparison[\"Burnup (GWd/MTIHM)\"])"
   ]
  },
  {
   "cell_type": "code",
   "execution_count": null,
   "metadata": {},
   "outputs": [],
   "source": [
    "x = 0\n",
    "#for i in range(0, len(eff)):\n",
    "for i in range(1):\n",
    "    print(names[x])\n",
    "    \n",
    "    # Counting number of iterations (Transport calculations)\n",
    "    ocurrences_fine = open(names[x], 'r').read().count(\" k-eff =       \")\n",
    "    print(\"There are {} transport calculation results in eff {}.\".format(ocurrences_fine, eff[x]))\n",
    "    \n",
    "    # Removes previous calculations performed by this script\n",
    "    text_path = (\"./\" + reactor + \"/K_eff/off_eff_\" + eff[x] + \"/\")\n",
    "    if os.path.exists(text_path):\n",
    "        shutil.rmtree(text_path)\n",
    "    os.makedirs(text_path)\n",
    "    \n",
    "    text_path = (\"./\" + reactor + \"/K_eff/off_eff_\" + eff[x] + \"/k_eff_\" + reactor + \".txt\")\n",
    "    if os.path.exists(text_path):\n",
    "        os.remove(text_path)\n",
    "        \n",
    "    # Creates new text file to append k-eff values over time\n",
    "    outfile_msdr = open(text_path, \"a\")\n",
    "    with open(names[x], 'r') as f:\n",
    "        textfile_temp = f.read()\n",
    "        for i in range(1, ocurrences_fine + 1):\n",
    "            outfile_msdr.write(textfile_temp.split(' k-eff = ')[i].split(\n",
    "                \"Time=\")[0])\n",
    "        f.close()\n",
    "    outfile_msdr.close()\n",
    "    \n",
    "    # Creates new text file to append time values over iterations\n",
    "    text_path2 = (\"./\" + reactor + \"/K_eff/off_eff_\" + eff[x] + \"/k_times_\" + reactor + \".txt\")\n",
    "    if os.path.exists(text_path2):\n",
    "        os.remove(text_path2)\n",
    "\n",
    "    outfile_msdr = open(text_path2, \"a\")\n",
    "    \n",
    "    with open(names[x], 'r') as f:\n",
    "        textfile_temp = f.read()\n",
    "        for i in range(1, ocurrences_fine+1):\n",
    "            outfile_msdr.write(textfile_temp.split('Time=')[i].split(\n",
    "                \"d Nominal conditions\")[0])\n",
    "        f.close()\n",
    "    outfile_msdr.close()\n",
    "    \n",
    "    # Creates new text file to append burnup values over iterations\n",
    "    text_path3 = (\"./\" + reactor + \"/K_eff/off_eff_\" + eff[x] + \"/k_burnups_\" + reactor + \".txt\")\n",
    "    if os.path.exists(text_path3):\n",
    "        os.remove(text_path3)\n",
    "\n",
    "    outfile_msdr = open(text_path3, \"a\")\n",
    "    \n",
    "    with open(names[x], 'r') as f:\n",
    "        textfile_temp = f.read()\n",
    "        for i in range(1, ocurrences_fine+1):\n",
    "            outfile_msdr.write(textfile_temp.split(', Burnup =')[i].split(\n",
    "                \"GWd/MTIHM\")[0])\n",
    "        f.close()\n",
    "    outfile_msdr.close()\n",
    "    \n",
    "    # Reads collected values from text files into dataframes\n",
    "    df_keff = pd.read_csv(text_path, header=None, delimiter=r\"\\s+\", index_col=False)\n",
    "    df_time = pd.read_csv(text_path2, header=None, delimiter=r\"\\s+\", index_col=False)\n",
    "    df_burnup = pd.read_csv(text_path3, header=None, delimiter=r\"\\s+\", index_col=False)\n",
    "    # Takes transpose of dataframes \n",
    "    df_keff = df_keff.T\n",
    "    df_time = df_time.T\n",
    "    df_burnup = df_burnup.T\n",
    "    # Creates dataframes with time vs k-eff and burnup vs k-eff\n",
    "    df_ktime = pd.concat([df_keff, df_time], axis=1, sort=False)\n",
    "    df_kburn = pd.concat([df_keff, df_burnup], axis=1, sort=False)\n",
    "    # Sets names for the dataframe columns\n",
    "    df_ktime.columns = ['K_eff', 'Time']\n",
    "    df_kburn.columns = ['K_eff', 'Burnup (GWd/MTIHM)']\n",
    "\n",
    "    # Directory where the CSV files will be saved\n",
    "    csv_path = (\"./\" + reactor + \"/K_eff/csv/\") \n",
    "    if not os.path.exists(csv_path):\n",
    "        os.makedirs(csv_path)\n",
    "    df_ktime.to_csv((csv_path + \"k_time_\" + eff[x] + \".csv\"), sep=',', index=False)\n",
    "    df_kburn.to_csv((csv_path + \"k_burn_\" + eff[x] + \".csv\"), sep=',', index=False)\n",
    "    \n",
    "    # Merging results to the comparison dataframe\n",
    "    comparison = comparison.merge(df_kburn, on='Burnup (GWd/MTIHM)')\n",
    "\n",
    "    ax = df_ktime.plot(\"Time\", \"K_eff\", title=\"K-inf vs Time\", legend=False)\n",
    "    ax.set_ylabel(\"K-inf\")\n",
    "    ax.grid()\n",
    "    plt.savefig(\"./\" + reactor + \"/K_eff/K_time_off_eff_\" + eff[x] + \".png\", format='png', dpi=1200)\n",
    "\n",
    "    ax = df_kburn.plot(\"Burnup (GWd/MTIHM)\", \"K_eff\", title=\"K-inf vs Burnup\", legend=False)\n",
    "    ax.set_ylabel(\"K-inf\")\n",
    "    ax.grid()\n",
    "    plt.savefig(\"./\" + reactor + \"/K_eff/K_burnup_off_eff_\" + eff[x] + \".png\", format='png', dpi=1200)\n",
    "    \n",
    "    x = x + 1"
   ]
  },
  {
   "cell_type": "code",
   "execution_count": null,
   "metadata": {},
   "outputs": [],
   "source": [
    "# Creating columns for comparison dataframe\n",
    "column_list = [\"Burnup (GWd/MTIHM)\"]\n",
    "x = 0\n",
    "for i in range(0, len(eff)):\n",
    "    column_name = \"Off-gas Eff: {}\".format(eff[x])\n",
    "    column_list.append(column_name)\n",
    "    x = x + 1\n",
    "    \n",
    "comparison.columns = column_list\n",
    "plotting_columns = column_list[1:]\n",
    "\n",
    "ax = comparison.plot(x=\"Burnup (GWd/MTIHM)\", y=plotting_columns)\n",
    "ax.grid(True)\n",
    "ax.set_ylabel(\"K-inf\", fontsize=14)\n",
    "ax.set_xlabel(\"Burnup (GWd/MTIHM)\", fontsize=14)\n",
    "ax.set_title(\"Off-gas Efficiency Impact on K-inf\", fontsize=16)\n",
    "plt.savefig((\"./\" + reactor + \"/\" + \"K_Comparison.png\"), format='png', dpi=1200)\n",
    "\n",
    "\n",
    "# Copying Dataframe to perform feature creation\n",
    "testing = comparison.copy()\n",
    "pcm_columns = plotting_columns\n",
    "\n",
    "# Calculating PCM for all Efficiencies \n",
    "pcm_new = []\n",
    "for i in range(0, len(eff)):\n",
    "    pcm_new.append(\"Eff: {} pcm\".format(eff[i]))\n",
    "\n",
    "x = 0\n",
    "for i in pcm_columns:\n",
    "    testing[pcm_new[x]] = ((testing[i].values - 1) /testing[i].values) * (1*10**5)\n",
    "    x = x + 1\n",
    "    \n",
    "# Calculating PCM difference relative to 0% Efficiency\n",
    "pcm_new_diff = pcm_new[1:]\n",
    "\n",
    "diff_pcm = []\n",
    "for i in range(0, len(eff)):\n",
    "    diff_pcm.append(\"{}-0\".format(eff[i]))\n",
    "diff_pcm = diff_pcm[1:]\n",
    "\n",
    "x = 0\n",
    "for i in pcm_new_diff:\n",
    "    testing[diff_pcm[x]] = testing[i] - testing[\"Eff: 1 pcm\"]\n",
    "    x = x + 1 \n",
    "\n",
    "# Calculating PCM difference relative to the 5% Efficiency\n",
    "diff_pcm_5 = []\n",
    "for i in range(0, len(eff)):\n",
    "    diff_pcm_5.append(\"{}-5\".format(eff[i]))\n",
    "diff_pcm_5 = diff_pcm_5[2:]\n",
    "pcm_new_no5 = pcm_new_diff[1:]\n",
    "\n",
    "x = 0\n",
    "for i in pcm_new_no5:\n",
    "    testing[diff_pcm_5[x]] = testing[i] - testing[\"Eff: 2 pcm\"]\n",
    "    x = x + 1 \n",
    "    \n",
    "testing.to_csv(\"./\" + reactor + \"/K_eff/all_keff.csv\", sep=\",\", index=False)\n",
    "    \n",
    "ax = testing.plot(x=\"Burnup (GWd/MTIHM)\", y=diff_pcm)\n",
    "ax.grid(True)\n",
    "ax.set_ylabel(\"pcm\", fontsize=14)\n",
    "ax.set_xlabel(\"Burnup (GWd/MTIHM)\", fontsize=14)\n",
    "ax.set_title(\"Off-gas Efficiency Impact on Reactivity\", fontsize=16)\n",
    "plt.savefig((\"./\" + reactor + \"/\" + \"pcm_0.png\"), format='png', dpi=1200)\n",
    "\n",
    "ax = testing.plot(x=\"Burnup (GWd/MTIHM)\", y=diff_pcm_5)\n",
    "ax.grid(True)\n",
    "ax.set_ylabel(\"pcm\", fontsize=14)\n",
    "ax.set_xlabel(\"Burnup (GWd/MTIHM)\", fontsize=14)\n",
    "ax.set_title(\"Off-gas Efficiency Impact on Reactivity\", fontsize=16)\n",
    "plt.savefig((\"./\" + reactor + \"/\" + \"pcm_5.png\"), format='png', dpi=1200)"
   ]
  },
  {
   "cell_type": "code",
   "execution_count": 60,
   "metadata": {},
   "outputs": [
    {
     "name": "stdout",
     "output_type": "stream",
     "text": [
      "Searching directory for k_time*.csv files...\n"
     ]
    },
    {
     "data": {
      "text/plain": [
       "['./MSBR/K_eff/csv/k_burn_1.csv',\n",
       " './MSBR/K_eff/csv/k_burn_2.csv',\n",
       " './MSBR/K_eff/csv/k_burn_4.csv',\n",
       " './MSBR/K_eff/csv/k_burn_8.csv',\n",
       " './MSBR/K_eff/csv/k_burn_16.csv']"
      ]
     },
     "execution_count": 60,
     "metadata": {},
     "output_type": "execute_result"
    }
   ],
   "source": [
    "beta_directory = \"./\" + reactor + \"/K_eff/csv/\"\n",
    "\n",
    "print(\"Searching directory for k_time*.csv files...\")\n",
    "names = []\n",
    "for root, dirs, files in os.walk(beta_directory):\n",
    "    for file in files:\n",
    "        if file.startswith(\"k_burn\"):\n",
    "            #print(os.path.join(root, file))\n",
    "            names.append(os.path.join(root, file))\n",
    "\n",
    "names = natsorted(names)\n",
    "names"
   ]
  },
  {
   "cell_type": "code",
   "execution_count": 61,
   "metadata": {},
   "outputs": [],
   "source": [
    "df1 = pd.DataFrame({\"K_eff\": [], \"Burnup (GWd/MTIHM)\": []})\n",
    "df2 = pd.DataFrame({\"K_eff\": [], \"Burnup (GWd/MTIHM)\": []})\n",
    "df4 = pd.DataFrame({\"K_eff\": [], \"Burnup (GWd/MTIHM)\": []})\n",
    "df8 = pd.DataFrame({\"K_eff\": [], \"Burnup (GWd/MTIHM)\": []})\n",
    "df16 = pd.DataFrame({\"K_eff\": [], \"Burnup (GWd/MTIHM)\": []})"
   ]
  },
  {
   "cell_type": "code",
   "execution_count": 62,
   "metadata": {},
   "outputs": [],
   "source": [
    "all_df = [df1, df2, df4, df8, df16]"
   ]
  },
  {
   "cell_type": "code",
   "execution_count": 63,
   "metadata": {},
   "outputs": [],
   "source": [
    "for i in range(0, len(names)):\n",
    "    df = pd.read_csv(names[i])\n",
    "    all_df[i] = pd.concat([all_df[i], df])"
   ]
  },
  {
   "cell_type": "code",
   "execution_count": 64,
   "metadata": {},
   "outputs": [],
   "source": [
    "df1 = all_df[0]\n",
    "df2 = all_df[1]\n",
    "df4 = all_df[2]\n",
    "df8 = all_df[3]\n",
    "df16 = all_df[4]"
   ]
  },
  {
   "cell_type": "code",
   "execution_count": 70,
   "metadata": {},
   "outputs": [
    {
     "data": {
      "image/png": "[encoded data removed]",
      "text/plain": [
       "<Figure size 1008x576 with 1 Axes>"
      ]
     },
     "metadata": {
      "needs_background": "light"
     },
     "output_type": "display_data"
    }
   ],
   "source": [
    "ax = df1.plot(x=\"Burnup (GWd/MTIHM)\", y=\"K_eff\", figsize=(14, 8), legend=\"1\")\n",
    "df2.plot(x=\"Burnup (GWd/MTIHM)\", y=\"K_eff\", ax = ax, legend=\"2\")\n",
    "df4.plot(x=\"Burnup (GWd/MTIHM)\", y=\"K_eff\", ax = ax)\n",
    "df8.plot(x=\"Burnup (GWd/MTIHM)\", y=\"K_eff\", ax = ax)\n",
    "df16.plot(x=\"Burnup (GWd/MTIHM)\", y=\"K_eff\", ax = ax)\n",
    "ax.grid(True)\n",
    "ax.set_ylabel(\"K-inf\", fontsize=14)\n",
    "ax.set_xlabel(\"Burnup (GWd/MTIHM)\", fontsize=14)\n",
    "ax.set_title(\"Burnup Steps Impact on K-inf\", fontsize=16)\n",
    "ax.legend([\"1 step\", \"2 steps\", \"4 steps\", \"8 steps\", \"16 steps\"]);\n",
    "plt.savefig((\"./\" + reactor + \"/\" + \"K_Comparison.png\"), format='png', dpi=1200)"
   ]
  },
  {
   "cell_type": "markdown",
   "metadata": {},
   "source": [
    "# OPUS "
   ]
  },
  {
   "cell_type": "code",
   "execution_count": 149,
   "metadata": {},
   "outputs": [],
   "source": [
    "reactor = \"MSBR\""
   ]
  },
  {
   "cell_type": "code",
   "execution_count": 143,
   "metadata": {},
   "outputs": [
    {
     "name": "stdout",
     "output_type": "stream",
     "text": [
      "Searching directory for k_time*.csv files...\n"
     ]
    },
    {
     "data": {
      "text/plain": [
       "['./MSDR/OPUS/csv/salt_comp_1.csv',\n",
       " './MSDR/OPUS/csv/salt_comp_2.csv',\n",
       " './MSDR/OPUS/csv/salt_comp_4.csv',\n",
       " './MSDR/OPUS/csv/salt_comp_8.csv',\n",
       " './MSDR/OPUS/csv/salt_comp_16.csv',\n",
       " './MSDR/OPUS/csv/salt_comp_32.csv',\n",
       " './MSDR/OPUS/csv/salt_comp_64.csv']"
      ]
     },
     "execution_count": 143,
     "metadata": {},
     "output_type": "execute_result"
    }
   ],
   "source": [
    "beta_directory = \"./\" + reactor + \"/OPUS/csv/\"\n",
    "\n",
    "print(\"Searching directory for k_time*.csv files...\")\n",
    "names = []\n",
    "for root, dirs, files in os.walk(beta_directory):\n",
    "    for file in files:\n",
    "        if file.startswith(\"salt\"):\n",
    "            #print(os.path.join(root, file))\n",
    "            names.append(os.path.join(root, file))\n",
    "\n",
    "names = natsorted(names)\n",
    "names"
   ]
  },
  {
   "cell_type": "code",
   "execution_count": 144,
   "metadata": {},
   "outputs": [],
   "source": [
    "df1 = pd.DataFrame()\n",
    "df2 = pd.DataFrame()\n",
    "df4 = pd.DataFrame()\n",
    "df8 = pd.DataFrame()\n",
    "df16 = pd.DataFrame()\n",
    "df32 = pd.DataFrame()\n",
    "df64 = pd.DataFrame()"
   ]
  },
  {
   "cell_type": "code",
   "execution_count": 145,
   "metadata": {},
   "outputs": [],
   "source": [
    "for i in range(0, len(names)):\n",
    "    df = pd.read_csv(names[i])\n",
    "    if i == 0:\n",
    "        df1 = df.copy()\n",
    "    if i == 1:\n",
    "        df2 = df.copy()\n",
    "    if i == 2:\n",
    "        df4 = df.copy()\n",
    "    if i == 3:\n",
    "        df8 = df.copy()\n",
    "    if i == 4:\n",
    "        df16 = df.copy()\n",
    "    if i == 5:\n",
    "        df32 = df.copy()\n",
    "    if i == 6:\n",
    "        df64 = df.copy()"
   ]
  },
  {
   "cell_type": "code",
   "execution_count": 146,
   "metadata": {},
   "outputs": [],
   "source": [
    "df1 = df1[df1[\"time\"] == 730][[\"time\", \"subtotal\", \"total\"]]\n",
    "df2 = df2[df2[\"time\"] == 730][[\"time\", \"subtotal\", \"total\"]]\n",
    "df4 = df4[df4[\"time\"] == 730][[\"time\", \"subtotal\", \"total\"]]\n",
    "df8 = df8[df8[\"time\"] == 730][[\"time\", \"subtotal\", \"total\"]]\n",
    "df16 = df16[df16[\"time\"] == 730][[\"time\", \"subtotal\", \"total\"]]\n",
    "df32 = df32[df32[\"time\"] == 730][[\"time\", \"subtotal\", \"total\"]]\n",
    "df64 = df64[df64[\"time\"] == 730][[\"time\", \"subtotal\", \"total\"]]"
   ]
  },
  {
   "cell_type": "code",
   "execution_count": 147,
   "metadata": {},
   "outputs": [],
   "source": [
    "# df1 = df1[df1[\"time\"] == 730][[\"time\", \"xe135\", \"kr86\", \"u235\", \"u238\", \"u233\", \"th232\", \"pu239\"]]\n",
    "# df2 = df2[df2[\"time\"] == 730][[\"time\", \"xe135\", \"kr86\", \"u235\", \"u238\", \"u233\", \"th232\", \"pu239\"]]\n",
    "# df4 = df4[df4[\"time\"] == 730][[\"time\", \"xe135\", \"kr86\", \"u235\", \"u238\", \"u233\", \"th232\", \"pu239\"]]\n",
    "# df8 = df8[df8[\"time\"] == 730][[\"time\", \"xe135\", \"kr86\", \"u235\", \"u238\", \"u233\", \"th232\", \"pu239\"]]\n",
    "# df16 = df16[df16[\"time\"] == 730][[\"time\", \"xe135\", \"kr86\", \"u235\", \"u238\", \"u233\", \"th232\", \"pu239\"]]\n",
    "# df32 = df32[df32[\"time\"] == 730][[\"time\", \"xe135\", \"kr86\", \"u235\", \"u238\", \"u233\", \"th232\", \"pu239\"]]\n",
    "# df64 = df64[df64[\"time\"] == 730][[\"time\", \"xe135\", \"kr86\", \"u235\", \"u238\", \"u233\", \"th232\", \"pu239\"]]"
   ]
  },
  {
   "cell_type": "code",
   "execution_count": 148,
   "metadata": {},
   "outputs": [],
   "source": [
    "results = pd.concat([df1, df2, df4, df8, df16, df32, df64])\n",
    "results['Steps'] = results.index\n",
    "results = results.reset_index(drop=True)\n",
    "results.at[0, 'Steps'] = 1\n",
    "results.to_csv(\"MSDR_PARAMETRIC.csv\", sep=\",\")"
   ]
  },
  {
   "cell_type": "code",
   "execution_count": 159,
   "metadata": {},
   "outputs": [
    {
     "name": "stdout",
     "output_type": "stream",
     "text": [
      "Searching directory for k_time*.csv files...\n",
      "['./MSBR/OPUS/csv/salt_comp_3.csv', './MSBR/OPUS/csv/salt_comp_5.csv', './MSBR/OPUS/csv/salt_comp_7.csv', './MSBR/OPUS/csv/salt_comp_9.csv', './MSBR/OPUS/csv/salt_comp_11.csv', './MSBR/OPUS/csv/salt_comp_13.csv', './MSBR/OPUS/csv/salt_comp_15.csv', './MSBR/OPUS/csv/salt_comp_17.csv', './MSBR/OPUS/csv/salt_comp_33.csv', './MSBR/OPUS/csv/salt_comp_65.csv']\n",
      "Searching directory for k_time*.csv files...\n",
      "['./MSBR/OPUS/csv/off_gas_comp_3.csv', './MSBR/OPUS/csv/off_gas_comp_5.csv', './MSBR/OPUS/csv/off_gas_comp_7.csv', './MSBR/OPUS/csv/off_gas_comp_9.csv', './MSBR/OPUS/csv/off_gas_comp_11.csv', './MSBR/OPUS/csv/off_gas_comp_13.csv', './MSBR/OPUS/csv/off_gas_comp_15.csv', './MSBR/OPUS/csv/off_gas_comp_17.csv', './MSBR/OPUS/csv/off_gas_comp_33.csv', './MSBR/OPUS/csv/off_gas_comp_65.csv']\n",
      "Searching directory for k_time*.csv files...\n",
      "['./MSBR/OPUS/csv/solid_trap_comp_3.csv', './MSBR/OPUS/csv/solid_trap_comp_5.csv', './MSBR/OPUS/csv/solid_trap_comp_7.csv', './MSBR/OPUS/csv/solid_trap_comp_9.csv', './MSBR/OPUS/csv/solid_trap_comp_11.csv', './MSBR/OPUS/csv/solid_trap_comp_13.csv', './MSBR/OPUS/csv/solid_trap_comp_15.csv', './MSBR/OPUS/csv/solid_trap_comp_17.csv', './MSBR/OPUS/csv/solid_trap_comp_33.csv', './MSBR/OPUS/csv/solid_trap_comp_65.csv']\n"
     ]
    }
   ],
   "source": [
    "reactor = \"MSBR\"\n",
    "beta_directory = \"./\" + reactor + \"/OPUS/csv/\"\n",
    "\n",
    "for z in [\"salt\", \"off\", \"solid\"]:\n",
    "    print(\"Searching directory for k_time*.csv files...\")\n",
    "    names = []\n",
    "    for root, dirs, files in os.walk(beta_directory):\n",
    "        for file in files:\n",
    "            if file.startswith(z):\n",
    "                #print(os.path.join(root, file))\n",
    "                names.append(os.path.join(root, file))\n",
    "\n",
    "    names = natsorted(names)\n",
    "    print(names)\n",
    "    \n",
    "    df3 = pd.DataFrame()\n",
    "    df5 = pd.DataFrame()\n",
    "    df7 = pd.DataFrame()\n",
    "    df9 = pd.DataFrame()\n",
    "    df11 = pd.DataFrame()\n",
    "    df13 = pd.DataFrame()\n",
    "    df15 = pd.DataFrame()\n",
    "    df17 = pd.DataFrame()\n",
    "    df33 = pd.DataFrame()\n",
    "    df65 = pd.DataFrame()\n",
    "    \n",
    "    for i in range(0, len(names)):\n",
    "        df = pd.read_csv(names[i])\n",
    "        if i == 0:\n",
    "            df3 = df.copy()\n",
    "        if i == 1:\n",
    "            df5 = df.copy()\n",
    "        if i == 2:\n",
    "            df7 = df.copy()\n",
    "        if i == 3:\n",
    "            df9 = df.copy()\n",
    "        if i == 4:\n",
    "            df11 = df.copy()\n",
    "        if i == 5:\n",
    "            df13 = df.copy()\n",
    "        if i == 6:\n",
    "            df15 = df.copy()\n",
    "        if i == 7:\n",
    "            df17 = df.copy()\n",
    "        if i == 8:\n",
    "            df33 = df.copy()\n",
    "        if i == 9:\n",
    "            df65 = df.copy()\n",
    "            \n",
    "    df3 = df3[df3[\"time\"] == 730][[\"time\", \"xe135\", \"kr86\", \"u235\", \"u238\", \"u233\", \"th232\", \"pu239\"]]\n",
    "    df5 = df5[df5[\"time\"] == 730][[\"time\", \"xe135\", \"kr86\", \"u235\", \"u238\", \"u233\", \"th232\", \"pu239\"]]\n",
    "    df7 = df7[df7[\"time\"] == 730][[\"time\", \"xe135\", \"kr86\", \"u235\", \"u238\", \"u233\", \"th232\", \"pu239\"]]\n",
    "    df9 = df9[df9[\"time\"] == 730][[\"time\", \"xe135\", \"kr86\", \"u235\", \"u238\", \"u233\", \"th232\", \"pu239\"]]\n",
    "    df11 = df11[df11[\"time\"] == 730][[\"time\", \"xe135\", \"kr86\", \"u235\", \"u238\", \"u233\", \"th232\", \"pu239\"]]\n",
    "    df13 = df13[df13[\"time\"] == 730][[\"time\", \"xe135\", \"kr86\", \"u235\", \"u238\", \"u233\", \"th232\", \"pu239\"]]\n",
    "    df15 = df15[df15[\"time\"] == 730][[\"time\", \"xe135\", \"kr86\", \"u235\", \"u238\", \"u233\", \"th232\", \"pu239\"]]\n",
    "    df17 = df17[df17[\"time\"] == 730][[\"time\", \"xe135\", \"kr86\", \"u235\", \"u238\", \"u233\", \"th232\", \"pu239\"]]\n",
    "    df33 = df33[df33[\"time\"] == 730][[\"time\", \"xe135\", \"kr86\", \"u235\", \"u238\", \"u233\", \"th232\", \"pu239\"]]\n",
    "    df65 = df65[df65[\"time\"] == 730][[\"time\", \"xe135\", \"kr86\", \"u235\", \"u238\", \"u233\", \"th232\", \"pu239\"]]\n",
    "\n",
    "    #results = pd.concat([df1, df2, df4, df8, df16, df32, df64])\n",
    "    results = pd.concat([df3, df5, df7, df9, df11, df13, df15, df17, df33, df65])\n",
    "    results['Steps'] = results.index\n",
    "    results = results.reset_index(drop=True)\n",
    "    results.at[0, 'Steps'] = 1\n",
    "    results.to_csv(reactor + z + \".csv\", sep=\",\")"
   ]
  },
  {
   "cell_type": "code",
   "execution_count": 64,
   "metadata": {},
   "outputs": [
    {
     "data": {
      "text/html": [
       "<div>\n",
       "<style scoped>\n",
       "    .dataframe tbody tr th:only-of-type {\n",
       "        vertical-align: middle;\n",
       "    }\n",
       "\n",
       "    .dataframe tbody tr th {\n",
       "        vertical-align: top;\n",
       "    }\n",
       "\n",
       "    .dataframe thead th {\n",
       "        text-align: right;\n",
       "    }\n",
       "</style>\n",
       "<table border=\"1\" class=\"dataframe\">\n",
       "  <thead>\n",
       "    <tr style=\"text-align: right;\">\n",
       "      <th></th>\n",
       "      <th>time</th>\n",
       "      <th>xe135</th>\n",
       "      <th>kr86</th>\n",
       "      <th>u235</th>\n",
       "      <th>u238</th>\n",
       "      <th>u233</th>\n",
       "      <th>th232</th>\n",
       "      <th>pu239</th>\n",
       "      <th>Steps</th>\n",
       "    </tr>\n",
       "  </thead>\n",
       "  <tbody>\n",
       "    <tr>\n",
       "      <th>0</th>\n",
       "      <td>730</td>\n",
       "      <td>0.008623</td>\n",
       "      <td>2.372492</td>\n",
       "      <td>9.138993e-20</td>\n",
       "      <td>5.377559e-20</td>\n",
       "      <td>1.579394e-19</td>\n",
       "      <td>5.257846e-20</td>\n",
       "      <td>1.644692e-19</td>\n",
       "      <td>1</td>\n",
       "    </tr>\n",
       "    <tr>\n",
       "      <th>1</th>\n",
       "      <td>730</td>\n",
       "      <td>0.008618</td>\n",
       "      <td>2.342564</td>\n",
       "      <td>9.138993e-20</td>\n",
       "      <td>5.377559e-20</td>\n",
       "      <td>1.579394e-19</td>\n",
       "      <td>5.257846e-20</td>\n",
       "      <td>1.644692e-19</td>\n",
       "      <td>2</td>\n",
       "    </tr>\n",
       "    <tr>\n",
       "      <th>2</th>\n",
       "      <td>730</td>\n",
       "      <td>0.008618</td>\n",
       "      <td>2.342564</td>\n",
       "      <td>9.138993e-20</td>\n",
       "      <td>5.377559e-20</td>\n",
       "      <td>1.579394e-19</td>\n",
       "      <td>5.257846e-20</td>\n",
       "      <td>1.644692e-19</td>\n",
       "      <td>4</td>\n",
       "    </tr>\n",
       "    <tr>\n",
       "      <th>3</th>\n",
       "      <td>730</td>\n",
       "      <td>0.008623</td>\n",
       "      <td>2.367051</td>\n",
       "      <td>9.138993e-20</td>\n",
       "      <td>5.377559e-20</td>\n",
       "      <td>1.579394e-19</td>\n",
       "      <td>5.257846e-20</td>\n",
       "      <td>1.644692e-19</td>\n",
       "      <td>8</td>\n",
       "    </tr>\n",
       "    <tr>\n",
       "      <th>4</th>\n",
       "      <td>730</td>\n",
       "      <td>0.008626</td>\n",
       "      <td>2.386096</td>\n",
       "      <td>9.138993e-20</td>\n",
       "      <td>5.377559e-20</td>\n",
       "      <td>1.579394e-19</td>\n",
       "      <td>5.257846e-20</td>\n",
       "      <td>1.644692e-19</td>\n",
       "      <td>16</td>\n",
       "    </tr>\n",
       "    <tr>\n",
       "      <th>5</th>\n",
       "      <td>730</td>\n",
       "      <td>0.008629</td>\n",
       "      <td>2.396979</td>\n",
       "      <td>9.138993e-20</td>\n",
       "      <td>5.377559e-20</td>\n",
       "      <td>1.579394e-19</td>\n",
       "      <td>5.257846e-20</td>\n",
       "      <td>1.644692e-19</td>\n",
       "      <td>32</td>\n",
       "    </tr>\n",
       "    <tr>\n",
       "      <th>6</th>\n",
       "      <td>730</td>\n",
       "      <td>0.008636</td>\n",
       "      <td>2.401060</td>\n",
       "      <td>9.138993e-20</td>\n",
       "      <td>5.377559e-20</td>\n",
       "      <td>1.579394e-19</td>\n",
       "      <td>5.257846e-20</td>\n",
       "      <td>1.644692e-19</td>\n",
       "      <td>64</td>\n",
       "    </tr>\n",
       "  </tbody>\n",
       "</table>\n",
       "</div>"
      ],
      "text/plain": [
       "   time     xe135      kr86          u235          u238          u233  \\\n",
       "0   730  0.008623  2.372492  9.138993e-20  5.377559e-20  1.579394e-19   \n",
       "1   730  0.008618  2.342564  9.138993e-20  5.377559e-20  1.579394e-19   \n",
       "2   730  0.008618  2.342564  9.138993e-20  5.377559e-20  1.579394e-19   \n",
       "3   730  0.008623  2.367051  9.138993e-20  5.377559e-20  1.579394e-19   \n",
       "4   730  0.008626  2.386096  9.138993e-20  5.377559e-20  1.579394e-19   \n",
       "5   730  0.008629  2.396979  9.138993e-20  5.377559e-20  1.579394e-19   \n",
       "6   730  0.008636  2.401060  9.138993e-20  5.377559e-20  1.579394e-19   \n",
       "\n",
       "          th232         pu239  Steps  \n",
       "0  5.257846e-20  1.644692e-19      1  \n",
       "1  5.257846e-20  1.644692e-19      2  \n",
       "2  5.257846e-20  1.644692e-19      4  \n",
       "3  5.257846e-20  1.644692e-19      8  \n",
       "4  5.257846e-20  1.644692e-19     16  \n",
       "5  5.257846e-20  1.644692e-19     32  \n",
       "6  5.257846e-20  1.644692e-19     64  "
      ]
     },
     "execution_count": 64,
     "metadata": {},
     "output_type": "execute_result"
    }
   ],
   "source": [
    "results"
   ]
  },
  {
   "cell_type": "markdown",
   "metadata": {},
   "source": [
    "Fissile materials and Fertile material composition U8, U5, U3 TH2. Plot them with mesh. \n",
    "\n",
    "Do 16, 32, 64 with 2 day at beggining (1%).\n",
    "\n",
    "Technical Report: very detailed parametric. What the systems look like and translate that into a simulation. Predict the real physical charsteristics of the system. \n",
    "\n",
    "Introudciton: why we are doing why is it important? Overview of the system, overview of the tools. \n",
    "Section for Validation: Code comparison, MSRE \n",
    "Section for Application: For these three systems this is what we calculate and behaviour of fission products,\n",
    "\n",
    "Print masss tables totals not necessarly normalize and see that conservation of mass ."
   ]
  },
  {
   "cell_type": "code",
   "execution_count": 53,
   "metadata": {},
   "outputs": [],
   "source": [
    "to_plot = list(results.columns)\n",
    "to_plot.pop(0)\n",
    "to_plot.pop(-1)"
   ]
  },
  {
   "cell_type": "code",
   "execution_count": 56,
   "metadata": {},
   "outputs": [
    {
     "data": {
      "image/png": "[encoded data removed]",
      "text/plain": [
       "<Figure size 432x288 with 1 Axes>"
      ]
     },
     "metadata": {
      "needs_background": "light"
     },
     "output_type": "display_data"
    },
    {
     "data": {
      "image/png": "[encoded data removed]",
      "text/plain": [
       "<Figure size 432x288 with 1 Axes>"
      ]
     },
     "metadata": {
      "needs_background": "light"
     },
     "output_type": "display_data"
    },
    {
     "data": {
      "image/png": "[encoded data removed]",
      "text/plain": [
       "<Figure size 432x288 with 1 Axes>"
      ]
     },
     "metadata": {
      "needs_background": "light"
     },
     "output_type": "display_data"
    },
    {
     "data": {
      "image/png": "[encoded data removed]",
      "text/plain": [
       "<Figure size 432x288 with 1 Axes>"
      ]
     },
     "metadata": {
      "needs_background": "light"
     },
     "output_type": "display_data"
    },
    {
     "data": {
      "image/png": "[encoded data removed]",
      "text/plain": [
       "<Figure size 432x288 with 1 Axes>"
      ]
     },
     "metadata": {
      "needs_background": "light"
     },
     "output_type": "display_data"
    },
    {
     "data": {
      "image/png": "[encoded data removed]",
      "text/plain": [
       "<Figure size 432x288 with 1 Axes>"
      ]
     },
     "metadata": {
      "needs_background": "light"
     },
     "output_type": "display_data"
    },
    {
     "data": {
      "image/png": "[encoded data removed]",
      "text/plain": [
       "<Figure size 432x288 with 1 Axes>"
      ]
     },
     "metadata": {
      "needs_background": "light"
     },
     "output_type": "display_data"
    }
   ],
   "source": [
    "for i in to_plot:\n",
    "    ax = results.plot(x=\"Steps\", y=i, grid=True, legend=True)\n",
    "    ax.set_ylabel(\"Concentration at T=730 days\")\n",
    "    ax.set_xlabel(\"Burnup Steps\")\n",
    "    plt.savefig((\"./\" + reactor + \"/\" + i + \"_parametric.png\"), format='png', dpi=1200)"
   ]
  },
  {
   "cell_type": "code",
   "execution_count": 45,
   "metadata": {},
   "outputs": [
    {
     "data": {
      "text/plain": [
       "Text(0.5, 0, 'Burnup Steps')"
      ]
     },
     "execution_count": 45,
     "metadata": {},
     "output_type": "execute_result"
    },
    {
     "data": {
      "image/png": "[encoded data removed]",
      "text/plain": [
       "<Figure size 432x288 with 1 Axes>"
      ]
     },
     "metadata": {
      "needs_background": "light"
     },
     "output_type": "display_data"
    }
   ],
   "source": [
    "ax = results.plot(x=\"Steps\", y=\"xe135\", grid=True, legend=True)\n",
    "ax.set_ylabel(\"Concentration at T=730 days\")\n",
    "ax.set_xlabel(\"Burnup Steps\")"
   ]
  },
  {
   "cell_type": "markdown",
   "metadata": {},
   "source": [
    "# Other"
   ]
  },
  {
   "cell_type": "code",
   "execution_count": 54,
   "metadata": {},
   "outputs": [
    {
     "name": "stdout",
     "output_type": "stream",
     "text": [
      "Searching directory for k_time*.csv files...\n"
     ]
    },
    {
     "data": {
      "text/html": [
       "<div>\n",
       "<style scoped>\n",
       "    .dataframe tbody tr th:only-of-type {\n",
       "        vertical-align: middle;\n",
       "    }\n",
       "\n",
       "    .dataframe tbody tr th {\n",
       "        vertical-align: top;\n",
       "    }\n",
       "\n",
       "    .dataframe thead th {\n",
       "        text-align: right;\n",
       "    }\n",
       "</style>\n",
       "<table border=\"1\" class=\"dataframe\">\n",
       "  <thead>\n",
       "    <tr style=\"text-align: right;\">\n",
       "      <th></th>\n",
       "      <th>xe135</th>\n",
       "      <th>kr86</th>\n",
       "    </tr>\n",
       "  </thead>\n",
       "  <tbody>\n",
       "    <tr>\n",
       "      <th>2</th>\n",
       "      <td>0.848338</td>\n",
       "      <td>0.279401</td>\n",
       "    </tr>\n",
       "    <tr>\n",
       "      <th>2</th>\n",
       "      <td>0.846581</td>\n",
       "      <td>0.278756</td>\n",
       "    </tr>\n",
       "    <tr>\n",
       "      <th>4</th>\n",
       "      <td>0.845995</td>\n",
       "      <td>0.278639</td>\n",
       "    </tr>\n",
       "    <tr>\n",
       "      <th>8</th>\n",
       "      <td>0.847167</td>\n",
       "      <td>0.279167</td>\n",
       "    </tr>\n",
       "    <tr>\n",
       "      <th>16</th>\n",
       "      <td>0.848338</td>\n",
       "      <td>0.279635</td>\n",
       "    </tr>\n",
       "  </tbody>\n",
       "</table>\n",
       "</div>"
      ],
      "text/plain": [
       "       xe135      kr86\n",
       "2   0.848338  0.279401\n",
       "2   0.846581  0.278756\n",
       "4   0.845995  0.278639\n",
       "8   0.847167  0.279167\n",
       "16  0.848338  0.279635"
      ]
     },
     "execution_count": 54,
     "metadata": {},
     "output_type": "execute_result"
    }
   ],
   "source": [
    "reactor = \"MSBR\"\n",
    "beta_directory = \"./\" + reactor + \"/OPUS/csv/\"\n",
    "\n",
    "print(\"Searching directory for k_time*.csv files...\")\n",
    "names = []\n",
    "for root, dirs, files in os.walk(beta_directory):\n",
    "    for file in files:\n",
    "        if file.startswith(\"salt_comp\"):\n",
    "            #print(os.path.join(root, file))\n",
    "            names.append(os.path.join(root, file))\n",
    "\n",
    "names = natsorted(names)\n",
    "names\n",
    "\n",
    "df1 = pd.DataFrame()\n",
    "df2 = pd.DataFrame()\n",
    "df4 = pd.DataFrame()\n",
    "df8 = pd.DataFrame()\n",
    "df16 = pd.DataFrame()\n",
    "\n",
    "for i in range(0, len(names)):\n",
    "    df = pd.read_csv(names[i])\n",
    "    if i == 0:\n",
    "        df1 = df.copy()\n",
    "    if i == 1:\n",
    "        df2 = df.copy()\n",
    "    if i == 2:\n",
    "        df4 = df.copy()\n",
    "    if i == 3:\n",
    "        df8 = df.copy()\n",
    "    if i == 4:\n",
    "        df16 = df.copy()\n",
    "        \n",
    "df1 = df1[df1[\"time\"] == 730][[\"xe135\", \"kr86\"]]\n",
    "df2 = df2[df2[\"time\"] == 730][[\"xe135\", \"kr86\"]]\n",
    "df4 = df4[df4[\"time\"] == 730][[\"xe135\", \"kr86\"]]\n",
    "df8 = df8[df8[\"time\"] == 730][[\"xe135\", \"kr86\"]]\n",
    "df16 = df16[df16[\"time\"] == 730][[\"xe135\", \"kr86\"]]\n",
    "\n",
    "results = pd.concat([df1, df2, df4, df8, df16])\n",
    "\n",
    "results"
   ]
  },
  {
   "cell_type": "code",
   "execution_count": 52,
   "metadata": {},
   "outputs": [
    {
     "name": "stdout",
     "output_type": "stream",
     "text": [
      "Searching directory for k_time*.csv files...\n"
     ]
    },
    {
     "data": {
      "text/html": [
       "<div>\n",
       "<style scoped>\n",
       "    .dataframe tbody tr th:only-of-type {\n",
       "        vertical-align: middle;\n",
       "    }\n",
       "\n",
       "    .dataframe tbody tr th {\n",
       "        vertical-align: top;\n",
       "    }\n",
       "\n",
       "    .dataframe thead th {\n",
       "        text-align: right;\n",
       "    }\n",
       "</style>\n",
       "<table border=\"1\" class=\"dataframe\">\n",
       "  <thead>\n",
       "    <tr style=\"text-align: right;\">\n",
       "      <th></th>\n",
       "      <th>xe135</th>\n",
       "      <th>kr86</th>\n",
       "    </tr>\n",
       "  </thead>\n",
       "  <tbody>\n",
       "    <tr>\n",
       "      <th>2</th>\n",
       "      <td>0.000803</td>\n",
       "      <td>0.000166</td>\n",
       "    </tr>\n",
       "    <tr>\n",
       "      <th>2</th>\n",
       "      <td>0.000802</td>\n",
       "      <td>0.000166</td>\n",
       "    </tr>\n",
       "    <tr>\n",
       "      <th>4</th>\n",
       "      <td>0.000802</td>\n",
       "      <td>0.000166</td>\n",
       "    </tr>\n",
       "    <tr>\n",
       "      <th>8</th>\n",
       "      <td>0.000803</td>\n",
       "      <td>0.000166</td>\n",
       "    </tr>\n",
       "    <tr>\n",
       "      <th>16</th>\n",
       "      <td>0.000803</td>\n",
       "      <td>0.000166</td>\n",
       "    </tr>\n",
       "  </tbody>\n",
       "</table>\n",
       "</div>"
      ],
      "text/plain": [
       "       xe135      kr86\n",
       "2   0.000803  0.000166\n",
       "2   0.000802  0.000166\n",
       "4   0.000802  0.000166\n",
       "8   0.000803  0.000166\n",
       "16  0.000803  0.000166"
      ]
     },
     "execution_count": 52,
     "metadata": {},
     "output_type": "execute_result"
    }
   ],
   "source": [
    "reactor = \"MSRE\"\n",
    "beta_directory = \"./\" + reactor + \"/OPUS/csv/\"\n",
    "\n",
    "print(\"Searching directory for k_time*.csv files...\")\n",
    "names = []\n",
    "for root, dirs, files in os.walk(beta_directory):\n",
    "    for file in files:\n",
    "        if file.startswith(\"salt_comp\"):\n",
    "            #print(os.path.join(root, file))\n",
    "            names.append(os.path.join(root, file))\n",
    "\n",
    "names = natsorted(names)\n",
    "names\n",
    "\n",
    "df1 = pd.DataFrame()\n",
    "df2 = pd.DataFrame()\n",
    "df4 = pd.DataFrame()\n",
    "df8 = pd.DataFrame()\n",
    "df16 = pd.DataFrame()\n",
    "\n",
    "for i in range(0, len(names)):\n",
    "    df = pd.read_csv(names[i])\n",
    "    if i == 0:\n",
    "        df1 = df.copy()\n",
    "    if i == 1:\n",
    "        df2 = df.copy()\n",
    "    if i == 2:\n",
    "        df4 = df.copy()\n",
    "    if i == 3:\n",
    "        df8 = df.copy()\n",
    "    if i == 4:\n",
    "        df16 = df.copy()\n",
    "        \n",
    "df1 = df1[df1[\"time\"] == 730][[\"xe135\", \"kr86\"]]\n",
    "df2 = df2[df2[\"time\"] == 730][[\"xe135\", \"kr86\"]]\n",
    "df4 = df4[df4[\"time\"] == 730][[\"xe135\", \"kr86\"]]\n",
    "df8 = df8[df8[\"time\"] == 730][[\"xe135\", \"kr86\"]]\n",
    "df16 = df16[df16[\"time\"] == 730][[\"xe135\", \"kr86\"]]\n",
    "\n",
    "results = pd.concat([df1, df2, df4, df8, df16])\n",
    "\n",
    "results"
   ]
  },
  {
   "cell_type": "code",
   "execution_count": 53,
   "metadata": {},
   "outputs": [
    {
     "name": "stdout",
     "output_type": "stream",
     "text": [
      "Searching directory for k_time*.csv files...\n"
     ]
    },
    {
     "data": {
      "text/html": [
       "<div>\n",
       "<style scoped>\n",
       "    .dataframe tbody tr th:only-of-type {\n",
       "        vertical-align: middle;\n",
       "    }\n",
       "\n",
       "    .dataframe tbody tr th {\n",
       "        vertical-align: top;\n",
       "    }\n",
       "\n",
       "    .dataframe thead th {\n",
       "        text-align: right;\n",
       "    }\n",
       "</style>\n",
       "<table border=\"1\" class=\"dataframe\">\n",
       "  <thead>\n",
       "    <tr style=\"text-align: right;\">\n",
       "      <th></th>\n",
       "      <th>xe135</th>\n",
       "      <th>kr86</th>\n",
       "    </tr>\n",
       "  </thead>\n",
       "  <tbody>\n",
       "    <tr>\n",
       "      <th>2</th>\n",
       "      <td>0.403836</td>\n",
       "      <td>0.070794</td>\n",
       "    </tr>\n",
       "    <tr>\n",
       "      <th>2</th>\n",
       "      <td>0.404147</td>\n",
       "      <td>0.070856</td>\n",
       "    </tr>\n",
       "    <tr>\n",
       "      <th>4</th>\n",
       "      <td>0.404023</td>\n",
       "      <td>0.070794</td>\n",
       "    </tr>\n",
       "    <tr>\n",
       "      <th>8</th>\n",
       "      <td>0.403712</td>\n",
       "      <td>0.070794</td>\n",
       "    </tr>\n",
       "    <tr>\n",
       "      <th>16</th>\n",
       "      <td>0.403464</td>\n",
       "      <td>0.070732</td>\n",
       "    </tr>\n",
       "  </tbody>\n",
       "</table>\n",
       "</div>"
      ],
      "text/plain": [
       "       xe135      kr86\n",
       "2   0.403836  0.070794\n",
       "2   0.404147  0.070856\n",
       "4   0.404023  0.070794\n",
       "8   0.403712  0.070794\n",
       "16  0.403464  0.070732"
      ]
     },
     "execution_count": 53,
     "metadata": {},
     "output_type": "execute_result"
    }
   ],
   "source": [
    "reactor = \"MSDR\"\n",
    "beta_directory = \"./\" + reactor + \"/OPUS/csv/\"\n",
    "\n",
    "print(\"Searching directory for k_time*.csv files...\")\n",
    "names = []\n",
    "for root, dirs, files in os.walk(beta_directory):\n",
    "    for file in files:\n",
    "        if file.startswith(\"salt_comp\"):\n",
    "            #print(os.path.join(root, file))\n",
    "            names.append(os.path.join(root, file))\n",
    "\n",
    "names = natsorted(names)\n",
    "names\n",
    "\n",
    "df1 = pd.DataFrame()\n",
    "df2 = pd.DataFrame()\n",
    "df4 = pd.DataFrame()\n",
    "df8 = pd.DataFrame()\n",
    "df16 = pd.DataFrame()\n",
    "\n",
    "for i in range(0, len(names)):\n",
    "    df = pd.read_csv(names[i])\n",
    "    if i == 0:\n",
    "        df1 = df.copy()\n",
    "    if i == 1:\n",
    "        df2 = df.copy()\n",
    "    if i == 2:\n",
    "        df4 = df.copy()\n",
    "    if i == 3:\n",
    "        df8 = df.copy()\n",
    "    if i == 4:\n",
    "        df16 = df.copy()\n",
    "        \n",
    "df1 = df1[df1[\"time\"] == 730][[\"xe135\", \"kr86\"]]\n",
    "df2 = df2[df2[\"time\"] == 730][[\"xe135\", \"kr86\"]]\n",
    "df4 = df4[df4[\"time\"] == 730][[\"xe135\", \"kr86\"]]\n",
    "df8 = df8[df8[\"time\"] == 730][[\"xe135\", \"kr86\"]]\n",
    "df16 = df16[df16[\"time\"] == 730][[\"xe135\", \"kr86\"]]\n",
    "\n",
    "results = pd.concat([df1, df2, df4, df8, df16])\n",
    "\n",
    "results"
   ]
  },
  {
   "cell_type": "code",
   "execution_count": null,
   "metadata": {},
   "outputs": [],
   "source": []
  }
 ],
 "metadata": {
  "kernelspec": {
   "display_name": "Python 3",
   "language": "python",
   "name": "python3"
  },
  "language_info": {
   "codemirror_mode": {
    "name": "ipython",
    "version": 3
   },
   "file_extension": ".py",
   "mimetype": "text/x-python",
   "name": "python",
   "nbconvert_exporter": "python",
   "pygments_lexer": "ipython3",
   "version": "3.7.2"
  }
 },
 "nbformat": 4,
 "nbformat_minor": 2
}
