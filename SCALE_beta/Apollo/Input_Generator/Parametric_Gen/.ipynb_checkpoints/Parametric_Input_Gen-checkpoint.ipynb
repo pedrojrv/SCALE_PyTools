{
 "cells": [
  {
   "cell_type": "markdown",
   "metadata": {},
   "source": [
    "# WORKING"
   ]
  },
  {
   "cell_type": "code",
   "execution_count": 1,
   "metadata": {},
   "outputs": [
    {
     "name": "stdout",
     "output_type": "stream",
     "text": [
      "[0.0, 0.05, 0.1, 0.12, 0.15, 0.2, 0.4, 0.6, 0.8, 1]\n",
      "['0', '5', '10', '12', '15', '20', '40', '60', '80', '100']\n"
     ]
    }
   ],
   "source": [
    "# # Importing Packages\n",
    "import pandas as pd\n",
    "import matplotlib.pyplot as plt\n",
    "from matplotlib.pyplot import figure\n",
    "import numpy as np\n",
    "import shutil\n",
    "import imageio\n",
    "import os\n",
    "import natsort\n",
    "from natsort import natsorted\n",
    "from decimal import Decimal\n",
    "from distutils.dir_util import copy_tree\n",
    "import glob, os, shutil\n",
    "from itertools import islice\n",
    "\n",
    "\n",
    "\n",
    "####################################################################################################\n",
    "    \n",
    "efficiencies = natsorted([1, 0.8, 0.6, 0.4, 0.2, 0.15, 0.12, 0.10, 0.05, 0.0])\n",
    "eff = natsorted(list(((np.array(efficiencies) * 100).astype(int)).astype(str)))\n",
    "print(natsorted(efficiencies))\n",
    "print(natsorted(eff))\n",
    "\n",
    "\n",
    "#####################################################################################################"
   ]
  },
  {
   "cell_type": "code",
   "execution_count": null,
   "metadata": {},
   "outputs": [],
   "source": [
    "decay = input(\"Add decay to removal constant? \")\n",
    "\n",
    "eff_strings = np.array(efficiencies) * 100\n",
    "eff_strings = eff_strings.astype(int)\n",
    "eff_strings = list(eff_strings.astype(str))\n",
    "print(\"Efficiencies to create input decks: {}\".format(eff_strings))\n",
    "\n",
    "# If decay is yes, Xe-135 decay constant is added (not isotope depandant, yet)\n",
    "xe_decay = 2.091667E-05 #[/s]\n",
    "\n",
    "# Values from WorkBook All Lambda\n",
    "MSBR_pre_eff = 0.001196901\n",
    "MSRE_pre_eff = 0.000246503\n",
    "MSDR_pre_eff = 0.003975773"
   ]
  },
  {
   "cell_type": "code",
   "execution_count": 2,
   "metadata": {
    "scrolled": true
   },
   "outputs": [
    {
     "name": "stdout",
     "output_type": "stream",
     "text": [
      "Copying Template Directory\n"
     ]
    }
   ],
   "source": [
    "# Copies template directory to a new SIMULATION directory (ex. Third) in the depleted folder\n",
    "fromDirectory = \"./Serpent/Depleted/Template/\"\n",
    "\n",
    "if not os.path.exists(\"./Serpent/Depleted/\" + simulation + \"/\"):\n",
    "    print(\"Copying Template Directory\")\n",
    "    toDirectory = \"./Serpent/Depleted/\" + simulation + \"/\"\n",
    "    copy_tree(fromDirectory, toDirectory)"
   ]
  },
  {
   "cell_type": "code",
   "execution_count": 3,
   "metadata": {},
   "outputs": [],
   "source": [
    "# Copies Unit Cell Folder which contains basic inputs except materials\n",
    "# to new directories (one per efficiency tested)\n",
    "fromDirectory = \"./Serpent/Depleted/\" + simulation + \"/\" + reactor + \"/2D_Unit_Cell/\"\n",
    "\n",
    "x = 0\n",
    "for i in range(0, len(eff)):\n",
    "    toDirectory = \"./Serpent/Depleted/\" + simulation + \"/\" + reactor + \"/2D_Unit_Cell_\" + eff[x] + \"/\"\n",
    "    copy_tree(fromDirectory, toDirectory)\n",
    "    x = x + 1"
   ]
  },
  {
   "cell_type": "code",
   "execution_count": 4,
   "metadata": {
    "scrolled": true
   },
   "outputs": [],
   "source": [
    "# Sets header for standard composition files\n",
    "headers = [\"Nuclide\", \"x1\", \"x2\", \"density\", \"temp\", \"end\"]\n",
    "materials = \"materials.txt\"\n",
    "\n",
    "#Reads the template MSR materials file \n",
    "with open(\"./Serpent/MSRmaterials_template\", \"r\") as myfile:\n",
    "    head = list(islice(myfile, 17))\n",
    "    \n",
    "x = 0\n",
    "for i in range(0, len(eff)):\n",
    "    if os.path.exists(materials):\n",
    "        os.remove(materials)\n",
    "    \n",
    "    # Reads standard composition files\n",
    "    composition = pd.read_csv(names[x], header=None, delimiter=r\"\\s+\", names=headers, skiprows=1)\n",
    "    composition[\"Nuclide\"] = composition[\"Nuclide\"].str.capitalize()\n",
    "    composition['Nuclide'] = composition['Nuclide'].astype(str) + '.09c' \n",
    "    composition = composition.drop(labels=[\"x1\", \"x2\", \"temp\", \"end\"], axis=1)\n",
    "    composition.to_csv(materials, index=False, header=False, sep=\" \")\n",
    "\n",
    "    # Opens materials text with atomic densities\n",
    "    with open(materials, \"r\") as myfile2:\n",
    "        head2 = list(myfile2)\n",
    "\n",
    "    # Creates a MSRmaterials file necessary for running serpent\n",
    "    with open(\"./Serpent/Depleted/\" + simulation + \"/\" + reactor + \"/2D_Unit_Cell_\" + eff[x] + \"/MSRmaterials\", \n",
    "              \"w\", newline=\"\\n\") as f2:\n",
    "        for item in head:\n",
    "            f2.write(item)\n",
    "        \n",
    "        # Depending on reactor it will print certain temperature\n",
    "        if reactor == \"MSDR\":\n",
    "            f2.write(\"mat fuel_salt sum tmp 900 rgb 255 255 150 \\n\")\n",
    "        elif reactor == \"MSBR\":\n",
    "            f2.write(\"mat fuel_salt sum tmp 978 rgb 255 255 150 \\n\")\n",
    "        elif reactor == \"MSRE\":\n",
    "            f2.write(\"mat fuel_salt sum tmp 922 rgb 255 255 150 \\n\")\n",
    "            \n",
    "        for item in head2:\n",
    "            f2.write(item)\n",
    "            \n",
    "    x = x + 1\n",
    "    \n",
    "# Closes open text files and removes materials (not needed)\n",
    "myfile.close()\n",
    "myfile2.close()\n",
    "f2.close()\n",
    "if os.path.exists(materials):\n",
    "    os.remove(materials)"
   ]
  },
  {
   "cell_type": "code",
   "execution_count": 23,
   "metadata": {},
   "outputs": [],
   "source": [
    "# Sets header for standard composition files\n",
    "headers = [\"Nuclide\", \"x1\", \"x2\", \"density\", \"temp\", \"end\"]\n",
    "detectors = \"detectors.txt\"\n",
    "\n",
    "#Reads the template MSR materials file \n",
    "with open(\"./Serpent/MSRdetectors_pin_template\", \"r\") as myfile:\n",
    "    head = list(islice(myfile, 113))\n",
    "    \n",
    "x = 0\n",
    "for i in range(0, len(eff)):\n",
    "    if os.path.exists(detectors):\n",
    "        os.remove(detectors)\n",
    "    \n",
    "    # Reads standard composition files\n",
    "    composition = pd.read_csv(names[x], header=None, delimiter=r\"\\s+\", names=headers, skiprows=1)\n",
    "    composition[\"Nuclide\"] = composition[\"Nuclide\"].str.capitalize()\n",
    "    composition['Nuclide'] = composition['Nuclide'].astype(str) + '.09c' \n",
    "    composition = composition.drop(labels=[\"x1\", \"x2\", \"temp\", \"end\"], axis=1)\n",
    "    composition.to_csv(detectors, index=False, header=False, sep=\" \")\n",
    "\n",
    "    # Opens materials text with atomic densities\n",
    "    with open(detectors, \"r\") as myfile2:\n",
    "        head2 = list(myfile2)\n",
    "\n",
    "    # Creates a MSRmaterials file necessary for running serpent\n",
    "    with open(\"./Serpent/Depleted/\" + simulation + \"/\" + reactor + \"/2D_Unit_Cell_\" + eff[x] + \"/MSRdetectors_pin\", \n",
    "              \"w\", newline=\"\\n\") as f2:\n",
    "        for item in head:\n",
    "            f2.write(item)\n",
    "\n",
    "        f2.write(\"mat Xe135 {}  Xe-135.09c 1. \\n\".format(str(float(\n",
    "            composition[composition[\"Nuclide\"] == \"Xe-135.09c\"][\"density\"]))))\n",
    "        f2.write(\"mat U235  {}  U-235.09c  1. \\n\".format(str(float(\n",
    "            composition[composition[\"Nuclide\"] == \"U-235.09c\"][\"density\"]))))\n",
    "        f2.write(\"mat U233  {}  U-233.09c  1. \\n\".format(str(float(\n",
    "            composition[composition[\"Nuclide\"] == \"U-233.09c\"][\"density\"]))))\n",
    "    \n",
    "            \n",
    "    x = x + 1\n",
    "    \n",
    "# Closes open text files and removes materials (not needed)\n",
    "myfile.close()\n",
    "myfile2.close()\n",
    "f2.close()\n",
    "if os.path.exists(detectors):\n",
    "    os.remove(detectors)"
   ]
  },
  {
   "cell_type": "code",
   "execution_count": 9,
   "metadata": {},
   "outputs": [],
   "source": [
    "# Creates a .sh file which runs serpent and matlab\n",
    "with open(\"serpent_runner_{}.sh\".format(reactor), \"w\", newline='\\n') as f2:\n",
    "    # MSBR\n",
    "    x = 0\n",
    "    for i in range(0, len(eff)):\n",
    "        f2.write(\"cd /mnt/c/Users/vicen/Desktop/SCALE_beta/Serpent/Depleted/{}/{}/2D_Unit_Cell_{}/ \\n\".format(\n",
    "            simulation, reactor, eff[x]))\n",
    "        f2.write(\"sss2 -omp 4 {}pin\\n\".format(reactor))\n",
    "        f2.write(\"\"\"matlab.exe -nodisplay -nosplash -nodesktop -r \"run('converter.m');exit;\" \\n \"\"\")\n",
    "        f2.write(\"\\n\")\n",
    "        \n",
    "        x = x + 1\n",
    "        \n",
    "f2.close()"
   ]
  },
  {
   "cell_type": "code",
   "execution_count": null,
   "metadata": {},
   "outputs": [],
   "source": [
    "# text_path = (\"./\" + reactor + \"/core_detector.mat\")\n",
    "# DATAFRAMEAPPENDCAPTURE\n",
    "# if os.path.exists(text_path):\n",
    "#     print(\"Processing Comparison\")\n",
    "\n",
    "#     # # Importing Serpent Detector Results\n",
    "#     # Importing Matlab files\n",
    "#     detectors = scipy.io.loadmat(text_path)\n",
    "#     # Accessing The Energy Detector DETflux_fuel\n",
    "#     DETEnergyDetectorNP = detectors['DETEnergyDetector']\n",
    "#     # Converting Numpy Matrix to Dataframe\n",
    "#     DETEnergyDetector = pd.DataFrame(DETEnergyDetectorNP)\n",
    "\n",
    "\n",
    "#     # Column Names as defined by Serpent Manual\n",
    "#     detector_columns = [\"Value Index\", \"EBIN\", \"UBINS\", \"CBINS\", \"MBINS\", \"LBINS\", \"RBINS\", \"ZBINS\", \"YBINS\", \"XBINS\", \"Mean Value\", \"Stat. Error\"]\n",
    "#     DETEnergyDetector.columns = detector_columns # Setting the column names\n",
    "\n",
    "#     # Getting the max flux for normalizing \n",
    "#     max_flux = DETEnergyDetector[\"Mean Value\"].max()\n",
    "#     print(\"The max mean flux is {}/cm^2*s\".format(max_flux))\n",
    "\n",
    "#     # Normalizing by Max Energy\n",
    "#     DETEnergyDetector[\"Mean_E_Norm\"] = DETEnergyDetector[\"Mean Value\"]/max_flux\n",
    "#     #DETEnergyDetector[\"Norm_Lethargy\"] = np.log(max_flux/DETEnergyDetector[\"Mean Value\"])"
   ]
  },
  {
   "cell_type": "markdown",
   "metadata": {},
   "source": [
    "# ------------------------------------------------------------------------"
   ]
  },
  {
   "cell_type": "markdown",
   "metadata": {},
   "source": [
    "# OTHER"
   ]
  },
  {
   "cell_type": "code",
   "execution_count": 182,
   "metadata": {},
   "outputs": [],
   "source": [
    "# beta_directory = \"./\" + reactor + \"/OPUS/csv/\"\n",
    "\n",
    "# print(\"Searching directory for .out files...\")\n",
    "# names = []\n",
    "# for root, dirs, files in os.walk(beta_directory):\n",
    "#     for file in files:\n",
    "#         if file.startswith(\"salt\"):\n",
    "#             print(os.path.join(root, file))\n",
    "#             names.append(os.path.join(root, file))"
   ]
  },
  {
   "cell_type": "code",
   "execution_count": 183,
   "metadata": {
    "scrolled": true
   },
   "outputs": [],
   "source": [
    "# comp_path = (\"./\" + reactor + \"/Depleted_Compositions/\") #ADD REACTOR_BETA_{} WHERE {} IS EFFICIENCY\n",
    "# if os.path.exists(comp_path):\n",
    "#     shutil.rmtree(comp_path)\n",
    "# os.makedirs(comp_path)\n",
    "    \n",
    "# x = 0\n",
    "# for i in range(0, len(names)):\n",
    "#     composition = pd.read_csv(names[x])\n",
    "#     testing = composition[composition[\"time\"] == 3600].T\n",
    "#     testing = testing.reset_index()\n",
    "#     testing.columns = [\"Nuclide\", \"Density\"]\n",
    "#     testing = testing.iloc[1:-2]\n",
    "#     nuclides = testing.Nuclide.str.extractall('(\\d+(?:\\.\\d+)?)|([^\\d.]+)').unstack().groupby(level=0, axis=1).first()\n",
    "#     nuclides.columns = [\"numeric\",\"string\"]\n",
    "#     nuclides[\"string\"] = nuclides[\"string\"].str.capitalize()\n",
    "#     nuclides[\"string\"] = nuclides[\"string\"].astype(str) + \"-\"\n",
    "#     nuclides[\"Nuclide\"] = nuclides[\"string\"].astype(str) + nuclides[\"numeric\"].astype(str)\n",
    "#     nuclides[\"Nuclide\"] = nuclides[\"Nuclide\"].astype(str) + \".09c\"\n",
    "#     testing[\"Nuclide\"] = nuclides[\"Nuclide\"]\n",
    "#     testing.to_csv((comp_path + \"salt_densities_\" + eff[x] + \".txt\"),\n",
    "#                   index=False, sep=\" \", header=False)\n",
    "#     x = x + 1"
   ]
  },
  {
   "cell_type": "code",
   "execution_count": 184,
   "metadata": {},
   "outputs": [],
   "source": [
    "# if reactor == \"MSDR\":\n",
    "#     isotopes_interest = [\"f19\", \"th232\", \"li7\", \"be9\", \"u233\", \"xe135\"]\n",
    "# elif reactor == \"MSBR\":\n",
    "#     isotopes_interest = [\"f19\", \"th232\", \"li7\", \"be9\", \"u233\", \"xe135\"]\n",
    "# elif reactor == \"MSRE\":\n",
    "#     isotopes_interest = [\"f19\", \"th232\", \"li7\", \"be9\", \"u233\", \"xe135\"]\n",
    "# else:\n",
    "#     print(\"No isotopes of interest defined...\")\n",
    "    \n",
    "# di = {\"f19\": \"F-19.09c\", \n",
    "#       \"th232\": \"Th-232.09c\", \n",
    "#       \"li7\": \"Li-7.09c\", \n",
    "#       \"be9\": \"Be-9.09c\", \n",
    "#       \"u233\": \"U-233.09c\", \n",
    "#       \"xe135\": \"Xe-135.09c\"}"
   ]
  },
  {
   "cell_type": "code",
   "execution_count": 185,
   "metadata": {},
   "outputs": [],
   "source": [
    "# serpent = testing.loc[testing['index'].isin(isotopes_interest)]\n",
    "# serpent.columns = [\"index\", \"density\"]"
   ]
  },
  {
   "cell_type": "code",
   "execution_count": 186,
   "metadata": {},
   "outputs": [],
   "source": [
    "# serpent = serpent.replace({\"index\": di})\n",
    "# serpent[\"density\"] = serpent[[\"density\"]]*-1\n",
    "# serpent"
   ]
  },
  {
   "cell_type": "code",
   "execution_count": 187,
   "metadata": {},
   "outputs": [],
   "source": [
    "# isotopes = list(composition.columns)\n",
    "# isotopes.pop(0)\n",
    "# isotopes.pop(-1)\n",
    "# isotopes.pop(-1)"
   ]
  },
  {
   "cell_type": "code",
   "execution_count": 188,
   "metadata": {},
   "outputs": [],
   "source": [
    "# appending = pd.DataFrame({\"index\": isotopes_interest})\n",
    "# appending"
   ]
  },
  {
   "cell_type": "code",
   "execution_count": 189,
   "metadata": {},
   "outputs": [],
   "source": [
    "# for i in isotopes_interest:\n",
    "#     example = testing[testing[\"index\"] == i]\n",
    "#     print(example)\n",
    "#     appending.merge(example, on=\"index\")"
   ]
  }
 ],
 "metadata": {
  "kernelspec": {
   "display_name": "Python 3",
   "language": "python",
   "name": "python3"
  },
  "language_info": {
   "codemirror_mode": {
    "name": "ipython",
    "version": 3
   },
   "file_extension": ".py",
   "mimetype": "text/x-python",
   "name": "python",
   "nbconvert_exporter": "python",
   "pygments_lexer": "ipython3",
   "version": "3.7.2"
  }
 },
 "nbformat": 4,
 "nbformat_minor": 2
}
