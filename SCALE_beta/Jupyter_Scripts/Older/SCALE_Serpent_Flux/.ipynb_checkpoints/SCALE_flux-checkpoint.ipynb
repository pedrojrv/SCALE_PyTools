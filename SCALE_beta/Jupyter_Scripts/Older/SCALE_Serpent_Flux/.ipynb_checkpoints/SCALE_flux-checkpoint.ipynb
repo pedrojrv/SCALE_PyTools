{
 "cells": [
  {
   "cell_type": "markdown",
   "metadata": {},
   "source": [
    "# Importing Packages"
   ]
  },
  {
   "cell_type": "code",
   "execution_count": 28,
   "metadata": {},
   "outputs": [],
   "source": [
    "import pandas as pd\n",
    "%matplotlib inline\n",
    "import matplotlib.pyplot as plt\n",
    "from matplotlib.pyplot import figure\n",
    "import numpy as np\n",
    "import shutil\n",
    "\n",
    "import imageio\n",
    "import os\n",
    "import natsort\n",
    "\n",
    "from datetime import datetime, date, time\n",
    "import scipy.io\n",
    "from scipy.io import loadmat\n",
    "\n",
    "# pd.set_option(\"display.precision\", 15)"
   ]
  },
  {
   "cell_type": "code",
   "execution_count": 29,
   "metadata": {},
   "outputs": [],
   "source": [
    "# Options are MSDR, MSRE, MSBR\n",
    "# This implies that output files are named reactor_beta.out\n",
    "# This imples that core_detector.mat is in directory for the reactor of interest\n",
    "reactor = \"MSDR\""
   ]
  },
  {
   "cell_type": "markdown",
   "metadata": {},
   "source": [
    "# Parsing Scale Output for Fine Group Flux in Fuel, Graphite and Entire Cell"
   ]
  },
  {
   "cell_type": "code",
   "execution_count": 30,
   "metadata": {},
   "outputs": [
    {
     "name": "stdout",
     "output_type": "stream",
     "text": [
      "There are 11 transport calculation results.\n"
     ]
    }
   ],
   "source": [
    "ocurrences_fine = open((reactor + \"_beta.out\"), 'r').read().count(\n",
    "    \" k-eff =       \")\n",
    "print(\"There are {} transport calculation results.\".format(ocurrences_fine))"
   ]
  },
  {
   "cell_type": "code",
   "execution_count": 31,
   "metadata": {},
   "outputs": [
    {
     "name": "stdout",
     "output_type": "stream",
     "text": [
      "There are 11 transport calculation results.\n"
     ]
    }
   ],
   "source": [
    "ocurrences_fine = open((reactor + \"_beta.out\"), 'r').read().count(\n",
    "    \"Time=\")\n",
    "print(\"There are {} transport calculation results.\".format(ocurrences_fine))"
   ]
  },
  {
   "cell_type": "code",
   "execution_count": 32,
   "metadata": {},
   "outputs": [],
   "source": [
    "text_path = (\"k_eff_\" + reactor + \".txt\")\n",
    "if os.path.exists(text_path):\n",
    "    os.remove(text_path)\n",
    "    \n",
    "outfile_msdr = open(text_path, \"a\")\n",
    "with open((reactor + \"_beta.out\"), 'r') as f:\n",
    "    textfile_temp = f.read()\n",
    "    for i in range(1, ocurrences_fine+1):\n",
    "        outfile_msdr.write(textfile_temp.split(' k-eff = ')[i].split(\n",
    "            \"Time=\")[0])\n",
    "    f.close()\n",
    "outfile_msdr.close()"
   ]
  },
  {
   "cell_type": "code",
   "execution_count": 33,
   "metadata": {},
   "outputs": [],
   "source": [
    "text_path2 = (\"k_times_\" + reactor + \".txt\")\n",
    "if os.path.exists(text_path2):\n",
    "    os.remove(text_path2)\n",
    "    \n",
    "outfile_msdr = open(text_path2, \"a\")\n",
    "with open((reactor + \"_beta.out\"), 'r') as f:\n",
    "    textfile_temp = f.read()\n",
    "    for i in range(1, ocurrences_fine+1):\n",
    "        outfile_msdr.write(textfile_temp.split('Time=')[i].split(\n",
    "            \"d Nominal conditions\")[0])\n",
    "    f.close()\n",
    "outfile_msdr.close()"
   ]
  },
  {
   "cell_type": "code",
   "execution_count": 66,
   "metadata": {},
   "outputs": [],
   "source": [
    "df_keff = pd.read_csv(text_path, header=None, delimiter=r\"\\s+\", index_col=False)\n",
    "df_time = pd.read_csv(text_path2, header=None, delimiter=r\"\\s+\", index_col=False)"
   ]
  },
  {
   "cell_type": "code",
   "execution_count": 67,
   "metadata": {},
   "outputs": [],
   "source": [
    "df_keff = df_keff.T\n",
    "df_time = df_time.T"
   ]
  },
  {
   "cell_type": "code",
   "execution_count": 68,
   "metadata": {},
   "outputs": [],
   "source": [
    "df_ktime = pd.concat([df_keff, df_time], axis=1, sort=False)"
   ]
  },
  {
   "cell_type": "code",
   "execution_count": 69,
   "metadata": {},
   "outputs": [],
   "source": [
    "df_ktime.columns = ['K_eff', 'Time']"
   ]
  },
  {
   "cell_type": "code",
   "execution_count": 71,
   "metadata": {},
   "outputs": [
    {
     "data": {
      "image/png": "[encoded data removed]",
      "text/plain": [
       "<Figure size 504x360 with 1 Axes>"
      ]
     },
     "metadata": {
      "needs_background": "light"
     },
     "output_type": "display_data"
    }
   ],
   "source": [
    "ax = df_ktime.plot(\"Time\", \"K_eff\", figsize=(7, 5), title=\"K_eff vs Time\")\n",
    "ax.set_ylabel(\"K-eff\")\n",
    "ax.grid()\n",
    "plt.savefig(\"K_time.png\")"
   ]
  },
  {
   "cell_type": "markdown",
   "metadata": {},
   "source": [
    "# Burnup K"
   ]
  },
  {
   "cell_type": "code",
   "execution_count": 43,
   "metadata": {},
   "outputs": [],
   "source": [
    "text_path3 = (\"k_burnups_\" + reactor + \".txt\")\n",
    "if os.path.exists(text_path3):\n",
    "    os.remove(text_path3)\n",
    "    \n",
    "outfile_msdr = open(text_path3, \"a\")\n",
    "with open((reactor + \"_beta.out\"), 'r') as f:\n",
    "    textfile_temp = f.read()\n",
    "    for i in range(1, ocurrences_fine+1):\n",
    "        outfile_msdr.write(textfile_temp.split(', Burnup =')[i].split(\n",
    "            \"GWd/MTIHM\")[0])\n",
    "    f.close()\n",
    "outfile_msdr.close()"
   ]
  },
  {
   "cell_type": "code",
   "execution_count": 53,
   "metadata": {},
   "outputs": [],
   "source": [
    "df_burnup = pd.read_csv(text_path3, header=None, delimiter=r\"\\s+\", index_col=False)#, names=headers_msdr)"
   ]
  },
  {
   "cell_type": "code",
   "execution_count": 54,
   "metadata": {},
   "outputs": [],
   "source": [
    "df_burnup = df_burnup.T"
   ]
  },
  {
   "cell_type": "code",
   "execution_count": 55,
   "metadata": {},
   "outputs": [],
   "source": [
    "df_kburn = pd.concat([df_keff, df_burnup], axis=1, sort=False)"
   ]
  },
  {
   "cell_type": "code",
   "execution_count": 56,
   "metadata": {},
   "outputs": [],
   "source": [
    "df_kburn.columns = ['K_eff', 'Burnup (GWd/MTIHM)']"
   ]
  },
  {
   "cell_type": "code",
   "execution_count": 65,
   "metadata": {},
   "outputs": [
    {
     "data": {
      "image/png": "[encoded data removed]",
      "text/plain": [
       "<Figure size 504x360 with 1 Axes>"
      ]
     },
     "metadata": {
      "needs_background": "light"
     },
     "output_type": "display_data"
    }
   ],
   "source": [
    "ax = df_kburn.plot(\"Burnup (GWd/MTIHM)\", \"K_eff\", figsize=(7, 5), title=\"K_eff vs Burnup\")\n",
    "ax.set_ylabel(\"K-eff\")\n",
    "ax.grid()\n",
    "plt.savefig(\"K_burnup.png\")"
   ]
  },
  {
   "cell_type": "code",
   "execution_count": 66,
   "metadata": {},
   "outputs": [],
   "source": [
    "# ax = df_msdr.iloc[0:252, [0,6]].plot('Group No', 'Total_Flux', figsize=(12, 7), legend=None)\n",
    "# plt.gca().invert_xaxis()"
   ]
  },
  {
   "cell_type": "markdown",
   "metadata": {},
   "source": [
    "# Parsing Scale Output for Transport Calculation Results (Unit Cell)"
   ]
  },
  {
   "cell_type": "markdown",
   "metadata": {},
   "source": [
    "We need to find the number of transport calculations that were performed."
   ]
  },
  {
   "cell_type": "code",
   "execution_count": 67,
   "metadata": {},
   "outputs": [
    {
     "name": "stdout",
     "output_type": "stream",
     "text": [
      "There are 5 transport calculation results.\n"
     ]
    }
   ],
   "source": [
    "ocurrences = open((reactor + \"_beta.out\"), 'r').read().count(\" Equivalent core height is infinite.\")\n",
    "print(\"There are {} transport calculation results.\".format(ocurrences))"
   ]
  },
  {
   "cell_type": "code",
   "execution_count": 68,
   "metadata": {},
   "outputs": [],
   "source": [
    "text_path = (\"result_\" + reactor + \".txt\")\n",
    "if os.path.exists(text_path):\n",
    "    os.remove((\"result_\" + reactor + \".txt\"))\n",
    "    \n",
    "outfile = open((\"result_\" + reactor + \".txt\"), \"a\")\n",
    "\n",
    "with open((reactor + \"_beta.out\"), 'r') as f:\n",
    "    textfile_temp = f.read()\n",
    "    for i in range(1,(ocurrences + 1)):\n",
    "        outfile.write(textfile_temp.split('   No    Energy(eV)   Flux       Flux      Adj.Flux   Adj.Flux  \\n')[i].split(\n",
    "            \" NOTE: Flux values above are per unit-lethargy.\\n\")[0])"
   ]
  },
  {
   "cell_type": "markdown",
   "metadata": {},
   "source": [
    "### SCALE Output into Dataframe"
   ]
  },
  {
   "cell_type": "markdown",
   "metadata": {},
   "source": [
    "We know define and specify our dataframe:"
   ]
  },
  {
   "cell_type": "code",
   "execution_count": 69,
   "metadata": {},
   "outputs": [],
   "source": [
    "headers = ['Group No', 'Upper Energy (eV)', 'Critical Flux', 'Inf. Med. Flux.', \\\n",
    "           'Critical Adj. Flux', 'Inf. Med. Adj. Flux']\n",
    "\n",
    "df = pd.read_csv((\"result_\" + reactor + \".txt\"), header=None, delimiter=r\"\\s+\", names=headers)"
   ]
  },
  {
   "cell_type": "markdown",
   "metadata": {},
   "source": [
    "We take a peak into our resulting dataframe:"
   ]
  },
  {
   "cell_type": "code",
   "execution_count": 70,
   "metadata": {},
   "outputs": [
    {
     "data": {
      "text/html": [
       "<div>\n",
       "<style scoped>\n",
       "    .dataframe tbody tr th:only-of-type {\n",
       "        vertical-align: middle;\n",
       "    }\n",
       "\n",
       "    .dataframe tbody tr th {\n",
       "        vertical-align: top;\n",
       "    }\n",
       "\n",
       "    .dataframe thead th {\n",
       "        text-align: right;\n",
       "    }\n",
       "</style>\n",
       "<table border=\"1\" class=\"dataframe\">\n",
       "  <thead>\n",
       "    <tr style=\"text-align: right;\">\n",
       "      <th></th>\n",
       "      <th>Group No</th>\n",
       "      <th>Upper Energy (eV)</th>\n",
       "      <th>Critical Flux</th>\n",
       "      <th>Inf. Med. Flux.</th>\n",
       "      <th>Critical Adj. Flux</th>\n",
       "      <th>Inf. Med. Adj. Flux</th>\n",
       "    </tr>\n",
       "  </thead>\n",
       "  <tbody>\n",
       "    <tr>\n",
       "      <th>0</th>\n",
       "      <td>1</td>\n",
       "      <td>20000000.0</td>\n",
       "      <td>0.000000e+00</td>\n",
       "      <td>0.000000e+00</td>\n",
       "      <td>0.000770</td>\n",
       "      <td>0.000770</td>\n",
       "    </tr>\n",
       "    <tr>\n",
       "      <th>1</th>\n",
       "      <td>2</td>\n",
       "      <td>17330000.0</td>\n",
       "      <td>0.000000e+00</td>\n",
       "      <td>0.000000e+00</td>\n",
       "      <td>0.001132</td>\n",
       "      <td>0.001132</td>\n",
       "    </tr>\n",
       "    <tr>\n",
       "      <th>2</th>\n",
       "      <td>3</td>\n",
       "      <td>15680000.0</td>\n",
       "      <td>0.000000e+00</td>\n",
       "      <td>0.000000e+00</td>\n",
       "      <td>0.001540</td>\n",
       "      <td>0.001540</td>\n",
       "    </tr>\n",
       "    <tr>\n",
       "      <th>3</th>\n",
       "      <td>4</td>\n",
       "      <td>14550000.0</td>\n",
       "      <td>6.374000e-12</td>\n",
       "      <td>6.374000e-12</td>\n",
       "      <td>0.002281</td>\n",
       "      <td>0.002281</td>\n",
       "    </tr>\n",
       "    <tr>\n",
       "      <th>4</th>\n",
       "      <td>5</td>\n",
       "      <td>13840000.0</td>\n",
       "      <td>1.031000e-06</td>\n",
       "      <td>1.031000e-06</td>\n",
       "      <td>0.001507</td>\n",
       "      <td>0.001507</td>\n",
       "    </tr>\n",
       "  </tbody>\n",
       "</table>\n",
       "</div>"
      ],
      "text/plain": [
       "   Group No  Upper Energy (eV)  Critical Flux  Inf. Med. Flux.  \\\n",
       "0         1         20000000.0   0.000000e+00     0.000000e+00   \n",
       "1         2         17330000.0   0.000000e+00     0.000000e+00   \n",
       "2         3         15680000.0   0.000000e+00     0.000000e+00   \n",
       "3         4         14550000.0   6.374000e-12     6.374000e-12   \n",
       "4         5         13840000.0   1.031000e-06     1.031000e-06   \n",
       "\n",
       "   Critical Adj. Flux  Inf. Med. Adj. Flux  \n",
       "0            0.000770             0.000770  \n",
       "1            0.001132             0.001132  \n",
       "2            0.001540             0.001540  \n",
       "3            0.002281             0.002281  \n",
       "4            0.001507             0.001507  "
      ]
     },
     "execution_count": 70,
     "metadata": {},
     "output_type": "execute_result"
    }
   ],
   "source": [
    "df.head()"
   ]
  },
  {
   "cell_type": "markdown",
   "metadata": {},
   "source": [
    "We can graph the initial transport results (critical flux):"
   ]
  },
  {
   "cell_type": "code",
   "execution_count": 71,
   "metadata": {
    "scrolled": false
   },
   "outputs": [],
   "source": [
    "# ax = df.iloc[0:252, [0,2]].plot('Group No', 'Critical Flux', figsize=(15, 7), legend=None)\n",
    "# plt.gca().invert_xaxis()"
   ]
  },
  {
   "cell_type": "markdown",
   "metadata": {},
   "source": [
    "We can now plot every transport calculation througout time and save it for future analysis:"
   ]
  },
  {
   "cell_type": "code",
   "execution_count": 101,
   "metadata": {
    "scrolled": false
   },
   "outputs": [
    {
     "data": {
      "image/png": "[encoded data removed]",
      "text/plain": [
       "<Figure size 504x360 with 1 Axes>"
      ]
     },
     "metadata": {
      "needs_background": "light"
     },
     "output_type": "display_data"
    }
   ],
   "source": [
    "flux_gif = \"./FluxGif/\" + reactor\n",
    "if os.path.exists(flux_gif):\n",
    "    shutil.rmtree(flux_gif)\n",
    "os.makedirs(flux_gif)\n",
    "\n",
    "if reactor == \"MSRE\":\n",
    "    limity = (0, 0.050)\n",
    "elif reactor == \"MSDR\":\n",
    "    limity = (0, 0.010)\n",
    "\n",
    "ax = df.iloc[0:252, [0,2]].plot('Group No', 'Critical Flux', figsize=(7, 5), legend=None, ylim=limity)\n",
    "plt.gca().invert_xaxis()\n",
    "for i in range(1, ocurrences):\n",
    "    df.iloc[252*i:(252*(i+1)), [0,2]].plot('Group No', 'Critical Flux', legend=None, ylim=(0, 0.010))\n",
    "    plt.gca().invert_xaxis()\n",
    "    plt.savefig(flux_gif + \"/step\" + str(i) + \".png\")\n",
    "    plt.close()"
   ]
  },
  {
   "cell_type": "markdown",
   "metadata": {},
   "source": [
    "Having all transport calculation plots saved, we will now create an animation to observe how the flux changes with time (burnup):"
   ]
  },
  {
   "cell_type": "code",
   "execution_count": 73,
   "metadata": {},
   "outputs": [],
   "source": [
    "gif_path = \"./FluxGif/\"\n",
    "images = [] #empty list where images will be stored for animation\n",
    "for file_name in natsort.natsorted(os.listdir(flux_gif)):\n",
    "    if file_name.endswith('.png'):\n",
    "        file_path = os.path.join(flux_gif, file_name)\n",
    "        images.append(imageio.imread(file_path))\n",
    "\n",
    "#Saving the images as an animation        \n",
    "imageio.mimsave((flux_gif + '.gif'), images, fps=10)"
   ]
  },
  {
   "cell_type": "markdown",
   "metadata": {},
   "source": [
    "# Importing Serpent Detector Results"
   ]
  },
  {
   "cell_type": "code",
   "execution_count": 74,
   "metadata": {},
   "outputs": [
    {
     "name": "stderr",
     "output_type": "stream",
     "text": [
      "C:\\Users\\vicen\\Anaconda3\\envs\\data_mining\\lib\\site-packages\\scipy\\io\\matlab\\mio.py:208: MatReadWarning: Duplicate variable name \"None\" in stream - replacing previous with new\n",
      "Consider mio5.varmats_from_mat to split file into single variable files\n",
      "  matfile_dict = MR.get_variables(variable_names)\n"
     ]
    }
   ],
   "source": [
    "# Importing Matlab files\n",
    "detectors = scipy.io.loadmat('core_detector.mat')\n",
    "\n",
    "# Accessing The Energy Detector DETflux_fuel\n",
    "DETEnergyDetectorNP = detectors['DETflux_fuel']\n",
    "\n",
    "# Converting Numpy Matrix to Dataframe\n",
    "DETEnergyDetector = pd.DataFrame(DETEnergyDetectorNP)"
   ]
  },
  {
   "cell_type": "code",
   "execution_count": 75,
   "metadata": {},
   "outputs": [],
   "source": [
    "# Column Names as defined by Serpent Manual\n",
    "detector_columns = [\"Value Index\", \"EBIN\", \"UBINS\", \"CBINS\", \"MBINS\", \\\n",
    "                    \"LBINS\", \"RBINS\", \"ZBINS\", \"YBINS\", \"XBINS\", \\\n",
    "                    \"Mean Value\", \"Stat. Error\"]\n",
    "\n",
    "DETEnergyDetector.columns = detector_columns # Setting the column names"
   ]
  },
  {
   "cell_type": "code",
   "execution_count": 76,
   "metadata": {},
   "outputs": [
    {
     "data": {
      "text/html": [
       "<div>\n",
       "<style scoped>\n",
       "    .dataframe tbody tr th:only-of-type {\n",
       "        vertical-align: middle;\n",
       "    }\n",
       "\n",
       "    .dataframe tbody tr th {\n",
       "        vertical-align: top;\n",
       "    }\n",
       "\n",
       "    .dataframe thead th {\n",
       "        text-align: right;\n",
       "    }\n",
       "</style>\n",
       "<table border=\"1\" class=\"dataframe\">\n",
       "  <thead>\n",
       "    <tr style=\"text-align: right;\">\n",
       "      <th></th>\n",
       "      <th>Value Index</th>\n",
       "      <th>EBIN</th>\n",
       "      <th>UBINS</th>\n",
       "      <th>CBINS</th>\n",
       "      <th>MBINS</th>\n",
       "      <th>LBINS</th>\n",
       "      <th>RBINS</th>\n",
       "      <th>ZBINS</th>\n",
       "      <th>YBINS</th>\n",
       "      <th>XBINS</th>\n",
       "      <th>Mean Value</th>\n",
       "      <th>Stat. Error</th>\n",
       "    </tr>\n",
       "  </thead>\n",
       "  <tbody>\n",
       "    <tr>\n",
       "      <th>0</th>\n",
       "      <td>1.0</td>\n",
       "      <td>1.0</td>\n",
       "      <td>1.0</td>\n",
       "      <td>1.0</td>\n",
       "      <td>1.0</td>\n",
       "      <td>1.0</td>\n",
       "      <td>1.0</td>\n",
       "      <td>1.0</td>\n",
       "      <td>1.0</td>\n",
       "      <td>1.0</td>\n",
       "      <td>1.846210e+14</td>\n",
       "      <td>0.29162</td>\n",
       "    </tr>\n",
       "    <tr>\n",
       "      <th>1</th>\n",
       "      <td>2.0</td>\n",
       "      <td>2.0</td>\n",
       "      <td>1.0</td>\n",
       "      <td>1.0</td>\n",
       "      <td>1.0</td>\n",
       "      <td>1.0</td>\n",
       "      <td>1.0</td>\n",
       "      <td>1.0</td>\n",
       "      <td>1.0</td>\n",
       "      <td>1.0</td>\n",
       "      <td>9.673020e+14</td>\n",
       "      <td>0.31511</td>\n",
       "    </tr>\n",
       "    <tr>\n",
       "      <th>2</th>\n",
       "      <td>3.0</td>\n",
       "      <td>3.0</td>\n",
       "      <td>1.0</td>\n",
       "      <td>1.0</td>\n",
       "      <td>1.0</td>\n",
       "      <td>1.0</td>\n",
       "      <td>1.0</td>\n",
       "      <td>1.0</td>\n",
       "      <td>1.0</td>\n",
       "      <td>1.0</td>\n",
       "      <td>6.061520e+15</td>\n",
       "      <td>0.14455</td>\n",
       "    </tr>\n",
       "    <tr>\n",
       "      <th>3</th>\n",
       "      <td>4.0</td>\n",
       "      <td>4.0</td>\n",
       "      <td>1.0</td>\n",
       "      <td>1.0</td>\n",
       "      <td>1.0</td>\n",
       "      <td>1.0</td>\n",
       "      <td>1.0</td>\n",
       "      <td>1.0</td>\n",
       "      <td>1.0</td>\n",
       "      <td>1.0</td>\n",
       "      <td>7.624790e+15</td>\n",
       "      <td>0.17991</td>\n",
       "    </tr>\n",
       "    <tr>\n",
       "      <th>4</th>\n",
       "      <td>5.0</td>\n",
       "      <td>5.0</td>\n",
       "      <td>1.0</td>\n",
       "      <td>1.0</td>\n",
       "      <td>1.0</td>\n",
       "      <td>1.0</td>\n",
       "      <td>1.0</td>\n",
       "      <td>1.0</td>\n",
       "      <td>1.0</td>\n",
       "      <td>1.0</td>\n",
       "      <td>9.823430e+15</td>\n",
       "      <td>0.14173</td>\n",
       "    </tr>\n",
       "  </tbody>\n",
       "</table>\n",
       "</div>"
      ],
      "text/plain": [
       "   Value Index  EBIN  UBINS  CBINS  MBINS  LBINS  RBINS  ZBINS  YBINS  XBINS  \\\n",
       "0          1.0   1.0    1.0    1.0    1.0    1.0    1.0    1.0    1.0    1.0   \n",
       "1          2.0   2.0    1.0    1.0    1.0    1.0    1.0    1.0    1.0    1.0   \n",
       "2          3.0   3.0    1.0    1.0    1.0    1.0    1.0    1.0    1.0    1.0   \n",
       "3          4.0   4.0    1.0    1.0    1.0    1.0    1.0    1.0    1.0    1.0   \n",
       "4          5.0   5.0    1.0    1.0    1.0    1.0    1.0    1.0    1.0    1.0   \n",
       "\n",
       "     Mean Value  Stat. Error  \n",
       "0  1.846210e+14      0.29162  \n",
       "1  9.673020e+14      0.31511  \n",
       "2  6.061520e+15      0.14455  \n",
       "3  7.624790e+15      0.17991  \n",
       "4  9.823430e+15      0.14173  "
      ]
     },
     "execution_count": 76,
     "metadata": {},
     "output_type": "execute_result"
    }
   ],
   "source": [
    "DETEnergyDetector.head()"
   ]
  },
  {
   "cell_type": "code",
   "execution_count": 77,
   "metadata": {},
   "outputs": [
    {
     "name": "stdout",
     "output_type": "stream",
     "text": [
      "The max mean flux is 1.21472e+20/cm^2*s\n"
     ]
    }
   ],
   "source": [
    "# Getting the max flux for normalizing \n",
    "max_flux = DETEnergyDetector[\"Mean Value\"].max()\n",
    "print(\"The max mean flux is {}/cm^2*s\".format(max_flux))"
   ]
  },
  {
   "cell_type": "code",
   "execution_count": 78,
   "metadata": {},
   "outputs": [],
   "source": [
    "# Normalizing by Max Energy\n",
    "DETEnergyDetector[\"Mean_E_Norm\"] = DETEnergyDetector[\"Mean Value\"]/max_flux\n",
    "DETEnergyDetector[\"Norm_Lethargy\"] = np.log(max_flux/DETEnergyDetector[\"Mean Value\"])"
   ]
  },
  {
   "cell_type": "code",
   "execution_count": 79,
   "metadata": {},
   "outputs": [],
   "source": [
    "# DETEnergyDetector.plot('EBIN', 'Mean_E_Norm', legend=None)"
   ]
  },
  {
   "cell_type": "markdown",
   "metadata": {},
   "source": [
    "# Normalizing SCALE Output"
   ]
  },
  {
   "cell_type": "code",
   "execution_count": 80,
   "metadata": {},
   "outputs": [],
   "source": [
    "#Grabing only the first transport calculation\n",
    "graph_scale = df.iloc[0:252, :].copy()\n",
    "\n",
    "graph_scale_fine = df_fine.iloc[0:252, :].copy()"
   ]
  },
  {
   "cell_type": "code",
   "execution_count": 81,
   "metadata": {},
   "outputs": [
    {
     "name": "stdout",
     "output_type": "stream",
     "text": [
      "The max flux is 0.04032/cm^2*s\n",
      "The max flux is 0.04200159999999999/cm^2*s\n"
     ]
    }
   ],
   "source": [
    "max_flux_scale = graph_scale[\"Critical Flux\"].max()\n",
    "print(\"The max flux is {}/cm^2*s\".format(max_flux_scale))\n",
    "\n",
    "max_flux_scale_fine = graph_scale_fine[\"Total_Flux\"].max()\n",
    "print(\"The max flux is {}/cm^2*s\".format(max_flux_scale_fine))"
   ]
  },
  {
   "cell_type": "code",
   "execution_count": 82,
   "metadata": {},
   "outputs": [
    {
     "data": {
      "text/html": [
       "<div>\n",
       "<style scoped>\n",
       "    .dataframe tbody tr th:only-of-type {\n",
       "        vertical-align: middle;\n",
       "    }\n",
       "\n",
       "    .dataframe tbody tr th {\n",
       "        vertical-align: top;\n",
       "    }\n",
       "\n",
       "    .dataframe thead th {\n",
       "        text-align: right;\n",
       "    }\n",
       "</style>\n",
       "<table border=\"1\" class=\"dataframe\">\n",
       "  <thead>\n",
       "    <tr style=\"text-align: right;\">\n",
       "      <th></th>\n",
       "      <th>Group No</th>\n",
       "      <th>In_scatter_above</th>\n",
       "      <th>In_scatter_below</th>\n",
       "      <th>Out_scatter_below</th>\n",
       "      <th>Self_scatter</th>\n",
       "      <th>Fission_Rate</th>\n",
       "      <th>Total_Flux</th>\n",
       "    </tr>\n",
       "  </thead>\n",
       "  <tbody>\n",
       "    <tr>\n",
       "      <th>0</th>\n",
       "      <td>1.0</td>\n",
       "      <td>0.000000e+00</td>\n",
       "      <td>0.0</td>\n",
       "      <td>0.0</td>\n",
       "      <td>6.539000e-22</td>\n",
       "      <td>6.985520e-22</td>\n",
       "      <td>5.361730e-25</td>\n",
       "    </tr>\n",
       "    <tr>\n",
       "      <th>1</th>\n",
       "      <td>2.0</td>\n",
       "      <td>1.704150e-22</td>\n",
       "      <td>0.0</td>\n",
       "      <td>0.0</td>\n",
       "      <td>7.641470e-22</td>\n",
       "      <td>6.094270e-22</td>\n",
       "      <td>5.413850e-25</td>\n",
       "    </tr>\n",
       "    <tr>\n",
       "      <th>2</th>\n",
       "      <td>3.0</td>\n",
       "      <td>2.430830e-22</td>\n",
       "      <td>0.0</td>\n",
       "      <td>0.0</td>\n",
       "      <td>8.560000e-22</td>\n",
       "      <td>5.278800e-22</td>\n",
       "      <td>5.183100e-25</td>\n",
       "    </tr>\n",
       "    <tr>\n",
       "      <th>3</th>\n",
       "      <td>4.0</td>\n",
       "      <td>2.701630e-22</td>\n",
       "      <td>0.0</td>\n",
       "      <td>0.0</td>\n",
       "      <td>7.021820e-11</td>\n",
       "      <td>3.168240e-11</td>\n",
       "      <td>3.674990e-14</td>\n",
       "    </tr>\n",
       "    <tr>\n",
       "      <th>4</th>\n",
       "      <td>5.0</td>\n",
       "      <td>2.339690e-11</td>\n",
       "      <td>0.0</td>\n",
       "      <td>0.0</td>\n",
       "      <td>1.603430e-05</td>\n",
       "      <td>8.508160e-06</td>\n",
       "      <td>8.068890e-09</td>\n",
       "    </tr>\n",
       "  </tbody>\n",
       "</table>\n",
       "</div>"
      ],
      "text/plain": [
       "   Group No  In_scatter_above  In_scatter_below  Out_scatter_below  \\\n",
       "0       1.0      0.000000e+00               0.0                0.0   \n",
       "1       2.0      1.704150e-22               0.0                0.0   \n",
       "2       3.0      2.430830e-22               0.0                0.0   \n",
       "3       4.0      2.701630e-22               0.0                0.0   \n",
       "4       5.0      2.339690e-11               0.0                0.0   \n",
       "\n",
       "   Self_scatter  Fission_Rate    Total_Flux  \n",
       "0  6.539000e-22  6.985520e-22  5.361730e-25  \n",
       "1  7.641470e-22  6.094270e-22  5.413850e-25  \n",
       "2  8.560000e-22  5.278800e-22  5.183100e-25  \n",
       "3  7.021820e-11  3.168240e-11  3.674990e-14  \n",
       "4  1.603430e-05  8.508160e-06  8.068890e-09  "
      ]
     },
     "execution_count": 82,
     "metadata": {},
     "output_type": "execute_result"
    }
   ],
   "source": [
    "graph_scale_fine.head()"
   ]
  },
  {
   "cell_type": "code",
   "execution_count": 83,
   "metadata": {},
   "outputs": [],
   "source": [
    "graph_scale[\"E_norm\"] = graph_scale[\"Critical Flux\"]/max_flux_scale\n",
    "graph_scale[\"Norm_Lethargy\"] = np.log(max_flux_scale/graph_scale[\"Critical Flux\"])\n",
    "graph_scale = graph_scale.replace([np.inf, -np.inf], 0)\n",
    "\n",
    "graph_scale_fine[\"E_norm\"] = graph_scale_fine[\"Total_Flux\"]/max_flux_scale_fine\n",
    "graph_scale_fine[\"Norm_Lethargy\"] = np.log(max_flux_scale_fine/graph_scale_fine[\"Total_Flux\"])\n",
    "graph_scale_fine = graph_scale_fine.replace([np.inf, -np.inf], 0)"
   ]
  },
  {
   "cell_type": "code",
   "execution_count": 84,
   "metadata": {},
   "outputs": [],
   "source": [
    "graph_scale[\"E_Reverse\"] = graph_scale[\"E_norm\"].values[::-1]\n",
    "\n",
    "graph_scale_fine[\"E_Reverse\"] = graph_scale_fine[\"E_norm\"].values[::-1]"
   ]
  },
  {
   "cell_type": "code",
   "execution_count": 85,
   "metadata": {},
   "outputs": [],
   "source": [
    "graph_scale[\"L_Reverse\"] = graph_scale[\"Norm_Lethargy\"].values[::-1]\n",
    "\n",
    "graph_scale_fine[\"L_Reverse\"] = graph_scale_fine[\"Norm_Lethargy\"].values[::-1]"
   ]
  },
  {
   "cell_type": "code",
   "execution_count": 86,
   "metadata": {},
   "outputs": [],
   "source": [
    "# graph_scale_fine.plot('Group No', 'E_Reverse', figsize=(10, 8),  title=\"MSRE Flux Distribution\", legend=None)"
   ]
  },
  {
   "cell_type": "markdown",
   "metadata": {},
   "source": [
    "# SCALE vs SERPENT Spectra Comparison"
   ]
  },
  {
   "cell_type": "code",
   "execution_count": 87,
   "metadata": {},
   "outputs": [],
   "source": [
    "# fig, axes = plt.subplots(nrows=2, ncols=2, figsize=(15,10))\n",
    "\n",
    "# DETEnergyDetector.plot('EBIN', 'Mean_E_Norm', legend=None, ax=axes[0,0])#, ylim=(0, 1.1)) , figsize=(14, 12)\n",
    "# DETEnergyDetector.plot('EBIN', 'Norm_Lethargy', legend=None, ax=axes[0,1]) # figsize=(14, 12)\n",
    "# graph_scale.plot('Group No', 'E_Reverse', legend=None, ax=axes[1,0])\n",
    "# graph_scale.plot('Group No', 'L_Reverse', legend=None, ax=axes[1,1])"
   ]
  },
  {
   "cell_type": "code",
   "execution_count": 88,
   "metadata": {},
   "outputs": [
    {
     "data": {
      "image/png": "[encoded data removed]",
      "text/plain": [
       "<Figure size 720x576 with 1 Axes>"
      ]
     },
     "metadata": {
      "needs_background": "light"
     },
     "output_type": "display_data"
    }
   ],
   "source": [
    "ax = graph_scale.plot('Group No', 'E_Reverse', figsize=(10, 8),  title=\"MSRE Flux Distribution\", legend=None)\n",
    "DETEnergyDetector.plot('EBIN', 'Mean_E_Norm', figsize=(10, 8), legend=None, ax = ax)#, ylim=(0, 1.1))\n",
    "graph_scale_fine.plot('Group No', 'E_Reverse', figsize=(10, 8), legend=None, ax = ax)\n",
    "plt.savefig((reactor + \".png\"))"
   ]
  },
  {
   "cell_type": "code",
   "execution_count": 89,
   "metadata": {},
   "outputs": [],
   "source": [
    "# ax = graph_scale.plot('Group No', 'L_Reverse', figsize=(10, 8),  title=\"MSRE Flux Distribution\", legend=None)\n",
    "# DETEnergyDetector.plot('EBIN', 'Norm_Lethargy', figsize=(10, 8), legend=None, ax = ax)#, ylim=(0, 1.1))"
   ]
  },
  {
   "cell_type": "code",
   "execution_count": 90,
   "metadata": {},
   "outputs": [],
   "source": [
    "# DETEnergyDetector.plot('EBIN', 'Norm_Lethargy', figsize=(14, 12), legend=None)#, ylim=(0, 1.1))\n",
    "# plt.gca().invert_yaxis()"
   ]
  },
  {
   "cell_type": "markdown",
   "metadata": {},
   "source": [
    "# Getting Scale Energy Grid"
   ]
  },
  {
   "cell_type": "code",
   "execution_count": 91,
   "metadata": {},
   "outputs": [],
   "source": [
    "# # Transforming Units to (MeV)\n",
    "# df['Upper Energy (MeV)'] = df['Upper Energy (eV)']/(1*10**6)\n",
    "# #Selecting only the first transport result\n",
    "# ascending = df.iloc[0:252, [0,6]]\n",
    "# #Serpent Requires values in ascending order\n",
    "# ascending = ascending.sort_values(by=['Upper Energy (MeV)'], ascending=True)\n",
    "# #Saving with up to 12 decimal values\n",
    "# np.savetxt('SCALE252.txt', ascending['Upper Energy (MeV)'].values, fmt='%1.12f')"
   ]
  },
  {
   "cell_type": "code",
   "execution_count": 92,
   "metadata": {},
   "outputs": [],
   "source": [
    "# SCALE252 = df['Upper Energy (MeV)'].values\n",
    "# SCALE252 = np.sort(SCALE252)\n",
    "# np.savetxt('SCALE252.txt', SCALE252, fmt='%1.12f')"
   ]
  },
  {
   "cell_type": "code",
   "execution_count": 93,
   "metadata": {
    "scrolled": true
   },
   "outputs": [],
   "source": [
    "# # This part of the code creates a series of figures overlapping each other\n",
    "# ims = []\n",
    "# ax = df.iloc[0:252, [0,2]].plot('Group No', 'Critical Flux', figsize=(14, 12), legend=None)\n",
    "# for i in range(1,ocurrences):\n",
    "#     df.iloc[252*i:(252*(i+1)), [0,2]].plot('Group No', 'Critical Flux', ax = ax, legend=None)\n",
    "#     im = df.iloc[252*i:(252*(i+1)), [0,2]].plot('Group No', 'Critical Flux', ax = ax, legend=None)\n",
    "#     ims.append([im])\n",
    "#     plt.savefig(\"value\" + str(i) + \".png\")"
   ]
  }
 ],
 "metadata": {
  "kernelspec": {
   "display_name": "Python 3",
   "language": "python",
   "name": "python3"
  },
  "language_info": {
   "codemirror_mode": {
    "name": "ipython",
    "version": 3
   },
   "file_extension": ".py",
   "mimetype": "text/x-python",
   "name": "python",
   "nbconvert_exporter": "python",
   "pygments_lexer": "ipython3",
   "version": "3.7.2"
  }
 },
 "nbformat": 4,
 "nbformat_minor": 2
}
