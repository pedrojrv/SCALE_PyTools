{
 "cells": [
  {
   "cell_type": "markdown",
   "metadata": {},
   "source": [
    "# All in One\n"
   ]
  },
  {
   "cell_type": "code",
   "execution_count": 53,
   "metadata": {},
   "outputs": [],
   "source": [
    "heavy_metal = 62.1 #MTHM\n",
    "plt_directory = \"./Apollo/MSDR\""
   ]
  },
  {
   "cell_type": "code",
   "execution_count": null,
   "metadata": {},
   "outputs": [],
   "source": [
    "import pandas as pd\n",
    "import numpy as np\n",
    "from decimal import Decimal\n",
    "import matplotlib.pyplot as plt\n",
    "import os\n",
    "\n",
    "print(\"Searching directory for .plt files...\")\n",
    "names = []\n",
    "for root, dirs, files in os.walk(plt_directory):\n",
    "    for file in files:\n",
    "        if file.endswith(\".plt\"):\n",
    "            print(os.path.join(root, file))\n",
    "            names.append(os.path.join(root, file))\n",
    "            \n",
    "print(\"Importing Data...\")\n",
    "fuel_salt = pd.read_csv(names[0], sep=\"\\s+\", skiprows=5)\n",
    "fuel_salt = fuel_salt.T\n",
    "fuel_salt.reset_index(level=0, inplace=True)\n",
    "fuel_salt = fuel_salt.rename(columns = {'index':'time'})\n",
    "fuel_salt.iloc[:,1:] = fuel_salt.iloc[:,1:].mul(heavy_metal)\n",
    "print(\"Finish importing fuel salt data...\")\n",
    "\n",
    "off_gas = pd.read_csv(names[1], sep=\"\\s+\", skiprows=5)\n",
    "off_gas = off_gas.T\n",
    "off_gas.reset_index(level=0, inplace=True)\n",
    "off_gas = off_gas.rename(columns = {'index':'time'})\n",
    "off_gas.iloc[:,1:] = off_gas.iloc[:,1:].mul(heavy_metal)\n",
    "print(\"Finish importing off_gas data...\")\n",
    "\n",
    "solid_trap = pd.read_csv(names[2], sep=\"\\s+\", skiprows=5)\n",
    "solid_trap = solid_trap.T\n",
    "solid_trap.reset_index(level=0, inplace=True)\n",
    "solid_trap = solid_trap.rename(columns = {'index':'time'})\n",
    "solid_trap.iloc[:,1:] = solid_trap.iloc[:,1:].mul(heavy_metal)\n",
    "print(\"Finish importing solid trap data...\")\n",
    "\n",
    "\n",
    "isotopes = list(off_gas.columns)\n",
    "isotopes.pop(0)\n",
    "num_isotopes = len(isotopes)\n",
    "print(\"There are {} isotopes in the off-gas mixture.\".format(num_isotopes))\n",
    "print(\"Plotting data...\")\n",
    "\n",
    "for i in range(1, num_isotopes):    \n",
    "    isotope = isotopes[i]\n",
    "\n",
    "    fig, ax1 = plt.subplots(figsize=(10,8))\n",
    "\n",
    "    color = 'tab:red'\n",
    "    ax1.set_xlabel('time (s)')\n",
    "    ax1.set_ylabel('Fuel Salt (grams)', color=color)\n",
    "    ax1.set_title(isotope)\n",
    "    ax1.plot(fuel_salt['time'], fuel_salt[isotope], color=color)\n",
    "    ax1.tick_params(axis='y', labelcolor=color)\n",
    "\n",
    "    ax2 = ax1.twinx()  # instantiate a second axes that shares the same x-axis\n",
    "\n",
    "    color = 'tab:blue'\n",
    "    ax2.set_ylabel('Off-gas System (grams)', color=color)  # we already handled the x-label with ax1\n",
    "    ax2.plot(off_gas['time'], off_gas[isotope], color=color)\n",
    "    ax2.tick_params(axis='y', labelcolor=color)\n",
    "\n",
    "    fig.tight_layout()  # otherwise the right y-label is slightly clipped\n",
    "    plt.savefig(\"./Images/\" + isotope + \"_offgas.png\")\n",
    "    plt.close()\n",
    "    \n",
    "    \n",
    "isotopes = list(solid_trap.columns)\n",
    "isotopes.pop(0)\n",
    "num_isotopes = len(isotopes)\n",
    "print(\"There are {} isotopes in the solid trap mixture.\".format(num_isotopes))\n",
    "print(\"Plotting data...\")\n",
    "\n",
    "for i in range(1, num_isotopes):    \n",
    "    isotope = isotopes[i]\n",
    "\n",
    "    fig, ax1 = plt.subplots(figsize=(10,8))\n",
    "\n",
    "    color = 'tab:red'\n",
    "    ax1.set_xlabel('time (s)')\n",
    "    ax1.set_ylabel('Fuel Salt (grams)', color=color)\n",
    "    ax1.set_title(isotope)\n",
    "    ax1.plot(fuel_salt['time'], fuel_salt[isotope], color=color)\n",
    "    ax1.tick_params(axis='y', labelcolor=color)\n",
    "\n",
    "    ax2 = ax1.twinx()  # instantiate a second axes that shares the same x-axis\n",
    "\n",
    "    color = 'tab:blue'\n",
    "    ax2.set_ylabel('Solid Trap (grams)', color=color)  # we already handled the x-label with ax1\n",
    "    ax2.plot(solid_trap['time'], solid_trap[isotope], color=color)\n",
    "    ax2.tick_params(axis='y', labelcolor=color)\n",
    "\n",
    "    fig.tight_layout()  # otherwise the right y-label is slightly clipped\n",
    "    plt.savefig(\"./Images/\" + isotope + \"_solid.png\")\n",
    "    plt.close()"
   ]
  },
  {
   "cell_type": "markdown",
   "metadata": {},
   "source": [
    "# Importing Modules"
   ]
  },
  {
   "cell_type": "code",
   "execution_count": 1,
   "metadata": {},
   "outputs": [],
   "source": [
    "import pandas as pd\n",
    "import numpy as np\n",
    "from decimal import Decimal\n",
    "import matplotlib.pyplot as plt\n",
    "import os"
   ]
  },
  {
   "cell_type": "code",
   "execution_count": 51,
   "metadata": {},
   "outputs": [],
   "source": [
    "heavy_metal = 62.1 #MTHM\n",
    "plt_directory = \"./Apollo/MSDR\""
   ]
  },
  {
   "cell_type": "markdown",
   "metadata": {},
   "source": [
    "# Setting path for analysis"
   ]
  },
  {
   "cell_type": "code",
   "execution_count": 52,
   "metadata": {},
   "outputs": [
    {
     "name": "stdout",
     "output_type": "stream",
     "text": [
      "./Apollo/MSDR\\MSDR_beta.000000000000000000.plt\n",
      "./Apollo/MSDR\\MSDR_beta.000000000000000001.plt\n",
      "./Apollo/MSDR\\MSDR_beta.000000000000000002.plt\n"
     ]
    }
   ],
   "source": [
    "names = []\n",
    "for root, dirs, files in os.walk(plt_directory):\n",
    "    for file in files:\n",
    "        if file.endswith(\".plt\"):\n",
    "            print(os.path.join(root, file))\n",
    "            names.append(os.path.join(root, file))"
   ]
  },
  {
   "cell_type": "code",
   "execution_count": 42,
   "metadata": {},
   "outputs": [],
   "source": [
    "fuel_salt = pd.read_csv(names[0], sep=\"\\s+\", skiprows=5)\n",
    "fuel_salt = fuel_salt.T\n",
    "fuel_salt.reset_index(level=0, inplace=True)\n",
    "fuel_salt = fuel_salt.rename(columns = {'index':'time'})\n",
    "fuel_salt.iloc[:,1:] = fuel_salt.iloc[:,1:].mul(heavy_metal)\n",
    "\n",
    "off_gas = pd.read_csv(names[1], sep=\"\\s+\", skiprows=5)\n",
    "off_gas = off_gas.T\n",
    "off_gas.reset_index(level=0, inplace=True)\n",
    "off_gas = off_gas.rename(columns = {'index':'time'})\n",
    "off_gas.iloc[:,1:] = off_gas.iloc[:,1:].mul(heavy_metal)\n",
    "\n",
    "solid_trap = pd.read_csv(names[2], sep=\"\\s+\", skiprows=5)\n",
    "solid_trap = solid_trap.T\n",
    "solid_trap.reset_index(level=0, inplace=True)\n",
    "solid_trap = solid_trap.rename(columns = {'index':'time'})\n",
    "solid_trap.iloc[:,1:] = solid_trap.iloc[:,1:].mul(heavy_metal)"
   ]
  },
  {
   "cell_type": "code",
   "execution_count": 50,
   "metadata": {},
   "outputs": [
    {
     "name": "stdout",
     "output_type": "stream",
     "text": [
      "There are 458 isotopes in Mixture 7.\n",
      "There are 458 isotopes in Mixture 8.\n"
     ]
    }
   ],
   "source": [
    "isotopes = list(off_gas.columns)\n",
    "isotopes.pop(0)\n",
    "num_isotopes = len(isotopes)\n",
    "print(\"There are {} isotopes in Mixture 7.\".format(num_isotopes))\n",
    "\n",
    "for i in range(1, num_isotopes):    \n",
    "    isotope = isotopes[i]\n",
    "\n",
    "    fig, ax1 = plt.subplots(figsize=(10,8))\n",
    "\n",
    "    color = 'tab:red'\n",
    "    ax1.set_xlabel('time (s)')\n",
    "    ax1.set_ylabel('Fuel Salt (grams)', color=color)\n",
    "    ax1.set_title(isotope)\n",
    "    ax1.plot(fuel_salt['time'], fuel_salt[isotope], color=color)\n",
    "    ax1.tick_params(axis='y', labelcolor=color)\n",
    "\n",
    "    ax2 = ax1.twinx()  # instantiate a second axes that shares the same x-axis\n",
    "\n",
    "    color = 'tab:blue'\n",
    "    ax2.set_ylabel('Off-gas System (grams)', color=color)  # we already handled the x-label with ax1\n",
    "    ax2.plot(off_gas['time'], off_gas[isotope], color=color)\n",
    "    ax2.tick_params(axis='y', labelcolor=color)\n",
    "\n",
    "    fig.tight_layout()  # otherwise the right y-label is slightly clipped\n",
    "    plt.savefig(\"./Images/\" + isotope + \"_offgas.png\")\n",
    "    plt.close()\n",
    "    \n",
    "    \n",
    "isotopes = list(solid_trap.columns)\n",
    "isotopes.pop(0)\n",
    "num_isotopes = len(isotopes)\n",
    "print(\"There are {} isotopes in Mixture 8.\".format(num_isotopes))\n",
    "\n",
    "for i in range(1, num_isotopes):    \n",
    "    isotope = isotopes[i]\n",
    "\n",
    "    fig, ax1 = plt.subplots(figsize=(10,8))\n",
    "\n",
    "    color = 'tab:red'\n",
    "    ax1.set_xlabel('time (s)')\n",
    "    ax1.set_ylabel('Fuel Salt (grams)', color=color)\n",
    "    ax1.set_title(isotope)\n",
    "    ax1.plot(fuel_salt['time'], fuel_salt[isotope], color=color)\n",
    "    ax1.tick_params(axis='y', labelcolor=color)\n",
    "\n",
    "    ax2 = ax1.twinx()  # instantiate a second axes that shares the same x-axis\n",
    "\n",
    "    color = 'tab:blue'\n",
    "    ax2.set_ylabel('Solid Trap (grams)', color=color)  # we already handled the x-label with ax1\n",
    "    ax2.plot(solid_trap['time'], solid_trap[isotope], color=color)\n",
    "    ax2.tick_params(axis='y', labelcolor=color)\n",
    "\n",
    "    fig.tight_layout()  # otherwise the right y-label is slightly clipped\n",
    "    plt.savefig(\"./Images/\" + isotope + \"_solid.png\")\n",
    "    plt.close()"
   ]
  }
 ],
 "metadata": {
  "kernelspec": {
   "display_name": "Python 3",
   "language": "python",
   "name": "python3"
  },
  "language_info": {
   "codemirror_mode": {
    "name": "ipython",
    "version": 3
   },
   "file_extension": ".py",
   "mimetype": "text/x-python",
   "name": "python",
   "nbconvert_exporter": "python",
   "pygments_lexer": "ipython3",
   "version": "3.7.2"
  }
 },
 "nbformat": 4,
 "nbformat_minor": 2
}
