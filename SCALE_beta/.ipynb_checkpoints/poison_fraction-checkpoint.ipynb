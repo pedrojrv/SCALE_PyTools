{
 "cells": [
  {
   "cell_type": "code",
   "execution_count": 11,
   "metadata": {},
   "outputs": [
    {
     "name": "stdout",
     "output_type": "stream",
     "text": [
      "Reactor? MSBR\n",
      "Simulation? Third\n",
      "[0.0, 0.05, 0.1, 0.15, 0.2, 0.4, 0.6, 0.8, 1]\n",
      "['0', '5', '10', '15', '20', '40', '60', '80', '100']\n",
      "Searching directory for .standard files...\n"
     ]
    },
    {
     "data": {
      "text/plain": [
       "['./Serpent/Depleted/Third/MSBR/2D_Unit_Cell_0\\\\detectors.mat',\n",
       " './Serpent/Depleted/Third/MSBR/2D_Unit_Cell_5\\\\detectors.mat',\n",
       " './Serpent/Depleted/Third/MSBR/2D_Unit_Cell_10\\\\detectors.mat',\n",
       " './Serpent/Depleted/Third/MSBR/2D_Unit_Cell_15\\\\detectors.mat',\n",
       " './Serpent/Depleted/Third/MSBR/2D_Unit_Cell_20\\\\detectors.mat',\n",
       " './Serpent/Depleted/Third/MSBR/2D_Unit_Cell_40\\\\detectors.mat',\n",
       " './Serpent/Depleted/Third/MSBR/2D_Unit_Cell_60\\\\detectors.mat',\n",
       " './Serpent/Depleted/Third/MSBR/2D_Unit_Cell_80\\\\detectors.mat',\n",
       " './Serpent/Depleted/Third/MSBR/2D_Unit_Cell_100\\\\detectors.mat']"
      ]
     },
     "execution_count": 11,
     "metadata": {},
     "output_type": "execute_result"
    }
   ],
   "source": [
    "# # Importing Packages\n",
    "import pandas as pd\n",
    "import matplotlib.pyplot as plt\n",
    "from matplotlib.pyplot import figure\n",
    "import numpy as np\n",
    "import shutil\n",
    "import imageio\n",
    "import os\n",
    "import natsort\n",
    "from natsort import natsorted\n",
    "from datetime import datetime, date, time\n",
    "import scipy.io\n",
    "from scipy.io import loadmat\n",
    "from decimal import Decimal\n",
    "from distutils.dir_util import copy_tree\n",
    "import glob, os, shutil\n",
    "from itertools import islice\n",
    "\n",
    "\n",
    "\n",
    "####################################################################################################\n",
    "\n",
    "reactor = input(\"Reactor? \")\n",
    "simulation = input(\"Simulation? \")\n",
    "    \n",
    "efficiencies = natsorted([1, 0.8, 0.6, 0.4, 0.2, 0.15, 0.10, 0.05, 0.0])\n",
    "eff = natsorted(list(((np.array(efficiencies) * 100).astype(int)).astype(str)))\n",
    "print(natsorted(efficiencies))\n",
    "print(natsorted(eff))\n",
    "\n",
    "\n",
    "#####################################################################################################\n",
    "\n",
    "\n",
    "beta_directory = \"./Serpent/Depleted/\" + simulation + \"/\" + reactor + \"/\"\n",
    "\n",
    "print(\"Searching directory for .standard files...\")\n",
    "names = []\n",
    "for root, dirs, files in os.walk(beta_directory):\n",
    "    for file in files:\n",
    "        if file.endswith(\".mat\"):\n",
    "            #print(os.path.join(root, file))\n",
    "            names.append(os.path.join(root, file))\n",
    "            \n",
    "names = natsorted(names)\n",
    "names\n",
    "\n",
    "##############################################################################################\n",
    "##############################################################################################\n",
    "########################### GENERATION OF SERPENT INPUTS #####################################\n",
    "##############################################################################################\n",
    "##############################################################################################"
   ]
  },
  {
   "cell_type": "code",
   "execution_count": 15,
   "metadata": {
    "scrolled": true
   },
   "outputs": [],
   "source": [
    "x = 0\n",
    "poisons = pd.DataFrame({\"Region\": [\"Fuel\", \"U-233\", \"Xe-135\"]})\n",
    "\n",
    "for i in range(0, len(eff)):\n",
    "# for i in range(0, 1):\n",
    "    # # Importing Serpent Detector Results\n",
    "    detectors = scipy.io.loadmat(names[x])\n",
    "    # Accessing The Energy Detector DETflux_fuel\n",
    "    DETtotal_CRNP = detectors[\"DETtotal_CR\"]\n",
    "\n",
    "    # Converting Numpy Matrix to Dataframe\n",
    "    DETtotal_CR = pd.DataFrame(DETtotal_CRNP)\n",
    "\n",
    "    # Column Names as defined by Serpent Manual\n",
    "    detector_columns = [\"Value Index\", \"EBIN\", \"UBINS\", \"CBINS\", \"MBINS\",\n",
    "                        \"LBINS\", \"RBINS\", \"ZBINS\", \"YBINS\", \"XBINS\", \"Mean Value\", \"Stat. Error\"]\n",
    "    DETtotal_CR.columns = detector_columns # Setting the column names\n",
    "    DETtotal_CR = DETtotal_CR.iloc[0:3, :]\n",
    "    DETtotal_CR[\"Region\"] = [\"Fuel\", \"U-233\", \"Xe-135\"]\n",
    "    \n",
    "    poisons = poisons.merge(DETtotal_CR[[\"Mean Value\", \"Region\"]], on=\"Region\")\n",
    "    \n",
    "    x = x + 1"
   ]
  },
  {
   "cell_type": "code",
   "execution_count": 17,
   "metadata": {},
   "outputs": [],
   "source": [
    "poisons = poisons.set_index([\"Region\"]).T.reset_index(drop=True)\n",
    "poisons[\"Efficiency\"] = efficiencies\n",
    "poisons[\"Poison Fraction\"] = poisons[\"Xe-135\"]/poisons[\"U-233\"]\n",
    "poison.to_csv(\"./Serpent/Depleted/\" + simulation + \"/\" + reactor + \"/poison_fraction.csv\", \n",
    "              sep=\",\", index=False)"
   ]
  },
  {
   "cell_type": "code",
   "execution_count": 19,
   "metadata": {},
   "outputs": [
    {
     "data": {
      "text/plain": [
       "Text(0.5, 1.0, 'Off-gas Efficiency Impact on Poison Fraction')"
      ]
     },
     "execution_count": 19,
     "metadata": {},
     "output_type": "execute_result"
    },
    {
     "data": {
      "image/png": "[encoded data removed]",
      "text/plain": [
       "<Figure size 432x288 with 1 Axes>"
      ]
     },
     "metadata": {
      "needs_background": "light"
     },
     "output_type": "display_data"
    }
   ],
   "source": [
    "ax = poisons.plot(x=\"Efficiency\", y=\"Poison Fraction\")\n",
    "ax.grid(True)\n",
    "ax.set_ylabel(\"Xe-135 Poison Fraction\", fontsize=14)\n",
    "ax.set_xlabel(\"Off-Gas Efficiency\", fontsize=14)\n",
    "ax.set_title(\"Off-gas Efficiency Impact on Poison Fraction\", fontsize=16)\n",
    "plt.savefig((\"./Serpent/Depleted/\" + simulation + \"/\" + reactor + \"/\" \"poison_fraction.png\"), format='png', dpi=1200)"
   ]
  },
  {
   "cell_type": "code",
   "execution_count": null,
   "metadata": {},
   "outputs": [],
   "source": []
  }
 ],
 "metadata": {
  "kernelspec": {
   "display_name": "Python 3",
   "language": "python",
   "name": "python3"
  },
  "language_info": {
   "codemirror_mode": {
    "name": "ipython",
    "version": 3
   },
   "file_extension": ".py",
   "mimetype": "text/x-python",
   "name": "python",
   "nbconvert_exporter": "python",
   "pygments_lexer": "ipython3",
   "version": "3.7.2"
  }
 },
 "nbformat": 4,
 "nbformat_minor": 2
}
