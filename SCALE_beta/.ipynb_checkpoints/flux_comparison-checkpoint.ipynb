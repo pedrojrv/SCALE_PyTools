{
 "cells": [
  {
   "cell_type": "code",
   "execution_count": 1,
   "metadata": {
    "scrolled": true
   },
   "outputs": [
    {
     "name": "stdout",
     "output_type": "stream",
     "text": [
      "Reactor? MSBR\n",
      "Searching directory for .out files...\n",
      "./Apollo/MSBR\\MSBR_beta_0\\MSBR_burnup.out\n",
      "./Apollo/MSBR\\MSBR_beta_10\\MSBR_beta_10.out\n",
      "./Apollo/MSBR\\MSBR_beta_100\\MSBR_beta_100.out\n",
      "./Apollo/MSBR\\MSBR_beta_15\\MSBR_beta_15.out\n",
      "./Apollo/MSBR\\MSBR_beta_5\\MSBR_beta_5.out\n",
      "./Apollo/MSBR\\MSBR_beta_50\\MSBR_beta_50.out\n",
      "./Apollo/MSBR\\MSBR_beta_0\\MSBR_burnup.out\n",
      "There are 11 transport calculation results.\n",
      "Processing Comparison\n",
      "The max mean flux is 121.57/cm^2*s\n",
      "The max flux is 0.02504/cm^2*s\n",
      "Plotting Comparison...\n"
     ]
    },
    {
     "name": "stderr",
     "output_type": "stream",
     "text": [
      "C:\\Users\\vicen\\Anaconda3\\envs\\data_mining\\lib\\site-packages\\scipy\\io\\matlab\\mio.py:208: MatReadWarning: Duplicate variable name \"None\" in stream - replacing previous with new\n",
      "Consider mio5.varmats_from_mat to split file into single variable files\n",
      "  matfile_dict = MR.get_variables(variable_names)\n"
     ]
    },
    {
     "name": "stdout",
     "output_type": "stream",
     "text": [
      "./Apollo/MSBR\\MSBR_beta_10\\MSBR_beta_10.out\n",
      "There are 11 transport calculation results.\n",
      "Processing Comparison\n",
      "The max mean flux is 121.57/cm^2*s\n",
      "The max flux is 0.02502/cm^2*s\n",
      "Plotting Comparison...\n",
      "./Apollo/MSBR\\MSBR_beta_100\\MSBR_beta_100.out\n",
      "There are 11 transport calculation results.\n",
      "Processing Comparison\n",
      "The max mean flux is 121.57/cm^2*s\n",
      "The max flux is 0.02502/cm^2*s\n",
      "Plotting Comparison...\n",
      "./Apollo/MSBR\\MSBR_beta_15\\MSBR_beta_15.out\n",
      "There are 11 transport calculation results.\n",
      "Processing Comparison\n",
      "The max mean flux is 121.57/cm^2*s\n",
      "The max flux is 0.02502/cm^2*s\n",
      "Plotting Comparison...\n",
      "./Apollo/MSBR\\MSBR_beta_5\\MSBR_beta_5.out\n",
      "There are 11 transport calculation results.\n",
      "Processing Comparison\n",
      "The max mean flux is 121.57/cm^2*s\n",
      "The max flux is 0.02502/cm^2*s\n",
      "Plotting Comparison...\n",
      "./Apollo/MSBR\\MSBR_beta_50\\MSBR_beta_50.out\n",
      "There are 11 transport calculation results.\n",
      "Processing Comparison\n",
      "The max mean flux is 121.57/cm^2*s\n",
      "The max flux is 0.02502/cm^2*s\n",
      "Plotting Comparison...\n"
     ]
    }
   ],
   "source": [
    "# Options are MSDR, MSRE, MSBR\n",
    "# This implies that output files are named reactor_beta.out\n",
    "# This imples that core_detector.mat is in directory for the reactor of interest\n",
    "#reactor = \"MSRE\"\n",
    "reactor = input(\"Reactor? \")\n",
    "\n",
    "if reactor == \"MSRE\":\n",
    "    fuel_type = input(\"LEU or HEU? \")\n",
    "    if fuel_type == \"LEU\":\n",
    "        heavy_metal = 0.013603741 #MTHM\n",
    "    if fuel_type == \"HEU\":\n",
    "        heavy_metal = 0.028277628\n",
    "elif reactor == \"MSBR\":\n",
    "    heavy_metal = 58.58689935\n",
    "elif reactor == \"MSDR\":\n",
    "    heavy_metal = 62.1 \n",
    "\n",
    "eff = [\"0\", \"10\", \"100\", \"15\", \"5\", \"50\"]\n",
    "\n",
    "# # Importing Packages\n",
    "import pandas as pd\n",
    "import matplotlib.pyplot as plt\n",
    "from matplotlib.pyplot import figure\n",
    "import numpy as np\n",
    "import shutil\n",
    "import imageio\n",
    "import os\n",
    "import natsort\n",
    "from datetime import datetime, date, time\n",
    "import scipy.io\n",
    "from scipy.io import loadmat\n",
    "from decimal import Decimal\n",
    "\n",
    "beta_directory = \"./Apollo/\" + reactor\n",
    "\n",
    "print(\"Searching directory for .out files...\")\n",
    "names = []\n",
    "for root, dirs, files in os.walk(beta_directory):\n",
    "    for file in files:\n",
    "        if file.endswith(\".out\"):\n",
    "            print(os.path.join(root, file))\n",
    "            names.append(os.path.join(root, file))\n",
    "            \n",
    "# ##############################################################################################\n",
    "# ##############################################################################################\n",
    "# ############################# PLOTTING FLUX COMPARISON #######################################\n",
    "# ##############################################################################################\n",
    "# ##############################################################################################\n",
    "\n",
    "x = 0\n",
    "for i in range(0, len(eff)):\n",
    "    print(names[x])\n",
    "    \n",
    "    text_path = (\"./\" + reactor + \"/Flux_Plots/off_eff_\" + eff[x] + \"/\") #ADD REACTOR_BETA_{} WHERE {} IS EFFICIENCY\n",
    "    if os.path.exists(text_path):\n",
    "        shutil.rmtree(text_path)\n",
    "    os.makedirs(text_path)\n",
    "    \n",
    "    ocurrences = open(names[x], 'r').read().count(\" Equivalent core height is infinite.\")\n",
    "    print(\"There are {} transport calculation results.\".format(ocurrences))\n",
    "\n",
    "    #text_path = (\"./\" + reactor + \"/result_\" + reactor + \".txt\")\n",
    "    text_path = (\"./\" + reactor + \"/Flux_Plots/off_eff_\" + eff[x] + \"/result_\" + reactor + \".txt\")\n",
    "    if os.path.exists(text_path):\n",
    "        os.remove(text_path)\n",
    "\n",
    "    outfile = open(text_path, \"a\")\n",
    "\n",
    "    with open(names[x], 'r') as f:\n",
    "        textfile_temp = f.read()\n",
    "        for i in range(1,(ocurrences + 1)):\n",
    "            outfile.write(textfile_temp.split('   No    Energy(eV)   Flux       Flux      Adj.Flux   Adj.Flux  \\n')[i].split(\n",
    "                \" NOTE: Flux values above are per unit-lethargy.\\n\")[0])\n",
    "\n",
    "    outfile.close()\n",
    "    \n",
    "    # ### SCALE Output into Dataframe\n",
    "    headers = ['Group No', 'Upper Energy (eV)', 'Critical Flux', 'Inf. Med. Flux.', 'Critical Adj. Flux', 'Inf. Med. Adj. Flux']\n",
    "\n",
    "    df = pd.read_csv(text_path, header=None, delimiter=r\"\\s+\", names=headers)\n",
    "    \n",
    "    flux_gif = \"./\" + reactor + \"/Flux_Plots/off_eff_\" + eff[x] + \"/FluxGif\"\n",
    "    if os.path.exists(flux_gif):\n",
    "        shutil.rmtree(flux_gif)\n",
    "    os.makedirs(flux_gif)\n",
    "\n",
    "    if reactor == \"MSRE\":\n",
    "        limity = (0, 0.050)\n",
    "    elif reactor == \"MSDR\":\n",
    "        limity = (0, 0.010)\n",
    "    else:\n",
    "        limity = (0, 0.04)\n",
    "\n",
    "    ax = df.iloc[0:252, [0,2]].plot('Group No', 'Critical Flux', figsize=(7, 5), legend=None, ylim=limity)\n",
    "    plt.gca().invert_xaxis()\n",
    "    for i in range(1, ocurrences):\n",
    "        df.iloc[252*i:(252*(i+1)), [0,2]].plot('Group No', 'Critical Flux', legend=None, ylim=limity)\n",
    "        plt.gca().invert_xaxis()\n",
    "        #plt.savefig(flux_gif + \"/step\" + str(i) + \".png\")\n",
    "        plt.savefig((flux_gif + \"/step\" + str(i) + \".png\"), format='png', dpi=500)\n",
    "        plt.close()\n",
    "\n",
    "    gif_path = \"./\" + reactor + \"/Flux_Plots/off_eff_\" + eff[x]\n",
    "    images = [] #empty list where images will be stored for animation\n",
    "    for file_name in natsort.natsorted(os.listdir(flux_gif)):\n",
    "        if file_name.endswith('.png'):\n",
    "            file_path = os.path.join(flux_gif, file_name)\n",
    "            images.append(imageio.imread(file_path))\n",
    "\n",
    "    #Saving the images as an animation        \n",
    "    imageio.mimsave((gif_path + '/Flux_Time.gif'), images, fps=10)\n",
    "    \n",
    "    text_path = (\"./\" + reactor + \"/core_detector.mat\")\n",
    "    if os.path.exists(text_path):\n",
    "        print(\"Processing Comparison\")\n",
    "\n",
    "        # # Importing Serpent Detector Results\n",
    "        # Importing Matlab files\n",
    "        detectors = scipy.io.loadmat(text_path)\n",
    "        # Accessing The Energy Detector DETflux_fuel\n",
    "        DETEnergyDetectorNP = detectors['DETEnergyDetector']\n",
    "        # Converting Numpy Matrix to Dataframe\n",
    "        DETEnergyDetector = pd.DataFrame(DETEnergyDetectorNP)\n",
    "\n",
    "\n",
    "        # Column Names as defined by Serpent Manual\n",
    "        detector_columns = [\"Value Index\", \"EBIN\", \"UBINS\", \"CBINS\", \"MBINS\", \"LBINS\", \"RBINS\", \"ZBINS\", \"YBINS\", \"XBINS\", \"Mean Value\", \"Stat. Error\"]\n",
    "        DETEnergyDetector.columns = detector_columns # Setting the column names\n",
    "\n",
    "        # Getting the max flux for normalizing \n",
    "        max_flux = DETEnergyDetector[\"Mean Value\"].max()\n",
    "        print(\"The max mean flux is {}/cm^2*s\".format(max_flux))\n",
    "\n",
    "        # Normalizing by Max Energy\n",
    "        DETEnergyDetector[\"Mean_E_Norm\"] = DETEnergyDetector[\"Mean Value\"]/max_flux\n",
    "        #DETEnergyDetector[\"Norm_Lethargy\"] = np.log(max_flux/DETEnergyDetector[\"Mean Value\"])\n",
    "    \n",
    "    # # Normalizing SCALE Output\n",
    "    #Grabing only the first transport calculation\n",
    "    graph_scale = df.iloc[0:252, :].copy()\n",
    "\n",
    "    max_flux_scale = graph_scale[\"Critical Flux\"].max()\n",
    "    print(\"The max flux is {}/cm^2*s\".format(max_flux_scale))\n",
    "\n",
    "\n",
    "    graph_scale[\"E_norm\"] = graph_scale[\"Critical Flux\"]/max_flux_scale\n",
    "\n",
    "    graph_scale[\"E_Reverse\"] = graph_scale[\"E_norm\"].values[::-1]\n",
    "    graph_scale[\"C_Reverse\"] = graph_scale[\"Critical Flux\"].values[::-1]\n",
    "    graph_scale[\"Energy (MeV)\"] = graph_scale[\"Upper Energy (eV)\"].values[::-1] * (1*10**-6)\n",
    "    \n",
    "    text_path = (\"./\" + reactor + \"/core_detector.mat\")\n",
    "    if os.path.exists(text_path):\n",
    "        DETEnergyDetector[\"Energy (MeV)\"] = graph_scale[\"Energy (MeV)\"]\n",
    "    \n",
    "    # # SCALE vs SERPENT Spectra Comparison\n",
    "    ax = graph_scale.plot('Energy (MeV)', 'E_Reverse', figsize=(10, 8), \n",
    "                          title=(reactor + \" Flux Distribution\"), legend=None, color=\"r\")\n",
    "\n",
    "    text_path = (\"./\" + reactor + \"/core_detector.mat\")\n",
    "    if os.path.exists(text_path):\n",
    "        print(\"Plotting Comparison...\")\n",
    "        DETEnergyDetector.plot('Energy (MeV)', 'Mean_E_Norm', figsize=(10, 8),\n",
    "                               legend=None, ax = ax, color=\"g\")\n",
    "        ax.grid(True, which='major')\n",
    "        ax.legend([\"Unit Cell (SCALE) \", \"Pin (SERPENT)\"])\n",
    "        ax.set_xscale('log')\n",
    "        ax.set_ylabel(\"Energy Integrated Neutron Flux (a.u.)\")\n",
    "        plt.savefig((\"./\" + reactor + \"/\" + \"Flux_Comparison.png\"), format='png', dpi=1200)\n",
    "    #     plt.savefig((\"./\" + reactor + \"/\" + \"Flux_Comparison.png\"))\n",
    "    #     plt.savefig((\"./\" + reactor + \"/Flux_Plots/off_eff_\" + eff[x] + \"/Flux_Comparison.png\"))\n",
    "    else:\n",
    "        plt.savefig((\"./\" + reactor + \"/Flux_Plots/off_eff_\" + eff[x] + \"/Flux.png\"), format='png', dpi=1200)\n",
    "\n",
    "    x = x + 1"
   ]
  },
  {
   "cell_type": "markdown",
   "metadata": {},
   "source": [
    "# Flux Plotting"
   ]
  },
  {
   "cell_type": "code",
   "execution_count": 1,
   "metadata": {},
   "outputs": [
    {
     "name": "stdout",
     "output_type": "stream",
     "text": [
      "Reactor? MSDR\n",
      "Searching directory for .out files...\n",
      "./Apollo/MSDR\\MSDR_beta_0\\MSDR_beta_0.out\n",
      "./Apollo/MSDR\\MSDR_beta_10\\MSDR_beta_10.out\n",
      "./Apollo/MSDR\\MSDR_beta_100\\MSDR_beta_100.out\n",
      "./Apollo/MSDR\\MSDR_beta_15\\MSDR_beta_15.out\n",
      "./Apollo/MSDR\\MSDR_beta_5\\MSDR_beta_5.out\n",
      "./Apollo/MSDR\\MSDR_beta_50\\MSDR_beta_50.out\n"
     ]
    }
   ],
   "source": [
    "# Options are MSDR, MSRE, MSBR\n",
    "# This implies that output files are named reactor_beta.out\n",
    "# This imples that core_detector.mat is in directory for the reactor of interest\n",
    "#reactor = \"MSRE\"\n",
    "reactor = input(\"Reactor? \")\n",
    "\n",
    "if reactor == \"MSRE\":\n",
    "    fuel_type = input(\"LEU or HEU? \")\n",
    "    if fuel_type == \"LEU\":\n",
    "        heavy_metal = 0.013603741 #MTHM\n",
    "    if fuel_type == \"HEU\":\n",
    "        heavy_metal = 0.028277628\n",
    "elif reactor == \"MSBR\":\n",
    "    heavy_metal = 58.58689935\n",
    "elif reactor == \"MSDR\":\n",
    "    heavy_metal = 62.1 \n",
    "\n",
    "eff = [\"0\", \"10\", \"100\", \"15\", \"5\", \"50\"]\n",
    "\n",
    "# # Importing Packages\n",
    "import pandas as pd\n",
    "import matplotlib.pyplot as plt\n",
    "from matplotlib.pyplot import figure\n",
    "import numpy as np\n",
    "import shutil\n",
    "import imageio\n",
    "import os\n",
    "import natsort\n",
    "from datetime import datetime, date, time\n",
    "import scipy.io\n",
    "from scipy.io import loadmat\n",
    "from decimal import Decimal\n",
    "\n",
    "beta_directory = \"./Apollo/\" + reactor\n",
    "\n",
    "print(\"Searching directory for .out files...\")\n",
    "names = []\n",
    "for root, dirs, files in os.walk(beta_directory):\n",
    "    for file in files:\n",
    "        if file.endswith(\".out\"):\n",
    "            print(os.path.join(root, file))\n",
    "            names.append(os.path.join(root, file))"
   ]
  },
  {
   "cell_type": "code",
   "execution_count": 2,
   "metadata": {
    "scrolled": true
   },
   "outputs": [
    {
     "name": "stdout",
     "output_type": "stream",
     "text": [
      "./Apollo/MSDR\\MSDR_beta_10\\MSDR_beta_10.out\n"
     ]
    }
   ],
   "source": [
    "# ##############################################################################################\n",
    "# ##############################################################################################\n",
    "# ############################# PLOTTING FLUX COMPARISON #######################################\n",
    "# ##############################################################################################\n",
    "# ##############################################################################################\n",
    "\n",
    "x = 1\n",
    "# for i in range(0, len(eff)):\n",
    "print(names[x])"
   ]
  },
  {
   "cell_type": "code",
   "execution_count": 3,
   "metadata": {},
   "outputs": [],
   "source": [
    "text_path = (\"./\" + reactor + \"/Flux_Plots/off_eff_\" + eff[x] + \"/\") #ADD REACTOR_BETA_{} WHERE {} IS EFFICIENCY\n",
    "if os.path.exists(text_path):\n",
    "    shutil.rmtree(text_path)\n",
    "os.makedirs(text_path)"
   ]
  },
  {
   "cell_type": "code",
   "execution_count": 4,
   "metadata": {},
   "outputs": [
    {
     "name": "stdout",
     "output_type": "stream",
     "text": [
      "There are 11 transport calculation results.\n"
     ]
    }
   ],
   "source": [
    "ocurrences = open(names[x], 'r').read().count(\" Equivalent core height is infinite.\")\n",
    "print(\"There are {} transport calculation results.\".format(ocurrences))\n",
    "\n",
    "#text_path = (\"./\" + reactor + \"/result_\" + reactor + \".txt\")\n",
    "text_path = (\"./\" + reactor + \"/Flux_Plots/off_eff_\" + eff[x] + \"/result_\" + reactor + \".txt\")\n",
    "if os.path.exists(text_path):\n",
    "    os.remove(text_path)\n",
    "\n",
    "outfile = open(text_path, \"a\")\n",
    "\n",
    "with open(names[x], 'r') as f:\n",
    "    textfile_temp = f.read()\n",
    "    for i in range(1,(ocurrences + 1)):\n",
    "        outfile.write(textfile_temp.split('   No    Energy(eV)   Flux       Flux      Adj.Flux   Adj.Flux  \\n')[i].split(\n",
    "            \" NOTE: Flux values above are per unit-lethargy.\\n\")[0])\n",
    "\n",
    "outfile.close()"
   ]
  },
  {
   "cell_type": "code",
   "execution_count": 5,
   "metadata": {},
   "outputs": [],
   "source": [
    "# ### SCALE Output into Dataframe\n",
    "headers = ['Group No', 'Upper Energy (eV)', 'Critical Flux', 'Inf. Med. Flux.', 'Critical Adj. Flux', 'Inf. Med. Adj. Flux']\n",
    "\n",
    "df = pd.read_csv(text_path, header=None, delimiter=r\"\\s+\", names=headers)"
   ]
  },
  {
   "cell_type": "markdown",
   "metadata": {},
   "source": [
    "Delete fine group calculation"
   ]
  },
  {
   "cell_type": "code",
   "execution_count": 86,
   "metadata": {},
   "outputs": [
    {
     "data": {
      "image/png": "[encoded data removed]",
      "text/plain": [
       "<Figure size 504x360 with 1 Axes>"
      ]
     },
     "metadata": {
      "needs_background": "light"
     },
     "output_type": "display_data"
    }
   ],
   "source": [
    "flux_gif = \"./\" + reactor + \"/Flux_Plots/off_eff_\" + eff[x] + \"/FluxGif\"\n",
    "if os.path.exists(flux_gif):\n",
    "    shutil.rmtree(flux_gif)\n",
    "os.makedirs(flux_gif)\n",
    "\n",
    "if reactor == \"MSRE\":\n",
    "    limity = (0, 0.050)\n",
    "elif reactor == \"MSDR\":\n",
    "    limity = (0, 0.010)\n",
    "else:\n",
    "    limity = (0, 0.04)\n",
    "\n",
    "ax = df.iloc[0:252, [0,2]].plot('Group No', 'Critical Flux', figsize=(7, 5), legend=None, ylim=limity)\n",
    "plt.gca().invert_xaxis()\n",
    "for i in range(1, ocurrences):\n",
    "    df.iloc[252*i:(252*(i+1)), [0,2]].plot('Group No', 'Critical Flux', legend=None, ylim=limity)\n",
    "    plt.gca().invert_xaxis()\n",
    "    #plt.savefig(flux_gif + \"/step\" + str(i) + \".png\")\n",
    "    plt.savefig((flux_gif + \"/step\" + str(i) + \".png\"), format='png', dpi=1200)\n",
    "    plt.close()\n",
    "\n",
    "gif_path = \"./\" + reactor + \"/Flux_Plots/off_eff_\" + eff[x]\n",
    "images = [] #empty list where images will be stored for animation\n",
    "for file_name in natsort.natsorted(os.listdir(flux_gif)):\n",
    "    if file_name.endswith('.png'):\n",
    "        file_path = os.path.join(flux_gif, file_name)\n",
    "        images.append(imageio.imread(file_path))\n",
    "\n",
    "#Saving the images as an animation        \n",
    "imageio.mimsave((gif_path + '/Flux_Time.gif'), images, fps=10)"
   ]
  },
  {
   "cell_type": "code",
   "execution_count": 65,
   "metadata": {},
   "outputs": [
    {
     "name": "stdout",
     "output_type": "stream",
     "text": [
      "Processing Comparison\n",
      "The max mean flux is 121.57/cm^2*s\n"
     ]
    },
    {
     "name": "stderr",
     "output_type": "stream",
     "text": [
      "C:\\Users\\vicen\\Anaconda3\\envs\\data_mining\\lib\\site-packages\\scipy\\io\\matlab\\mio.py:208: MatReadWarning: Duplicate variable name \"None\" in stream - replacing previous with new\n",
      "Consider mio5.varmats_from_mat to split file into single variable files\n",
      "  matfile_dict = MR.get_variables(variable_names)\n"
     ]
    },
    {
     "data": {
      "image/png": "[encoded data removed]",
      "text/plain": [
       "<Figure size 720x576 with 1 Axes>"
      ]
     },
     "metadata": {
      "needs_background": "light"
     },
     "output_type": "display_data"
    }
   ],
   "source": [
    "text_path = (\"./\" + reactor + \"/core_detector.mat\")\n",
    "if os.path.exists(text_path):\n",
    "    print(\"Processing Comparison\")\n",
    "\n",
    "    # # Importing Serpent Detector Results\n",
    "    # Importing Matlab files\n",
    "    detectors = scipy.io.loadmat(text_path)\n",
    "    # Accessing The Energy Detector DETflux_fuel\n",
    "    DETEnergyDetectorNP = detectors['DETEnergyDetector']\n",
    "    # Converting Numpy Matrix to Dataframe\n",
    "    DETEnergyDetector = pd.DataFrame(DETEnergyDetectorNP)\n",
    "\n",
    "\n",
    "    # Column Names as defined by Serpent Manual\n",
    "    detector_columns = [\"Value Index\", \"EBIN\", \"UBINS\", \"CBINS\", \"MBINS\", \"LBINS\", \"RBINS\", \"ZBINS\", \"YBINS\", \"XBINS\", \"Mean Value\", \"Stat. Error\"]\n",
    "    DETEnergyDetector.columns = detector_columns # Setting the column names\n",
    "\n",
    "    # Getting the max flux for normalizing \n",
    "    max_flux = DETEnergyDetector[\"Mean Value\"].max()\n",
    "    print(\"The max mean flux is {}/cm^2*s\".format(max_flux))\n",
    "\n",
    "    # Normalizing by Max Energy\n",
    "    DETEnergyDetector[\"Mean_E_Norm\"] = DETEnergyDetector[\"Mean Value\"]/max_flux\n",
    "    #DETEnergyDetector[\"Norm_Lethargy\"] = np.log(max_flux/DETEnergyDetector[\"Mean Value\"])"
   ]
  },
  {
   "cell_type": "code",
   "execution_count": 66,
   "metadata": {},
   "outputs": [
    {
     "name": "stdout",
     "output_type": "stream",
     "text": [
      "The max flux is 0.02502/cm^2*s\n"
     ]
    }
   ],
   "source": [
    "# # Normalizing SCALE Output\n",
    "#Grabing only the first transport calculation\n",
    "graph_scale = df.iloc[0:252, :].copy()\n",
    "\n",
    "max_flux_scale = graph_scale[\"Critical Flux\"].max()\n",
    "print(\"The max flux is {}/cm^2*s\".format(max_flux_scale))\n",
    "\n",
    "\n",
    "graph_scale[\"E_norm\"] = graph_scale[\"Critical Flux\"]/max_flux_scale\n",
    "\n",
    "graph_scale[\"E_Reverse\"] = graph_scale[\"E_norm\"].values[::-1]\n",
    "graph_scale[\"C_Reverse\"] = graph_scale[\"Critical Flux\"].values[::-1]\n",
    "graph_scale[\"Energy (MeV)\"] = graph_scale[\"Upper Energy (eV)\"].values[::-1] * (1*10**-6)"
   ]
  },
  {
   "cell_type": "code",
   "execution_count": 68,
   "metadata": {},
   "outputs": [
    {
     "data": {
      "text/html": [
       "<div>\n",
       "<style scoped>\n",
       "    .dataframe tbody tr th:only-of-type {\n",
       "        vertical-align: middle;\n",
       "    }\n",
       "\n",
       "    .dataframe tbody tr th {\n",
       "        vertical-align: top;\n",
       "    }\n",
       "\n",
       "    .dataframe thead th {\n",
       "        text-align: right;\n",
       "    }\n",
       "</style>\n",
       "<table border=\"1\" class=\"dataframe\">\n",
       "  <thead>\n",
       "    <tr style=\"text-align: right;\">\n",
       "      <th></th>\n",
       "      <th>Value Index</th>\n",
       "      <th>EBIN</th>\n",
       "      <th>UBINS</th>\n",
       "      <th>CBINS</th>\n",
       "      <th>MBINS</th>\n",
       "      <th>LBINS</th>\n",
       "      <th>RBINS</th>\n",
       "      <th>ZBINS</th>\n",
       "      <th>YBINS</th>\n",
       "      <th>XBINS</th>\n",
       "      <th>Mean Value</th>\n",
       "      <th>Stat. Error</th>\n",
       "      <th>Mean_E_Norm</th>\n",
       "      <th>Energy (MeV)</th>\n",
       "    </tr>\n",
       "  </thead>\n",
       "  <tbody>\n",
       "    <tr>\n",
       "      <th>0</th>\n",
       "      <td>1.0</td>\n",
       "      <td>1.0</td>\n",
       "      <td>1.0</td>\n",
       "      <td>1.0</td>\n",
       "      <td>1.0</td>\n",
       "      <td>1.0</td>\n",
       "      <td>1.0</td>\n",
       "      <td>1.0</td>\n",
       "      <td>1.0</td>\n",
       "      <td>1.0</td>\n",
       "      <td>0.000003</td>\n",
       "      <td>0.37470</td>\n",
       "      <td>2.680184e-08</td>\n",
       "      <td>1.000000e-10</td>\n",
       "    </tr>\n",
       "    <tr>\n",
       "      <th>1</th>\n",
       "      <td>2.0</td>\n",
       "      <td>2.0</td>\n",
       "      <td>1.0</td>\n",
       "      <td>1.0</td>\n",
       "      <td>1.0</td>\n",
       "      <td>1.0</td>\n",
       "      <td>1.0</td>\n",
       "      <td>1.0</td>\n",
       "      <td>1.0</td>\n",
       "      <td>1.0</td>\n",
       "      <td>0.000127</td>\n",
       "      <td>0.11298</td>\n",
       "      <td>1.044756e-06</td>\n",
       "      <td>5.000000e-10</td>\n",
       "    </tr>\n",
       "    <tr>\n",
       "      <th>2</th>\n",
       "      <td>3.0</td>\n",
       "      <td>3.0</td>\n",
       "      <td>1.0</td>\n",
       "      <td>1.0</td>\n",
       "      <td>1.0</td>\n",
       "      <td>1.0</td>\n",
       "      <td>1.0</td>\n",
       "      <td>1.0</td>\n",
       "      <td>1.0</td>\n",
       "      <td>1.0</td>\n",
       "      <td>0.000822</td>\n",
       "      <td>0.11968</td>\n",
       "      <td>6.763420e-06</td>\n",
       "      <td>7.500000e-10</td>\n",
       "    </tr>\n",
       "    <tr>\n",
       "      <th>3</th>\n",
       "      <td>4.0</td>\n",
       "      <td>4.0</td>\n",
       "      <td>1.0</td>\n",
       "      <td>1.0</td>\n",
       "      <td>1.0</td>\n",
       "      <td>1.0</td>\n",
       "      <td>1.0</td>\n",
       "      <td>1.0</td>\n",
       "      <td>1.0</td>\n",
       "      <td>1.0</td>\n",
       "      <td>0.010272</td>\n",
       "      <td>0.04761</td>\n",
       "      <td>8.449782e-05</td>\n",
       "      <td>1.000000e-09</td>\n",
       "    </tr>\n",
       "    <tr>\n",
       "      <th>4</th>\n",
       "      <td>5.0</td>\n",
       "      <td>5.0</td>\n",
       "      <td>1.0</td>\n",
       "      <td>1.0</td>\n",
       "      <td>1.0</td>\n",
       "      <td>1.0</td>\n",
       "      <td>1.0</td>\n",
       "      <td>1.0</td>\n",
       "      <td>1.0</td>\n",
       "      <td>1.0</td>\n",
       "      <td>0.012716</td>\n",
       "      <td>0.05799</td>\n",
       "      <td>1.045982e-04</td>\n",
       "      <td>1.200000e-09</td>\n",
       "    </tr>\n",
       "  </tbody>\n",
       "</table>\n",
       "</div>"
      ],
      "text/plain": [
       "   Value Index  EBIN  UBINS  CBINS  MBINS  LBINS  RBINS  ZBINS  YBINS  XBINS  \\\n",
       "0          1.0   1.0    1.0    1.0    1.0    1.0    1.0    1.0    1.0    1.0   \n",
       "1          2.0   2.0    1.0    1.0    1.0    1.0    1.0    1.0    1.0    1.0   \n",
       "2          3.0   3.0    1.0    1.0    1.0    1.0    1.0    1.0    1.0    1.0   \n",
       "3          4.0   4.0    1.0    1.0    1.0    1.0    1.0    1.0    1.0    1.0   \n",
       "4          5.0   5.0    1.0    1.0    1.0    1.0    1.0    1.0    1.0    1.0   \n",
       "\n",
       "   Mean Value  Stat. Error   Mean_E_Norm  Energy (MeV)  \n",
       "0    0.000003      0.37470  2.680184e-08  1.000000e-10  \n",
       "1    0.000127      0.11298  1.044756e-06  5.000000e-10  \n",
       "2    0.000822      0.11968  6.763420e-06  7.500000e-10  \n",
       "3    0.010272      0.04761  8.449782e-05  1.000000e-09  \n",
       "4    0.012716      0.05799  1.045982e-04  1.200000e-09  "
      ]
     },
     "execution_count": 68,
     "metadata": {},
     "output_type": "execute_result"
    }
   ],
   "source": [
    "DETEnergyDetector[\"Energy (MeV)\"] = graph_scale[\"Energy (MeV)\"]"
   ]
  },
  {
   "cell_type": "code",
   "execution_count": 82,
   "metadata": {},
   "outputs": [
    {
     "name": "stdout",
     "output_type": "stream",
     "text": [
      "Plotting Comparison...\n"
     ]
    },
    {
     "data": {
      "image/png": "[encoded data removed]",
      "text/plain": [
       "<Figure size 720x576 with 1 Axes>"
      ]
     },
     "metadata": {
      "needs_background": "light"
     },
     "output_type": "display_data"
    }
   ],
   "source": [
    "# # SCALE vs SERPENT Spectra Comparison\n",
    "ax = graph_scale.plot('Energy (MeV)', 'E_Reverse', figsize=(10, 8), \n",
    "                      title=(reactor + \" Flux Distribution\"), legend=None, color=\"r\")\n",
    "\n",
    "text_path = (\"./\" + reactor + \"/core_detector.mat\")\n",
    "if os.path.exists(text_path):\n",
    "    print(\"Plotting Comparison...\")\n",
    "    DETEnergyDetector.plot('Energy (MeV)', 'Mean_E_Norm', figsize=(10, 8), legend=None, ax = ax, color=\"g\")#, ylim=(0, 1.1))\n",
    "    ax.grid(True, which='major')\n",
    "    ax.legend([\"Unit Cell (SCALE) \", \"Pin (SERPENT)\"])\n",
    "    ax.set_xscale('log')\n",
    "    ax.set_ylabel(\"Energy Integrated Neutron Flux (a.u.)\")\n",
    "    plt.savefig((\"./\" + reactor + \"/\" + \"Flux_Comparison.png\"), format='png', dpi=1200)\n",
    "#     plt.savefig((\"./\" + reactor + \"/\" + \"Flux_Comparison.png\"))\n",
    "#     plt.savefig((\"./\" + reactor + \"/Flux_Plots/off_eff_\" + eff[x] + \"/Flux_Comparison.png\"))\n",
    "else:\n",
    "    plt.savefig((\"./\" + reactor + \"/Flux_Plots/off_eff_\" + eff[x] + \"/Flux.png\"), format='png', dpi=1200)\n",
    "\n",
    "x = x + 1"
   ]
  }
 ],
 "metadata": {
  "kernelspec": {
   "display_name": "Python 3",
   "language": "python",
   "name": "python3"
  },
  "language_info": {
   "codemirror_mode": {
    "name": "ipython",
    "version": 3
   },
   "file_extension": ".py",
   "mimetype": "text/x-python",
   "name": "python",
   "nbconvert_exporter": "python",
   "pygments_lexer": "ipython3",
   "version": "3.7.2"
  }
 },
 "nbformat": 4,
 "nbformat_minor": 2
}
