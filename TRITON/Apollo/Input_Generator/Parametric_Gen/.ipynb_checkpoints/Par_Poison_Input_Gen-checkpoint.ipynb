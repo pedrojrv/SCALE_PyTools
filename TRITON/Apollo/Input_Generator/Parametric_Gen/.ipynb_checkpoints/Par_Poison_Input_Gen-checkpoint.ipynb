{
 "cells": [
  {
   "cell_type": "markdown",
   "metadata": {},
   "source": [
    "# WORKING"
   ]
  },
  {
   "cell_type": "code",
   "execution_count": 9,
   "metadata": {
    "ExecuteTime": {
     "end_time": "2020-07-28T17:00:19.785219Z",
     "start_time": "2020-07-28T17:00:19.780217Z"
    }
   },
   "outputs": [
    {
     "name": "stdout",
     "output_type": "stream",
     "text": [
      "[0.0, 0.05, 0.1, 0.12, 0.15, 0.2, 0.4, 0.6, 0.8, 1]\n",
      "['0', '5', '10', '12', '15', '20', '40', '60', '80', '100']\n"
     ]
    }
   ],
   "source": [
    "# # Importing Packages\n",
    "import numpy as np\n",
    "import os\n",
    "from natsort import natsorted\n",
    "import glob, os, shutil\n",
    "from itertools import islice\n",
    "\n",
    "####################################################################################################\n",
    "\n",
    "# STEP 1: MODIFY EFFICIENCIES TO THE ONES YOU WANT IN ANY ORDER\n",
    "efficiencies = natsorted([1, 0.8, 0.6, 0.4, 0.2, 0.15, 0.12, 0.10, 0.05, 0.0])\n",
    "eff = natsorted(list(((np.array(efficiencies) * 100).astype(int)).astype(str)))\n",
    "\n",
    "#####################################################################################################\n",
    "\n",
    "print(natsorted(efficiencies))\n",
    "print(natsorted(eff))"
   ]
  },
  {
   "cell_type": "code",
   "execution_count": 2,
   "metadata": {
    "ExecuteTime": {
     "end_time": "2020-07-28T16:49:51.467976Z",
     "start_time": "2020-07-28T16:49:49.314652Z"
    }
   },
   "outputs": [
    {
     "name": "stdout",
     "output_type": "stream",
     "text": [
      "Add decay to removal constant? Y\n"
     ]
    }
   ],
   "source": [
    "####################################################################################################\n",
    "\n",
    "# STEP 2: SPECIFY WITH \"Y\" OR \"N\" IF YOU'D LIKE TO ADD DECAY CONSTANT TO THE REMOVAL COSNTANT\n",
    "decay = input(\"Add decay to removal constant? \")\n",
    "\n",
    "#####################################################################################################"
   ]
  },
  {
   "cell_type": "code",
   "execution_count": 11,
   "metadata": {
    "ExecuteTime": {
     "end_time": "2020-07-28T17:03:52.686477Z",
     "start_time": "2020-07-28T17:03:52.677475Z"
    }
   },
   "outputs": [
    {
     "name": "stdout",
     "output_type": "stream",
     "text": [
      "Efficiencies to create input decks: ['0', '5', '10', '12', '15', '20', '40', '60', '80', '100']\n",
      "Calculating removal constants based on efficiencies...\n",
      "[2.091667e-05, 0.00051962537, 0.0010183340700000002, 0.0012178175500000001, 0.00151704277, 0.0020157514700000004, 0.004010586270000001, 0.00600542107, 0.00800025587, 0.00999509067]\n",
      "[2.091667e-05, 0.00021970532000000002, 0.00041849397, 0.00049800943, 0.0006172826199999999, 0.00081607127, 0.0016112258700000002, 0.00240638047, 0.0032015350700000003, 0.00399668967]\n",
      "[2.091667e-05, 0.00012362622000000001, 0.00022633577000000002, 0.00026741958999999994, 0.00032904531999999995, 0.00043175487, 0.00084259307, 0.00125343127, 0.0016642694700000002, 0.00207510767]\n"
     ]
    }
   ],
   "source": [
    "eff_strings = list((np.array(efficiencies) * 100).astype(int).astype(str))\n",
    "print(\"Efficiencies to create input decks: {}\".format(eff_strings))\n",
    "\n",
    "# If decay is yes, Xe-135 decay constant is added (not isotope depandant, yet)\n",
    "xe_decay = 2.091667E-05 #[/s]\n",
    "\n",
    "####################################################################################################\n",
    "\n",
    "# STEP 3: YOU MUST PROVIDE THE \"REMOVAL CONSTANT\" BASED ON THE FLOW RATE THROUGH\n",
    "# THE OFF GAS SYSTEM AS IF IT WORKS AT 100% REMOVAL EFFICIENCY\n",
    "# SEE THE \"ALLLAMBDA\" TAB IN THE WORKFLOW.XLSX. \n",
    "# THE VALUES GIVEN HERE ARE THE ONES WE CALCULATED.\n",
    "MSBR_pre_eff = 0.009974174\n",
    "MSRE_pre_eff = 0.002054191\n",
    "MSDR_pre_eff = 0.003975773\n",
    "\n",
    "#####################################################################################################\n",
    "\n",
    "# Empty list to add removal constants to\n",
    "MSBR_r = []\n",
    "MSRE_r = []\n",
    "MSDR_r = []\n",
    "\n",
    "\n",
    "print(\"Calculating removal constants based on efficiencies...\")\n",
    "if decay.upper() == \"N\":\n",
    "    for i in efficiencies:\n",
    "        MSBR_r.append(i * MSBR_pre_eff)\n",
    "        MSRE_r.append(i * MSRE_pre_eff)\n",
    "        MSDR_r.append(i * MSDR_pre_eff)\n",
    "elif decay.upper() == \"Y\":\n",
    "    for i in efficiencies:\n",
    "        MSBR_r.append((i * MSBR_pre_eff) + xe_decay)\n",
    "        MSRE_r.append((i * MSRE_pre_eff) + xe_decay)\n",
    "        MSDR_r.append((i * MSDR_pre_eff) + xe_decay)"
   ]
  },
  {
   "cell_type": "code",
   "execution_count": 12,
   "metadata": {
    "ExecuteTime": {
     "end_time": "2020-07-28T17:07:14.681768Z",
     "start_time": "2020-07-28T17:07:14.677775Z"
    }
   },
   "outputs": [],
   "source": [
    "runs = [[\"4\"],\n",
    "        [\"3\"],\n",
    "        [\"2\"], \n",
    "        [\"1\"], \n",
    "        [\"0.5\"],\n",
    "        [\"0.25\"]]"
   ]
  },
  {
   "cell_type": "markdown",
   "metadata": {},
   "source": [
    "# MSRE"
   ]
  },
  {
   "cell_type": "code",
   "execution_count": 4,
   "metadata": {},
   "outputs": [],
   "source": [
    "for i in range(0, len(runs)):\n",
    "    with open(\"./MSRE_beta.txt\", \"r\") as myfile: #JUST TO TAKE THE FIRST 23 LINES\n",
    "        head = list(islice(myfile, 44))\n",
    "\n",
    "    with open(\"./MSRE_beta.txt\", \"r\") as myfile2:\n",
    "        head2 = list(islice(myfile2, 46, None))\n",
    "        \n",
    "    with open(\"MSRE_beta_{}.inp\".format(runs[i][0]), \"w+\", newline='\\n') as f2:\n",
    "        for item in head:\n",
    "              f2.write(item)\n",
    "            \n",
    "        # SPECIFY PATH THAT THE PBS FILE WILL BE IN!\n",
    "        for z in range(0, len(runs[i])):\n",
    "              f2.write(\"power=30.81326566 burn={}  nlib=1 down=0 end \\n\".format(runs[i][z]))\n",
    "        \n",
    "        for item in head2:\n",
    "              f2.write(item)\n",
    "              \n",
    "        f2.close()\n",
    "    myfile.close()\n",
    "    myfile2.close()\n",
    "    \n",
    "    with open(\"./MSRE_beta_{}.inp\".format(runs[i][0]), \"r\", newline='\\n') as file:\n",
    "              filedata = file.read()\n",
    "    \n",
    "    # Replace the target string\n",
    "    filedata = filedata.replace('substitute', str(MSRE_r[-1]))\n",
    "    file.close()\n",
    "    \n",
    "    # Write the file out again\n",
    "    with open(\"./MSRE_beta_{}.inp\".format(runs[i][0]), \"w\", newline='\\n') as file:\n",
    "        file.write(filedata)\n",
    "    file.close()"
   ]
  },
  {
   "cell_type": "code",
   "execution_count": 5,
   "metadata": {},
   "outputs": [],
   "source": [
    "for i in range(0, len(runs)):\n",
    "    with open(\"./MSBR_beta.txt\", \"r\") as myfile: #JUST TO TAKE THE FIRST 23 LINES\n",
    "        head = list(islice(myfile, 39))\n",
    "\n",
    "    with open(\"./MSBR_beta.txt\", \"r\") as myfile2:\n",
    "        head2 = list(islice(myfile2, 41, None))\n",
    "        \n",
    "    with open(\"MSBR_beta_{}.inp\".format(runs[i][0]), \"w+\", newline='\\n') as f2:\n",
    "        for item in head:\n",
    "              f2.write(item)\n",
    "            \n",
    "        # SPECIFY PATH THAT THE PBS FILE WILL BE IN!\n",
    "        for z in range(0, len(runs[i])):\n",
    "              f2.write(\"power=30.81326566 burn={}  nlib=1 down=0 end \\n\".format(runs[i][z]))\n",
    "        \n",
    "        for item in head2:\n",
    "              f2.write(item)\n",
    "              \n",
    "        f2.close()\n",
    "    myfile.close()\n",
    "    myfile2.close()\n",
    "    \n",
    "    with open(\"./MSBR_beta_{}.inp\".format(runs[i][0]), \"r\", newline='\\n') as file:\n",
    "              filedata = file.read()\n",
    "    \n",
    "    # Replace the target string\n",
    "    filedata = filedata.replace('substitute', str(MSBR_r[-1]))\n",
    "    file.close()\n",
    "    \n",
    "    # Write the file out again\n",
    "    with open(\"./MSBR_beta_{}.inp\".format(runs[i][0]), \"w\", newline='\\n') as file:\n",
    "        file.write(filedata)\n",
    "    file.close()"
   ]
  },
  {
   "cell_type": "code",
   "execution_count": 6,
   "metadata": {},
   "outputs": [],
   "source": [
    "for i in range(0, len(runs)):\n",
    "    with open(\"./MSDR_beta.txt\", \"r\") as myfile: #JUST TO TAKE THE FIRST 23 LINES\n",
    "        head = list(islice(myfile, 31))\n",
    "\n",
    "    with open(\"./MSDR_beta.txt\", \"r\") as myfile2:\n",
    "        head2 = list(islice(myfile2, 33, None))\n",
    "        \n",
    "    with open(\"MSDR_beta_{}.inp\".format(runs[i][0]), \"w+\", newline='\\n') as f2:\n",
    "        for item in head:\n",
    "              f2.write(item)\n",
    "            \n",
    "        # SPECIFY PATH THAT THE PBS FILE WILL BE IN!\n",
    "        for z in range(0, len(runs[i])):\n",
    "              f2.write(\"power=30.81326566 burn={}  nlib=1 down=0 end \\n\".format(runs[i][z]))\n",
    "        \n",
    "        for item in head2:\n",
    "              f2.write(item)\n",
    "              \n",
    "        f2.close()\n",
    "    myfile.close()\n",
    "    myfile2.close()\n",
    "    \n",
    "    with open(\"./MSDR_beta_{}.inp\".format(runs[i][0]), \"r\", newline='\\n') as file:\n",
    "              filedata = file.read()\n",
    "    \n",
    "    # Replace the target string\n",
    "    filedata = filedata.replace('substitute', str(MSDR_r[-1]))\n",
    "    file.close()\n",
    "    \n",
    "    # Write the file out again\n",
    "    with open(\"./MSDR_beta_{}.inp\".format(runs[i][0]), \"w\", newline='\\n') as file:\n",
    "        file.write(filedata)\n",
    "    file.close()"
   ]
  },
  {
   "cell_type": "code",
   "execution_count": 7,
   "metadata": {},
   "outputs": [],
   "source": [
    "#.."
   ]
  },
  {
   "cell_type": "code",
   "execution_count": 8,
   "metadata": {},
   "outputs": [],
   "source": [
    "# Creates folders based on input names and moves the input to the appropiate folder\n",
    "folder = '.'\n",
    "\n",
    "for file_path in glob.glob(os.path.join(folder, '*.inp*')):\n",
    "    new_dir = file_path.rsplit('.', 1)[0]\n",
    "    try:\n",
    "        os.mkdir(os.path.join(folder, new_dir))\n",
    "    except WindowsError:\n",
    "        # Handle the case where the target dir already exist.\n",
    "        pass\n",
    "    shutil.move(file_path, os.path.join(new_dir, os.path.basename(file_path)))"
   ]
  },
  {
   "cell_type": "code",
   "execution_count": 9,
   "metadata": {},
   "outputs": [],
   "source": [
    "# MSRE\n",
    "# always remember, use files in a with statement\n",
    "for i in range(0, len(runs)):\n",
    "    with open(\"scale_beta_unix.pbs\", \"r\") as myfile:\n",
    "        head = list(islice(myfile, 23))\n",
    "        \n",
    "    \n",
    "    with open(\"./MSRE_beta_{0}/MSRE_{0}.pbs\".format(runs[i][0]), \"w\", newline='\\n') as f2:\n",
    "        for item in head:\n",
    "            f2.write(item)\n",
    "        f2.write(\"cd /home/ybb/SCALE_beta/Poison/MSRE/MSRE_beta_{}/\\n\".format(runs[i][0]))\n",
    "        f2.write(\"/scale/release/6.3b4/linux/bin/scalerte MSRE_beta_{0}.inp\\n\".format(len(runs[i][0])))\n",
    "        f2.write(\"\\n\")\n",
    "        \n",
    "        f2.close()\n",
    "    myfile.close()\n",
    "        \n",
    "for i in range(0, len(runs)):\n",
    "    with open('./MSRE_beta_{0}/MSRE_{0}.pbs'.format(runs[i][0]), 'r') as file :\n",
    "        filedata = file.read()\n",
    "        # Replace the target string\n",
    "        filedata = filedata.replace('substitute1', \"MSRE_cases\")\n",
    "\n",
    "        # Write the file out again\n",
    "        with open('./MSRE_beta_{0}/MSRE_{0}.pbs'.format(runs[i][0]), 'w', newline='\\n') as file:\n",
    "            file.write(filedata)\n",
    "            file.close()\n",
    "        file.close()"
   ]
  },
  {
   "cell_type": "code",
   "execution_count": 10,
   "metadata": {},
   "outputs": [],
   "source": [
    "# MSDR\n",
    "# always remember, use files in a with statement\n",
    "for i in range(0, len(runs)):\n",
    "    with open(\"scale_beta_unix.pbs\", \"r\") as myfile:\n",
    "        head = list(islice(myfile, 23))\n",
    "        \n",
    "    \n",
    "    with open(\"./MSDR_beta_{0}/MSDR_{0}.pbs\".format(runs[i][0]), \"w\", newline='\\n') as f2:\n",
    "        for item in head:\n",
    "            f2.write(item)\n",
    "        f2.write(\"cd /home/ybb/SCALE_beta/Poison/MSDR/MSDR_beta_{}/\\n\".format(runs[i][0]))\n",
    "        f2.write(\"/scale/release/6.3b4/linux/bin/scalerte MSDR_beta_{0}.inp\\n\".format(len(runs[i][0])))\n",
    "        f2.write(\"\\n\")\n",
    "        \n",
    "        f2.close()\n",
    "    myfile.close()\n",
    "        \n",
    "for i in range(0, len(runs)):\n",
    "    with open('./MSDR_beta_{0}/MSDR_{0}.pbs'.format(runs[i][0]), 'r') as file :\n",
    "        filedata = file.read()\n",
    "        # Replace the target string\n",
    "        filedata = filedata.replace('substitute1', \"MSDR_cases\")\n",
    "\n",
    "        # Write the file out again\n",
    "        with open('./MSDR_beta_{0}/MSDR_{0}.pbs'.format(runs[i][0]), 'w', newline='\\n') as file:\n",
    "            file.write(filedata)\n",
    "            file.close()\n",
    "        file.close()"
   ]
  },
  {
   "cell_type": "code",
   "execution_count": 11,
   "metadata": {},
   "outputs": [],
   "source": [
    "# MSBR\n",
    "# always remember, use files in a with statement\n",
    "for i in range(0, len(runs)):\n",
    "    with open(\"scale_beta_unix.pbs\", \"r\") as myfile:\n",
    "        head = list(islice(myfile, 23))\n",
    "        \n",
    "    \n",
    "    with open(\"./MSBR_beta_{0}/MSBR_{0}.pbs\".format(runs[i][0]), \"w\", newline='\\n') as f2:\n",
    "        for item in head:\n",
    "            f2.write(item)\n",
    "        f2.write(\"cd /home/ybb/SCALE_beta/Poison/MSBR/MSBR_beta_{}/\\n\".format(runs[i][0]))\n",
    "        f2.write(\"/scale/release/6.3b4/linux/bin/scalerte MSBR_beta_{0}.inp\\n\".format(len(runs[i][0])))\n",
    "        f2.write(\"\\n\")\n",
    "        \n",
    "        f2.close()\n",
    "    myfile.close()\n",
    "        \n",
    "for i in range(0, len(runs)):\n",
    "    with open('./MSBR_beta_{0}/MSBR_{0}.pbs'.format(runs[i][0]), 'r') as file :\n",
    "        filedata = file.read()\n",
    "        # Replace the target string\n",
    "        filedata = filedata.replace('substitute1', \"MSBR_cases\")\n",
    "\n",
    "        # Write the file out again\n",
    "        with open('./MSBR_beta_{0}/MSBR_{0}.pbs'.format(runs[i][0]), 'w', newline='\\n') as file:\n",
    "            file.write(filedata)\n",
    "            file.close()\n",
    "        file.close()"
   ]
  },
  {
   "cell_type": "code",
   "execution_count": 12,
   "metadata": {},
   "outputs": [],
   "source": [
    "%%bash\n",
    "mkdir MSDR\n",
    "mkdir MSBR\n",
    "mkdir MSRE\n",
    "mv MSBR_beta_* ./MSBR/\n",
    "mv MSDR_beta_* ./MSDR/\n",
    "mv MSRE_beta_* ./MSRE/"
   ]
  },
  {
   "cell_type": "code",
   "execution_count": 13,
   "metadata": {},
   "outputs": [],
   "source": [
    "# always remember, use files in a with statement\n",
    "with open(\"scale_beta.pbs\", \"w\", newline='\\n') as f2:\n",
    "\n",
    "    # MSBR\n",
    "    for i in range(0, len(runs)):\n",
    "        f2.write(\"cd /home/ybb/SCALE_beta/Poison/MSBR/MSBR_beta_{}/\\n\".format(runs[i][0]))\n",
    "        f2.write(\"qsub MSBR_{}.pbs\\n\".format(runs[i][0]))\n",
    "        f2.write(\"\\n\")\n",
    "        \n",
    "    # MSRE\n",
    "    for i in range(0, len(runs)):\n",
    "        f2.write(\"cd /home/ybb/SCALE_beta/Poison/MSRE/MSRE_beta_{}/\\n\".format(runs[i][0]))\n",
    "        f2.write(\"qsub MSRE_{}.pbs\\n\".format(runs[i][0]))\n",
    "        f2.write(\"\\n\")\n",
    "        \n",
    "    # MSDR\n",
    "    for i in range(0, len(runs)):\n",
    "        f2.write(\"cd /home/ybb/SCALE_beta/Poison/MSDR/MSDR_beta_{}/\\n\".format(runs[i][0]))\n",
    "        f2.write(\"qsub MSDR_{}.pbs\\n\".format(runs[i][0]))\n",
    "        f2.write(\"\\n\")\n",
    "    f2.close()"
   ]
  },
  {
   "cell_type": "code",
   "execution_count": null,
   "metadata": {},
   "outputs": [],
   "source": []
  }
 ],
 "metadata": {
  "kernelspec": {
   "display_name": "Python 3",
   "language": "python",
   "name": "python3"
  },
  "language_info": {
   "codemirror_mode": {
    "name": "ipython",
    "version": 3
   },
   "file_extension": ".py",
   "mimetype": "text/x-python",
   "name": "python",
   "nbconvert_exporter": "python",
   "pygments_lexer": "ipython3",
   "version": "3.7.7"
  }
 },
 "nbformat": 4,
 "nbformat_minor": 2
}
