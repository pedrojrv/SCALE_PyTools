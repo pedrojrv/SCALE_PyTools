{
 "cells": [
  {
   "cell_type": "code",
   "execution_count": 1,
   "metadata": {},
   "outputs": [],
   "source": [
    "# Efficiencies to create input decks for:\n",
    "efficiencies = [1, 0.8, 0.6, 0.4, 0.2, 0.15, 0.12, 0.10, 0.05, 0.0]"
   ]
  },
  {
   "cell_type": "code",
   "execution_count": 2,
   "metadata": {},
   "outputs": [],
   "source": [
    "import glob, os, shutil\n",
    "from itertools import islice\n",
    "import numpy as np"
   ]
  },
  {
   "cell_type": "markdown",
   "metadata": {},
   "source": [
    "# Setting Physical Constants"
   ]
  },
  {
   "cell_type": "code",
   "execution_count": 3,
   "metadata": {},
   "outputs": [
    {
     "name": "stdout",
     "output_type": "stream",
     "text": [
      "Add decay to removal constant? Y\n",
      "Efficiencies to create input decks: ['100', '80', '60', '40', '20', '15', '12', '10', '5', '0']\n"
     ]
    }
   ],
   "source": [
    "decay = input(\"Add decay to removal constant? \")\n",
    "\n",
    "eff_strings = np.array(efficiencies) * 100\n",
    "eff_strings = eff_strings.astype(int)\n",
    "eff_strings = list(eff_strings.astype(str))\n",
    "print(\"Efficiencies to create input decks: {}\".format(eff_strings))\n",
    "\n",
    "# If decay is yes, Xe-135 decay constant is added (not isotope depandant, yet)\n",
    "xe_decay = 2.091667E-05 #[/s]\n",
    "mo_decay = 2.920604E-06\n",
    "\n",
    "\n",
    "# Values from WorkBook All Lambda\n",
    "MSBR_pre_eff = 0.009974174\n",
    "MSRE_pre_eff = 0.002054191\n",
    "MSDR_pre_eff = 0.003975773\n",
    "\n",
    "MSBR_pre_eff_s = 9.97417E-05\n",
    "MSRE_pre_eff_s = 1.58015E-05\n",
    "MSDR_pre_eff_s = 3.97577E-05\n",
    "\n",
    "# MSBR_pre_eff_s = 0.089767569\n",
    "# MSRE_pre_eff_s = 0.037923553\n",
    "# MSDR_pre_eff_s = 0.035742629"
   ]
  },
  {
   "cell_type": "code",
   "execution_count": 4,
   "metadata": {},
   "outputs": [
    {
     "name": "stdout",
     "output_type": "stream",
     "text": [
      "Calculating Removal Constants based on efficiencies...\n",
      "Calculating Removal Constants based on efficiencies...\n"
     ]
    }
   ],
   "source": [
    "# Empty list to add removal constants to\n",
    "MSBR_r = []\n",
    "MSRE_r = []\n",
    "MSDR_r = []\n",
    "\n",
    "MSBR_mo = []\n",
    "MSRE_mo = []\n",
    "MSDR_mo = []\n",
    "\n",
    "ogs_eff = 0.10\n",
    "\n",
    "print(\"Calculating Removal Constants based on efficiencies...\")\n",
    "if decay == \"N\":\n",
    "    for i in efficiencies:\n",
    "        removal_B = i * MSBR_pre_eff\n",
    "        removal_E = i * MSRE_pre_eff\n",
    "        removal_D = i * MSDR_pre_eff\n",
    "        MSBR_r.append(removal_B)\n",
    "        MSRE_r.append(removal_E)\n",
    "        MSDR_r.append(removal_D)\n",
    "elif decay == \"Y\":\n",
    "    removal_B = (ogs_eff * MSBR_pre_eff) + xe_decay\n",
    "    removal_E = (ogs_eff * MSRE_pre_eff) + xe_decay\n",
    "    removal_D = (ogs_eff * MSDR_pre_eff) + xe_decay\n",
    "    MSBR_r.append(removal_B)\n",
    "    MSRE_r.append(removal_E)\n",
    "    MSDR_r.append(removal_D)\n",
    "        \n",
    "        \n",
    "print(\"Calculating Removal Constants based on efficiencies...\")\n",
    "if decay == \"N\":\n",
    "    for i in efficiencies:\n",
    "        removal_B = i * MSBR_pre_eff_s\n",
    "        removal_E = i * MSRE_pre_eff_s\n",
    "        removal_D = i * MSDR_pre_eff_s\n",
    "        MSBR_r.append(removal_B)\n",
    "        MSRE_r.append(removal_E)\n",
    "        MSDR_r.append(removal_D)\n",
    "elif decay == \"Y\":\n",
    "    for i in efficiencies:\n",
    "        removal_B = (i * MSBR_pre_eff_s) + mo_decay\n",
    "        removal_E = (i * MSRE_pre_eff_s) + mo_decay\n",
    "        removal_D = (i * MSDR_pre_eff_s) + mo_decay\n",
    "        MSBR_mo.append(removal_B)\n",
    "        MSRE_mo.append(removal_E)\n",
    "        MSDR_mo.append(removal_D)"
   ]
  },
  {
   "cell_type": "code",
   "execution_count": 5,
   "metadata": {},
   "outputs": [
    {
     "name": "stdout",
     "output_type": "stream",
     "text": [
      "[0.0010183340700000002]\n",
      "[0.00041849397]\n",
      "[0.00022633577000000002]\n",
      " \n",
      "[0.000102662304, 8.271396400000002e-05, 6.2765624e-05, 4.2817284000000004e-05, 2.2868944000000004e-05, 1.7881859e-05, 1.4889607999999999e-05, 1.2894774000000001e-05, 7.907689e-06, 2.920604e-06]\n",
      "[4.2678304e-05, 3.4726764e-05, 2.6775224e-05, 1.8823684000000004e-05, 1.0872144000000001e-05, 8.884259e-06, 7.691528e-06, 6.896374000000001e-06, 4.9084890000000004e-06, 2.920604e-06]\n",
      "[1.8722104000000003e-05, 1.5561804e-05, 1.2401504e-05, 9.241204000000002e-06, 6.080904000000001e-06, 5.290829e-06, 4.816784000000001e-06, 4.500754e-06, 3.7106790000000004e-06, 2.920604e-06]\n"
     ]
    }
   ],
   "source": [
    "print(MSBR_r)\n",
    "print(MSDR_r)\n",
    "print(MSRE_r)\n",
    "print(\" \")\n",
    "print(MSBR_mo)\n",
    "print(MSDR_mo)\n",
    "print(MSRE_mo)"
   ]
  },
  {
   "cell_type": "markdown",
   "metadata": {},
   "source": [
    "### This writes the input files:"
   ]
  },
  {
   "cell_type": "code",
   "execution_count": 6,
   "metadata": {},
   "outputs": [],
   "source": [
    "# MSBR      \n",
    "for i in range(0, len(MSBR_mo)):\n",
    "    with open('./MSBR_beta.txt', 'r') as file :\n",
    "        filedata = file.read()\n",
    "    \n",
    "    # Replace the target string\n",
    "    filedata = filedata.replace('substitute', str(MSBR_r[-1]))\n",
    "    filedata = filedata.replace('solidsubs', str(MSBR_mo[i]))\n",
    "    file.close()\n",
    "    \n",
    "    # Write the file out again\n",
    "    with open(('MSBR_beta_{}.inp'.format(eff_strings[i])), 'w') as file:\n",
    "        file.write(filedata)\n",
    "        file.close()\n",
    "        \n",
    "# MSRE      \n",
    "for i in range(0, len(MSRE_mo)):\n",
    "    with open('./MSRE_beta.txt', 'r') as file :\n",
    "        filedata = file.read()\n",
    "    \n",
    "    # Replace the target string\n",
    "    filedata = filedata.replace('substitute', str(MSRE_r[-1]))\n",
    "    filedata = filedata.replace('solidsubs', str(MSRE_mo[i]))\n",
    "    file.close()\n",
    "    \n",
    "    # Write the file out again\n",
    "    with open(('MSRE_beta_{}.inp'.format(eff_strings[i])), 'w') as file:\n",
    "        file.write(filedata)\n",
    "        file.close()\n",
    "        \n",
    "# MSDR\n",
    "for i in range(0, len(MSDR_mo)):\n",
    "    with open('./MSDR_beta.txt', 'r') as file :\n",
    "        filedata = file.read()\n",
    "    \n",
    "    # Replace the target string\n",
    "    filedata = filedata.replace('substitute', str(MSDR_r[-1]))\n",
    "    filedata = filedata.replace('solidsubs', str(MSDR_mo[i]))\n",
    "    file.close()\n",
    "    \n",
    "    # Write the file out again\n",
    "    with open(('MSDR_beta_{}.inp'.format(eff_strings[i])), 'w') as file:\n",
    "        file.write(filedata)\n",
    "        file.close()"
   ]
  },
  {
   "cell_type": "markdown",
   "metadata": {},
   "source": [
    "Next, we create a folder for each input and place the input file inside:"
   ]
  },
  {
   "cell_type": "code",
   "execution_count": 7,
   "metadata": {},
   "outputs": [],
   "source": [
    "# print(os.path.join('.', '*.inp*'))\n",
    "# print(glob.glob(os.path.join('.', '*.inp*'))[0])\n",
    "# print(glob.glob(os.path.join('.', '*.inp*'))[0].rsplit('.',1)[0])\n",
    "# print(os.path.join('.', glob.glob(os.path.join('.', '*.inp*'))[0].rsplit('.',1)[0]))\n",
    "\n",
    "# print(os.path.join(glob.glob(os.path.join('.', '*.inp*'))[0].rsplit('.',1)[0]), os.path.basename(os.path.join('.', '*.inp*'))[0])"
   ]
  },
  {
   "cell_type": "code",
   "execution_count": 8,
   "metadata": {},
   "outputs": [],
   "source": [
    "# Creates folders based on input names and moves the input to the appropiate folder\n",
    "folder = '.'\n",
    "\n",
    "for file_path in glob.glob(os.path.join(folder, '*.inp*')):\n",
    "    new_dir = file_path.rsplit('.', 1)[0]\n",
    "    try:\n",
    "        os.mkdir(os.path.join(folder, new_dir))\n",
    "    except WindowsError:\n",
    "        # Handle the case where the target dir already exist.\n",
    "        pass\n",
    "    shutil.move(file_path, os.path.join(new_dir, os.path.basename(file_path)))"
   ]
  },
  {
   "cell_type": "code",
   "execution_count": 9,
   "metadata": {},
   "outputs": [],
   "source": [
    "# CREATES PBS FILE FOR EACH CASE AND PLACES IT IN THE FOLDER\n",
    "\n",
    "# MSBR\n",
    "# always remember, use files in a with statement\n",
    "for i in range(0, len(eff_strings)):\n",
    "    with open(\"scale_beta_unix.pbs\", \"r\") as myfile: #JUST TO TAKE THE FIRST 23 LINES\n",
    "        head = list(islice(myfile, 23))     \n",
    "    with open(\"./MSBR_beta_{0}/MSBR_{0}.pbs\".format(eff_strings[i]), \"w\", newline='\\n') as f2:\n",
    "        for item in head:\n",
    "            f2.write(item)\n",
    "            \n",
    "        # SPECIFY PATH THAT THE PBS FILE WILL BE IN!\n",
    "        f2.write(\"cd /home/ybb/SCALE_beta/MSBR/MSBR_beta_{}/\\n\".format(eff_strings[i]))\n",
    "        f2.write(\"/scale/release/6.3b4/linux/bin/scalerte MSBR_beta_{0}.inp\\n\".format(eff_strings[i]))\n",
    "        f2.write(\"\\n\")\n",
    "        f2.close()\n",
    "    myfile.close()\n",
    "        \n",
    "for i in range(0, len(eff_strings)):\n",
    "    with open('./MSBR_beta_{0}/MSBR_{0}.pbs'.format(eff_strings[i]), 'r') as file :\n",
    "        filedata = file.read()\n",
    "        # Replace the target string\n",
    "        filedata = filedata.replace('substitute1', \"MSBR_cases\")\n",
    "        # Write the file out again\n",
    "        with open('./MSBR_beta_{0}/MSBR_{0}.pbs'.format(eff_strings[i]), 'w', newline='\\n') as file:\n",
    "            file.write(filedata)\n",
    "            file.close()\n",
    "        file.close()"
   ]
  },
  {
   "cell_type": "code",
   "execution_count": 10,
   "metadata": {},
   "outputs": [],
   "source": [
    "# MSRE\n",
    "# always remember, use files in a with statement\n",
    "for i in range(0, len(eff_strings)):\n",
    "    with open(\"scale_beta_unix.pbs\", \"r\") as myfile:\n",
    "        head = list(islice(myfile, 23))\n",
    "        \n",
    "    with open(\"./MSRE_beta_{0}/MSRE_{0}.pbs\".format(eff_strings[i]), \"w\", newline='\\n') as f2:\n",
    "        for item in head:\n",
    "            f2.write(item)\n",
    "        f2.write(\"cd /home/ybb/SCALE_beta/MSRE/MSRE_beta_{}/\\n\".format(eff_strings[i]))\n",
    "        f2.write(\"/scale/release/6.3b4/linux/bin/scalerte MSRE_beta_{0}.inp\\n\".format(eff_strings[i]))\n",
    "        f2.write(\"\\n\")\n",
    "        \n",
    "        f2.close()\n",
    "    myfile.close()\n",
    "        \n",
    "for i in range(0, len(eff_strings)):\n",
    "    with open('./MSRE_beta_{0}/MSRE_{0}.pbs'.format(eff_strings[i]), 'r') as file :\n",
    "        filedata = file.read()\n",
    "        # Replace the target string\n",
    "        filedata = filedata.replace('substitute1', \"MSRE_cases\")\n",
    "\n",
    "        # Write the file out again\n",
    "        with open('./MSRE_beta_{0}/MSRE_{0}.pbs'.format(eff_strings[i]), 'w', newline='\\n') as file:\n",
    "            file.write(filedata)\n",
    "            file.close()\n",
    "        file.close()"
   ]
  },
  {
   "cell_type": "code",
   "execution_count": 11,
   "metadata": {},
   "outputs": [],
   "source": [
    "# MSDR\n",
    "#always remember, use files in a with statement\n",
    "for i in range(0, len(eff_strings)):\n",
    "    with open(\"scale_beta_unix.pbs\", \"r\") as myfile:\n",
    "        head = list(islice(myfile, 23))\n",
    "        \n",
    "    with open(\"./MSDR_beta_{0}/MSDR_{0}.pbs\".format(eff_strings[i]), \"w\", newline='\\n') as f2:\n",
    "        for item in head:\n",
    "            f2.write(item)\n",
    "        f2.write(\"cd /home/ybb/SCALE_beta/MSDR/MSDR_beta_{}/\\n\".format(eff_strings[i]))\n",
    "        f2.write(\"/scale/release/6.3b4/linux/bin/scalerte MSDR_beta_{0}.inp\\n\".format(eff_strings[i]))\n",
    "        f2.write(\"\\n\")\n",
    "        \n",
    "        f2.close()\n",
    "    myfile.close()\n",
    "        \n",
    "for i in range(0, len(eff_strings)):\n",
    "    with open('./MSDR_beta_{0}/MSDR_{0}.pbs'.format(eff_strings[i]), 'r') as file :\n",
    "        filedata = file.read()\n",
    "        # Replace the target string\n",
    "        filedata = filedata.replace('substitute1', \"MSDR_cases\")\n",
    "\n",
    "        # Write the file out again\n",
    "        with open('./MSDR_beta_{0}/MSDR_{0}.pbs'.format(eff_strings[i]), 'w', newline='\\n') as file:\n",
    "            file.write(filedata)\n",
    "            file.close()\n",
    "        file.close()"
   ]
  },
  {
   "cell_type": "code",
   "execution_count": 12,
   "metadata": {},
   "outputs": [],
   "source": [
    "%%bash\n",
    "mkdir MSBR\n",
    "mkdir MSDR\n",
    "mkdir MSRE\n",
    "mv MSBR_beta_* ./MSBR/\n",
    "mv MSDR_beta_* ./MSDR/\n",
    "mv MSRE_beta_* ./MSRE/"
   ]
  },
  {
   "cell_type": "code",
   "execution_count": 13,
   "metadata": {},
   "outputs": [],
   "source": [
    "# with open(\"scale_beta_unix.pbs\", \"r\") as myfile:\n",
    "#     head = list(islice(myfile, 23))\n",
    "\n",
    "# always remember, use files in a with statement\n",
    "with open(\"scale_beta.pbs\", \"w\", newline='\\n') as f2:\n",
    "#     for item in head:\n",
    "#         f2.write(item)\n",
    "        \n",
    "    # MSBR\n",
    "    for i in range(0, len(eff_strings)):\n",
    "        f2.write(\"cd /home/ybb/SCALE_beta/MSBR/MSBR_beta_{}/\\n\".format(eff_strings[i]))\n",
    "        f2.write(\"qsub MSBR_{}.pbs\\n\".format(eff_strings[i]))\n",
    "        f2.write(\"\\n\")\n",
    "        \n",
    "    # MSRE\n",
    "    for i in range(0, len(eff_strings)):\n",
    "        f2.write(\"cd /home/ybb/SCALE_beta/MSRE/MSRE_beta_{}/\\n\".format(eff_strings[i]))\n",
    "        f2.write(\"qsub MSRE_{}.pbs\\n\".format(eff_strings[i]))\n",
    "        f2.write(\"\\n\")\n",
    "        \n",
    "    # MSDR\n",
    "    for i in range(0, len(eff_strings)):\n",
    "        f2.write(\"cd /home/ybb/SCALE_beta/MSDR/MSDR_beta_{}/\\n\".format(eff_strings[i]))\n",
    "        f2.write(\"qsub MSDR_{}.pbs\\n\".format(eff_strings[i]))\n",
    "        f2.write(\"\\n\")\n",
    "    f2.close()"
   ]
  },
  {
   "cell_type": "code",
   "execution_count": 31,
   "metadata": {},
   "outputs": [],
   "source": [
    "# %%bash\n",
    "# mkdir NewInputs\n",
    "# mv MSBR_inputs ./MSBR_inputs/\n",
    "# mv MSDR_inputs ./MSDR_inputs/\n",
    "# mv MSRE_inputs ./MSRE_inputs/"
   ]
  },
  {
   "cell_type": "code",
   "execution_count": 32,
   "metadata": {},
   "outputs": [],
   "source": [
    "# with open('./MSBR_cases.pbs', 'r') as file :\n",
    "#     filedata = file.read()\n",
    "#     # Replace the target string\n",
    "#     filedata = filedata.replace('substitute1', \"Allocating\")\n",
    "    \n",
    "#     # Write the file out again\n",
    "#     with open('MSBR_cases.pbs', 'w', newline='\\n') as file:\n",
    "#         file.write(filedata)\n",
    "#         file.close()\n",
    "#     file.close()"
   ]
  },
  {
   "cell_type": "code",
   "execution_count": 18,
   "metadata": {},
   "outputs": [],
   "source": [
    "# with open(\"scale_beta_unix.pbs\", \"r\") as myfile:\n",
    "#     head = list(islice(myfile, 23))\n",
    "\n",
    "# # always remember, use files in a with statement\n",
    "# with open(\"MSBR_cases.pbs\", \"w\", newline='\\n') as f2:\n",
    "#     for item in head:\n",
    "#         f2.write(item)\n",
    "#     for i in range(0, len(eff_strings)):\n",
    "#         f2.write(\"cd /home/ybb/SCALE_beta/MSBR_inputs/MSBR_beta_{}/\\n\".format(eff_strings[i]))\n",
    "#         f2.write(\"/scale/release/6.3b4/linux/bin/scalerte MSBR_beta_{}.inp\\n\".format(eff_strings[i]))\n",
    "#         f2.write(\"\\n\")\n",
    "#     f2.close()\n",
    "    \n",
    "# with open('./MSBR_cases.pbs', 'r') as file :\n",
    "#     filedata = file.read()\n",
    "#     # Replace the target string\n",
    "#     filedata = filedata.replace('substitute1', \"MSBR_cases\")\n",
    "    \n",
    "#     # Write the file out again\n",
    "#     with open('MSBR_cases.pbs', 'w', newline='\\n') as file:\n",
    "#         file.write(filedata)\n",
    "#         file.close()\n",
    "#     file.close()"
   ]
  },
  {
   "cell_type": "code",
   "execution_count": 15,
   "metadata": {},
   "outputs": [],
   "source": [
    "# with open(\"scale_beta_unix.pbs\", \"r\") as myfile:\n",
    "#     head = list(islice(myfile, 23))\n",
    "\n",
    "# # always remember, use files in a with statement\n",
    "# with open(\"MSDR_cases.pbs\", \"w\", newline='\\n') as f2:\n",
    "#     for item in head:\n",
    "#         f2.write(item)\n",
    "#     for i in range(0, len(eff_strings)):\n",
    "#         f2.write(\"cd /home/ybb/SCALE_beta/MSDR_inputs/MSDR_beta_{}/\\n\".format(eff_strings[i]))\n",
    "#         f2.write(\"/scale/release/6.3b4/linux/bin/scalerte MSDR_beta_{}.inp\\n\".format(eff_strings[i]))\n",
    "#         f2.write(\"\\n\")\n",
    "#     f2.close()\n",
    "    \n",
    "# with open('./MSDR_cases.pbs', 'r') as file :\n",
    "#     filedata = file.read()\n",
    "#     # Replace the target string\n",
    "#     filedata = filedata.replace('substitute1', \"MSDR_cases\")\n",
    "    \n",
    "#     # Write the file out again\n",
    "#     with open('MSDR_cases.pbs', 'w', newline='\\n') as file:\n",
    "#         file.write(filedata)\n",
    "#         file.close()\n",
    "#     file.close()"
   ]
  },
  {
   "cell_type": "code",
   "execution_count": 16,
   "metadata": {},
   "outputs": [],
   "source": [
    "# with open(\"scale_beta_unix.pbs\", \"r\") as myfile:\n",
    "#     head = list(islice(myfile, 23))\n",
    "\n",
    "# # always remember, use files in a with statement\n",
    "# with open(\"MSRE_cases.pbs\", \"w\", newline='\\n') as f2:\n",
    "#     for item in head:\n",
    "#         f2.write(item)\n",
    "#     for i in range(0, len(eff_strings)):\n",
    "#         f2.write(\"cd /home/ybb/SCALE_beta/MSRE_inputs/MSRE_beta_{}/\\n\".format(eff_strings[i]))\n",
    "#         f2.write(\"/scale/release/6.3b4/linux/bin/scalerte MSRE_beta_{}.inp\\n\".format(eff_strings[i]))\n",
    "#         f2.write(\"\\n\")\n",
    "#     f2.close()\n",
    "    \n",
    "# with open('./MSRE_cases.pbs', 'r') as file :\n",
    "#     filedata = file.read()\n",
    "#     # Replace the target string\n",
    "#     filedata = filedata.replace('substitute1', \"MSRE_cases\")\n",
    "    \n",
    "#     # Write the file out again\n",
    "#     with open('MSRE_cases.pbs', 'w', newline='\\n') as file:\n",
    "#         file.write(filedata)\n",
    "#         file.close()\n",
    "#     file.close()"
   ]
  },
  {
   "cell_type": "code",
   "execution_count": 17,
   "metadata": {},
   "outputs": [],
   "source": [
    "# # replacement strings\n",
    "# WINDOWS_LINE_ENDING = b'\\r\\n'\n",
    "# UNIX_LINE_ENDING = b'\\n'\n",
    "\n",
    "# # relative or absolute file path, e.g.:\n",
    "# file_path = r\"./MSRE_cases.pbs\"\n",
    "\n",
    "# with open(file_path, 'rb') as open_file:\n",
    "#     content = open_file.read()\n",
    "\n",
    "# content = content.replace(WINDOWS_LINE_ENDING, UNIX_LINE_ENDING)\n",
    "\n",
    "# with open(file_path, 'wb') as open_file:\n",
    "#     open_file.write(content)"
   ]
  },
  {
   "cell_type": "code",
   "execution_count": 56,
   "metadata": {},
   "outputs": [],
   "source": [
    "# %%bash\n",
    "# mv MSBR*.pbs ./MSBR_inputs/\n",
    "# mv MSDR*.pbs ./MSDR_inputs/\n",
    "# mv MSRE*.pbs ./MSRE_inputs/"
   ]
  }
 ],
 "metadata": {
  "kernelspec": {
   "display_name": "Python 3",
   "language": "python",
   "name": "python3"
  },
  "language_info": {
   "codemirror_mode": {
    "name": "ipython",
    "version": 3
   },
   "file_extension": ".py",
   "mimetype": "text/x-python",
   "name": "python",
   "nbconvert_exporter": "python",
   "pygments_lexer": "ipython3",
   "version": "3.7.7"
  }
 },
 "nbformat": 4,
 "nbformat_minor": 2
}
